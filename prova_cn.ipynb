{
  "nbformat": 4,
  "nbformat_minor": 0,
  "metadata": {
    "colab": {
      "provenance": [],
      "authorship_tag": "ABX9TyPOEeVDh/QoS9+XDzzXfT/R",
      "include_colab_link": true
    },
    "kernelspec": {
      "name": "python3",
      "display_name": "Python 3"
    },
    "language_info": {
      "name": "python"
    }
  },
  "cells": [
    {
      "cell_type": "markdown",
      "metadata": {
        "id": "view-in-github",
        "colab_type": "text"
      },
      "source": [
        "<a href=\"https://colab.research.google.com/github/adrianoracano/Prog-NAPDE/blob/main/prova_cn.ipynb\" target=\"_parent\"><img src=\"https://colab.research.google.com/assets/colab-badge.svg\" alt=\"Open In Colab\"/></a>"
      ]
    },
    {
      "cell_type": "code",
      "metadata": {
        "colab": {
          "base_uri": "https://localhost:8080/"
        },
        "id": "AoaLQpvChLpb",
        "outputId": "09e6b8f7-a273-4e95-bac3-5f1d579b3383"
      },
      "source": [
        "from google.colab import drive\n",
        "drive.mount('/gdrive')"
      ],
      "execution_count": 5,
      "outputs": [
        {
          "output_type": "stream",
          "name": "stdout",
          "text": [
            "Drive already mounted at /gdrive; to attempt to forcibly remount, call drive.mount(\"/gdrive\", force_remount=True).\n"
          ]
        }
      ]
    },
    {
      "cell_type": "code",
      "metadata": {
        "colab": {
          "base_uri": "https://localhost:8080/"
        },
        "id": "2ItZ794FhPQe",
        "outputId": "bded3fbc-e82a-4757-a7d4-ea2ea57b649c"
      },
      "source": [
        "%cd /gdrive/My Drive/ProgNAPDE"
      ],
      "execution_count": 6,
      "outputs": [
        {
          "output_type": "stream",
          "name": "stdout",
          "text": [
            "/gdrive/My Drive/ProgNAPDE\n"
          ]
        }
      ]
    },
    {
      "cell_type": "code",
      "source": [
        "!git clone https://github.com/adrianoracano/Prog-NAPDE.git"
      ],
      "metadata": {
        "id": "M_T_Vr-jJymR",
        "outputId": "dbf49066-87d0-4f6f-9f6e-5da1f0efa48e",
        "colab": {
          "base_uri": "https://localhost:8080/"
        }
      },
      "execution_count": 7,
      "outputs": [
        {
          "output_type": "stream",
          "name": "stdout",
          "text": [
            "Cloning into 'Prog-NAPDE'...\n",
            "remote: Enumerating objects: 29, done.\u001b[K\n",
            "remote: Counting objects: 100% (29/29), done.\u001b[K\n",
            "remote: Compressing objects: 100% (22/22), done.\u001b[K\n",
            "remote: Total 29 (delta 5), reused 20 (delta 1), pack-reused 0\u001b[K\n",
            "Unpacking objects: 100% (29/29), 8.28 KiB | 23.00 KiB/s, done.\n"
          ]
        }
      ]
    },
    {
      "cell_type": "code",
      "source": [
        "%cd /gdrive/My Drive/ProgNAPDE/Prog-NAPDE"
      ],
      "metadata": {
        "id": "xp1uV_GPKLCS",
        "outputId": "5561eae9-afcc-4be4-ea76-bb02cfd7ce3e",
        "colab": {
          "base_uri": "https://localhost:8080/"
        }
      },
      "execution_count": 8,
      "outputs": [
        {
          "output_type": "stream",
          "name": "stdout",
          "text": [
            "/gdrive/My Drive/ProgNAPDE/Prog-NAPDE\n"
          ]
        }
      ]
    },
    {
      "cell_type": "code",
      "source": [
        "# -*- coding: utf-8 -*-\n",
        "\"\"\"\n",
        "Created on Sun Mar 19 10:59:28 2023\n",
        "\n",
        "@author: alean\n",
        "\"\"\"\n",
        "\n",
        "# import matplotlib.pyplot as plt\n",
        "import numpy as np\n",
        "import matplotlib.pyplot as plt\n",
        "import math\n",
        "\n",
        "def beta(t):\n",
        "    return math.sin(t)\n",
        "def alpha(t):\n",
        "    return 3.0\n",
        "def dS(sir, t):\n",
        "    return -beta(t)*sir[0]*sir[1]\n",
        "def dI(sir, t):\n",
        "    return beta(t)*sir[0]*sir[1]-alpha(t)*sir[1]\n",
        "def dR(sir, t):\n",
        "    return alpha(t)*sir[1]\n",
        "sir_0=np.array([400., 10., 0.])\n",
        "\n",
        "sys=(dS, dI, dR)\n",
        "T=10.\n",
        "N=500\n",
        "legend=[\"S\", \"I\", \"R\"]\n",
        "\n",
        "def dx(xyz, t):\n",
        "    return 10.0*(xyz[1]-xyz[0])\n",
        "def dy(xyz, t):\n",
        "    return 28.0*xyz[0]-xyz[0]*xyz[2]-xyz[1]\n",
        "def dz(xyz, t):\n",
        "    return xyz[0]*xyz[1]-2.7*xyz[2]\n",
        "\n",
        "sys_lorenz=(dx, dy, dz)\n",
        "xyz_0=np.array([1., 1., 1.])\n",
        "\n",
        "import MyCrankNicolsonClass as cnc\n",
        "\n",
        "cnsolver= cnc.CrankNicolson(sys_lorenz, xyz_0, T, N)\n",
        "cnsolver.compute_solution()\n",
        "cnsolver.plot_solutions(legend)\n",
        "cnsolver.plot_3d()\n",
        "\n",
        "\n",
        "del cnc, np, plt, math"
      ],
      "metadata": {
        "colab": {
          "base_uri": "https://localhost:8080/",
          "height": 387
        },
        "id": "qRJGkCEGgrGr",
        "outputId": "b93eb57d-da2d-44e4-858b-18926340d213"
      },
      "execution_count": null,
      "outputs": [
        {
          "output_type": "error",
          "ename": "ModuleNotFoundError",
          "evalue": "ignored",
          "traceback": [
            "\u001b[0;31m---------------------------------------------------------------------------\u001b[0m",
            "\u001b[0;31mModuleNotFoundError\u001b[0m                       Traceback (most recent call last)",
            "\u001b[0;32m<ipython-input-4-4165bcc94055>\u001b[0m in \u001b[0;36m<cell line: 41>\u001b[0;34m()\u001b[0m\n\u001b[1;32m     39\u001b[0m \u001b[0;34m\u001b[0m\u001b[0m\n\u001b[1;32m     40\u001b[0m \u001b[0;34m\u001b[0m\u001b[0m\n\u001b[0;32m---> 41\u001b[0;31m \u001b[0;32mimport\u001b[0m \u001b[0mCrankNicolson\u001b[0m \u001b[0;32mas\u001b[0m \u001b[0mcnc\u001b[0m\u001b[0;34m\u001b[0m\u001b[0;34m\u001b[0m\u001b[0m\n\u001b[0m\u001b[1;32m     42\u001b[0m \u001b[0;34m\u001b[0m\u001b[0m\n\u001b[1;32m     43\u001b[0m \u001b[0mcnsolver\u001b[0m\u001b[0;34m=\u001b[0m \u001b[0mcnc\u001b[0m\u001b[0;34m.\u001b[0m\u001b[0mCrankNicolson\u001b[0m\u001b[0;34m(\u001b[0m\u001b[0msys_lorenz\u001b[0m\u001b[0;34m,\u001b[0m \u001b[0mxyz_0\u001b[0m\u001b[0;34m,\u001b[0m \u001b[0mT\u001b[0m\u001b[0;34m,\u001b[0m \u001b[0mN\u001b[0m\u001b[0;34m)\u001b[0m\u001b[0;34m\u001b[0m\u001b[0;34m\u001b[0m\u001b[0m\n",
            "\u001b[0;31mModuleNotFoundError\u001b[0m: No module named 'CrankNicolson'",
            "",
            "\u001b[0;31m---------------------------------------------------------------------------\u001b[0;32m\nNOTE: If your import is failing due to a missing package, you can\nmanually install dependencies using either !pip or !apt.\n\nTo view examples of installing some common dependencies, click the\n\"Open Examples\" button below.\n\u001b[0;31m---------------------------------------------------------------------------\u001b[0m\n"
          ],
          "errorDetails": {
            "actions": [
              {
                "action": "open_url",
                "actionText": "Open Examples",
                "url": "/notebooks/snippets/importing_libraries.ipynb"
              }
            ]
          }
        }
      ]
    }
  ]
}