{
  "nbformat": 4,
  "nbformat_minor": 0,
  "metadata": {
    "colab": {
      "provenance": [],
      "authorship_tag": "ABX9TyMik9FPYxuFGzE9/2hrO7hK",
      "include_colab_link": true
    },
    "kernelspec": {
      "name": "python3",
      "display_name": "Python 3"
    },
    "language_info": {
      "name": "python"
    }
  },
  "cells": [
    {
      "cell_type": "markdown",
      "metadata": {
        "id": "view-in-github",
        "colab_type": "text"
      },
      "source": [
        "<a href=\"https://colab.research.google.com/github/adrianoracano/Prog-NAPDE/blob/main/prova_cn.ipynb\" target=\"_parent\"><img src=\"https://colab.research.google.com/assets/colab-badge.svg\" alt=\"Open In Colab\"/></a>"
      ]
    },
    {
      "cell_type": "code",
      "metadata": {
        "colab": {
          "base_uri": "https://localhost:8080/"
        },
        "id": "AoaLQpvChLpb",
        "outputId": "9fda0c5c-9fcc-464a-8974-f2250bb4a5f8"
      },
      "source": [
        "from google.colab import drive\n",
        "drive.mount('/gdrive')"
      ],
      "execution_count": 1,
      "outputs": [
        {
          "output_type": "stream",
          "name": "stdout",
          "text": [
            "Mounted at /gdrive\n"
          ]
        }
      ]
    },
    {
      "cell_type": "code",
      "metadata": {
        "colab": {
          "base_uri": "https://localhost:8080/"
        },
        "id": "2ItZ794FhPQe",
        "outputId": "f5f53bc9-2e8a-4d9e-9da0-e9925fdafacd"
      },
      "source": [
        "%cd /gdrive/My Drive"
      ],
      "execution_count": 2,
      "outputs": [
        {
          "output_type": "stream",
          "name": "stdout",
          "text": [
            "/gdrive/My Drive\n"
          ]
        }
      ]
    },
    {
      "cell_type": "code",
      "source": [
        "!git clone https://github.com/adrianoracano/Prog-NAPDE.git"
      ],
      "metadata": {
        "colab": {
          "base_uri": "https://localhost:8080/"
        },
        "id": "M_T_Vr-jJymR",
        "outputId": "386dd17e-b58e-4c31-ce2c-307a71ab33ed"
      },
      "execution_count": 3,
      "outputs": [
        {
          "output_type": "stream",
          "name": "stdout",
          "text": [
            "fatal: destination path 'Prog-NAPDE' already exists and is not an empty directory.\n"
          ]
        }
      ]
    },
    {
      "cell_type": "code",
      "source": [
        "%cd /gdrive/My Drive/Prog-NAPDE"
      ],
      "metadata": {
        "colab": {
          "base_uri": "https://localhost:8080/"
        },
        "id": "xp1uV_GPKLCS",
        "outputId": "749d9203-36e1-4ee5-c951-7b2a3da7544f"
      },
      "execution_count": 4,
      "outputs": [
        {
          "output_type": "stream",
          "name": "stdout",
          "text": [
            "/gdrive/My Drive/Prog-NAPDE\n"
          ]
        }
      ]
    },
    {
      "cell_type": "code",
      "source": [
        "import numpy as np\n",
        "import tensorflow as tf\n",
        "import math\n",
        "import MyCrankNicolsonClass as cnc\n",
        "from matplotlib import pyplot as plt\n",
        "\n",
        "np.random.seed(123)\n",
        "tf.random.set_seed(123)"
      ],
      "metadata": {
        "id": "YBf2rU8o1OoZ"
      },
      "execution_count": 9,
      "outputs": []
    },
    {
      "cell_type": "markdown",
      "source": [
        "## ODE-NN\n"
      ],
      "metadata": {
        "id": "cljxosGc1CX7"
      }
    },
    {
      "cell_type": "code",
      "source": [
        "f0 = 1\n",
        "inf_s = np.sqrt(np.finfo(np.float32).eps)\n",
        "learning_rate = 0.01\n",
        "training_steps = 500\n",
        "batch_size = 100\n",
        "display_step = training_steps/10\n",
        "# Network Parameters\n",
        "n_input = 1     # input layer number of neurons\n",
        "n_hidden_1 = 32 # 1st layer number of neurons\n",
        "n_hidden_2 = 32 # 2nd layer number of neurons\n",
        "n_output = 1    # output layer number of neurons\n",
        "weights = {\n",
        "'h1': tf.Variable(tf.random.normal([n_input, n_hidden_1])),\n",
        "'h2': tf.Variable(tf.random.normal([n_hidden_1, n_hidden_2])),\n",
        "'out': tf.Variable(tf.random.normal([n_hidden_2, n_output]))\n",
        "}\n",
        "biases = {\n",
        "'b1': tf.Variable(tf.random.normal([n_hidden_1])),\n",
        "'b2': tf.Variable(tf.random.normal([n_hidden_2])),\n",
        "'out': tf.Variable(tf.random.normal([n_output]))\n",
        "}\n",
        "# Stochastic gradient descent optimizer.\n",
        "optimizer = tf.optimizers.SGD(learning_rate)\n",
        "\n",
        "# Create model\n",
        "def multilayer_perceptron(x):\n",
        "  x = np.array([[[x]]],  dtype='float32')\n",
        "  layer_1 = tf.add(tf.matmul(x, weights['h1']), biases['b1'])\n",
        "  layer_1 = tf.nn.sigmoid(layer_1)\n",
        "  layer_2 = tf.add(tf.matmul(layer_1, weights['h2']), biases['b2'])\n",
        "  layer_2 = tf.nn.sigmoid(layer_2)\n",
        "  output = tf.matmul(layer_2, weights['out']) + biases['out']\n",
        "  return output\n",
        "# Universal Approximator\n",
        "def g(x):\n",
        "  return x * multilayer_perceptron(x) + f0\n",
        "# Given EDO\n",
        "def f(x):\n",
        "  return 2*x\n",
        "# Custom loss function to approximate the derivatives\n",
        "def custom_loss():\n",
        "  summation = []\n",
        "  for x in np.linspace(-1,1,10):\n",
        "    dNN = (g(x+inf_s)-g(x))/inf_s\n",
        "    summation.append((dNN - f(x))**2)\n",
        "  return tf.sqrt(tf.reduce_mean(tf.abs(summation)))\n",
        "\n",
        "\n",
        "def train_step():\n",
        "  with tf.GradientTape() as tape:\n",
        "    loss = custom_loss()\n",
        "  trainable_variables=list(weights.values())+list(biases.values())\n",
        "  gradients = tape.gradient(loss, trainable_variables)\n",
        "  optimizer.apply_gradients(zip(gradients, trainable_variables))\n",
        "\n",
        "# Training the Model:\n",
        "for i in range(training_steps):\n",
        "  train_step()\n",
        "  if i % display_step == 0:\n",
        "    print(\"loss: %f \" % (custom_loss()))\n",
        "    \n",
        "    \n",
        "# True Solution (found analitically)\n",
        "def true_solution(x):\n",
        "  return x**2 + 1\n",
        "X = np.linspace(0, 1, 100)\n",
        "result = []\n",
        "for i in X:\n",
        "  result.append(g(i).numpy()[0][0][0])\n",
        "S = true_solution(X)\n",
        "plt.plot(X, result)\n",
        "plt.plot(X, S)\n",
        "plt.show()\n",
        "\n"
      ],
      "metadata": {
        "id": "cHFK6GnH0ghL",
        "outputId": "d135e20a-6332-44b3-828b-2e622cda6306",
        "colab": {
          "base_uri": "https://localhost:8080/",
          "height": 611
        }
      },
      "execution_count": 10,
      "outputs": [
        {
          "output_type": "stream",
          "name": "stdout",
          "text": [
            "loss: 6.805569 \n",
            "loss: 1.606954 \n",
            "loss: 0.346623 \n",
            "loss: 0.162952 \n",
            "loss: 0.104779 \n",
            "loss: 0.096562 \n",
            "loss: 0.096616 \n",
            "loss: 0.096640 \n",
            "loss: 0.096641 \n",
            "loss: 0.095905 \n"
          ]
        },
        {
          "output_type": "display_data",
          "data": {
            "text/plain": [
              "<Figure size 640x480 with 1 Axes>"
            ],
            "image/png": "[encoded data removed]"
          },
          "metadata": {}
        }
      ]
    },
    {
      "cell_type": "markdown",
      "source": [
        "## Prova"
      ],
      "metadata": {
        "id": "P-GnpARn0tJu"
      }
    },
    {
      "cell_type": "code",
      "source": [
        "f0 = 1\n",
        "inf_s = np.sqrt(np.finfo(np.float32).eps)\n",
        "learning_rate = 0.01\n",
        "training_steps = 500\n",
        "batch_size = 100\n",
        "display_step = 50\n",
        "# Network Parameters\n",
        "n_input = 2     # input layer number of neurons\n",
        "n_hidden_1 = 32 # 1st layer number of neurons\n",
        "n_hidden_2 = 32 # 2nd layer number of neurons\n",
        "n_output = 1    # output layer number of neurons\n",
        "weights = {\n",
        "'h1': tf.Variable(tf.random.normal([n_input, n_hidden_1])),\n",
        "'h2': tf.Variable(tf.random.normal([n_hidden_1, n_hidden_2])),\n",
        "'out': tf.Variable(tf.random.normal([n_hidden_2, n_output]))\n",
        "}\n",
        "biases = {\n",
        "'b1': tf.Variable(tf.random.normal([n_hidden_1])),\n",
        "'b2': tf.Variable(tf.random.normal([n_hidden_2])),\n",
        "'out': tf.Variable(tf.random.normal([n_output]))\n",
        "}\n",
        "# Stochastic gradient descent optimizer.\n",
        "optimizer = tf.optimizers.SGD(learning_rate)\n",
        "\n",
        "# Create model\n",
        "def multilayer_perceptron(x):\n",
        "  x = np.array([[[x]]],  dtype='float32')\n",
        "  layer_1 = tf.add(tf.matmul(x, weights['h1']), biases['b1'])\n",
        "  layer_1 = tf.nn.sigmoid(layer_1)\n",
        "  layer_2 = tf.add(tf.matmul(layer_1, weights['h2']), biases['b2'])\n",
        "  layer_2 = tf.nn.sigmoid(layer_2)\n",
        "  output = tf.matmul(layer_2, weights['out']) + biases['out']\n",
        "  return output\n",
        "# Universal Approximator\n",
        "def g(beta, T):\n",
        "    x = np.array([beta, T])\n",
        "    #return x * multilayer_perceptron(x)\n",
        "    return multilayer_perceptron(x)\n",
        "# Given EDO\n",
        "tau = 365.\n",
        "\n",
        "def beta_eq(T):\n",
        "    return 1.0 - T\n",
        "\n",
        "def T(t):\n",
        "    return math.cos(t)\n",
        "\n",
        "def dbeta(beta, t):\n",
        "    return 1/tau*( beta_eq(T(t)) - beta[0] )\n",
        "def dbeta_hat(beta, t):\n",
        "    return g(beta[0], T(t))\n",
        "    \n",
        "sys = [dbeta]    \n",
        "\n",
        "def f(x):\n",
        "  return 2*x\n",
        "# Custom loss function to approximate the derivatives\n",
        "\"\"\"\n",
        "def custom_loss():\n",
        "  summation = []\n",
        "  t_max=1.0\n",
        "  N=50\n",
        "  beta0=np.array([0.5])\n",
        "  cn_solver = cnc.CrankNicolson(sys, beta0, t_max, N)\n",
        "  cn_solver.compute_solution()\n",
        "  t, beta = cn_solver.get_solution()\n",
        "  sys_hat=[dbeta_hat]\n",
        "  cn_solver_hat = cnc.CrankNicolson(sys_hat, beta0, t_max, N)\n",
        "  cn_solver_hat.compute_solution()\n",
        "  t, beta_hat = cn_solver_hat.get_solution()\n",
        "  for i in range(len(beta)):\n",
        "      summation.append( ( beta[i] - beta_hat[i] )**2 )\n",
        "  return tf.sqrt(tf.reduce_mean(tf.abs(summation)))\n",
        "\"\"\"\n",
        "\n",
        "t_max=2.0\n",
        "N=500\n",
        "beta0=np.array([0.5])\n",
        "cn_solver = cnc.CrankNicolson(sys, beta0, t_max, N)\n",
        "cn_solver.compute_solution()\n",
        "t, beta = cn_solver.get_solution()\n",
        "dt = t_max /N\n",
        "\n",
        "\n",
        "def custom_loss():\n",
        "    \n",
        "    curr_beta = beta0[0]\n",
        "    next_beta = curr_beta\n",
        "    summation = []\n",
        "    for i in range(len(beta)):\n",
        "        x = np.array([curr_beta, T(i*dt)])\n",
        "        next_beta = curr_beta + dt * multilayer_perceptron( x )\n",
        "        summation.append( dt*(beta[i] - next_beta)**2 )\n",
        "        curr_beta = next_beta\n",
        "    return tf.sqrt(tf.reduce_sum(tf.abs(summation)))\n",
        "\n",
        "def train_step():\n",
        "    with tf.GradientTape() as tape:\n",
        "        loss = custom_loss()\n",
        "    trainable_variables=list(weights.values())+list(biases.values())\n",
        "    gradients = tape.gradient(loss, trainable_variables)\n",
        "    optimizer.apply_gradients(zip(gradients, trainable_variables))\n",
        "# Training the Model:\n",
        "for i in range(training_steps):\n",
        "  train_step()\n",
        "  if i % display_step == 0:\n",
        "    print(\"loss: %f \" % (custom_loss()))\n",
        "\n",
        "summation = [beta0[0]]\n",
        "curr_beta = beta0[0]\n",
        "beta_hat = np.zeros(beta.shape[1])\n",
        "for i in range(beta.shape[1]):\n",
        "    # x = np.array([curr_beta, T(i*dt)])\n",
        "    # print(curr_beta)\n",
        "    next_beta = curr_beta + dt * g( curr_beta, T(dt*i) ).numpy()[0][0][0][0]\n",
        "    beta_hat[i] = next_beta\n",
        "    curr_beta = next_beta\n",
        "    \n",
        "plt.plot(t, beta_hat)\n",
        "\n",
        "cn_solver.plot_solutions(\"soluzione vera\")\n"
      ],
      "metadata": {
        "id": "e1yTjnZ10cIh",
        "outputId": "67f4714c-fa68-4061-ffb6-1506b06288bb",
        "colab": {
          "base_uri": "https://localhost:8080/",
          "height": 611
        }
      },
      "execution_count": 5,
      "outputs": [
        {
          "output_type": "stream",
          "name": "stdout",
          "text": [
            "loss: 0.034738 \n",
            "loss: 0.034461 \n",
            "loss: 0.034185 \n",
            "loss: 0.033909 \n",
            "loss: 0.033632 \n",
            "loss: 0.033356 \n",
            "loss: 0.033079 \n",
            "loss: 0.032802 \n",
            "loss: 0.032526 \n",
            "loss: 0.032249 \n"
          ]
        },
        {
          "output_type": "display_data",
          "data": {
            "text/plain": [
              "<Figure size 640x480 with 1 Axes>"
            ],
            "image/png": "[encoded data removed]"
          },
          "metadata": {}
        }
      ]
    }
  ]
}