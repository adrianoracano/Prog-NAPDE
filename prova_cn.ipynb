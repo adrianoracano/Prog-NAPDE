{
  "nbformat": 4,
  "nbformat_minor": 0,
  "metadata": {
    "colab": {
      "provenance": [],
      "gpuType": "T4",
      "include_colab_link": true
    },
    "kernelspec": {
      "name": "python3",
      "display_name": "Python 3"
    },
    "language_info": {
      "name": "python"
    },
    "accelerator": "GPU",
    "gpuClass": "standard"
  },
  "cells": [
    {
      "cell_type": "markdown",
      "metadata": {
        "id": "view-in-github",
        "colab_type": "text"
      },
      "source": [
        "<a href=\"https://colab.research.google.com/github/adrianoracano/Prog-NAPDE/blob/main/prova_cn.ipynb\" target=\"_parent\"><img src=\"https://colab.research.google.com/assets/colab-badge.svg\" alt=\"Open In Colab\"/></a>"
      ]
    },
    {
      "cell_type": "code",
      "metadata": {
        "colab": {
          "base_uri": "https://localhost:8080/"
        },
        "id": "AoaLQpvChLpb",
        "outputId": "23f4da71-96ea-4bf4-f2ac-dfb3ddc96c86"
      },
      "source": [
        "from google.colab import drive\n",
        "drive.mount('/gdrive')"
      ],
      "execution_count": null,
      "outputs": [
        {
          "metadata": {
            "tags": null
          },
          "name": "stdout",
          "output_type": "stream",
          "text": [
            "Mounted at /gdrive\n"
          ]
        }
      ]
    },
    {
      "cell_type": "code",
      "metadata": {
        "colab": {
          "base_uri": "https://localhost:8080/"
        },
        "id": "2ItZ794FhPQe",
        "outputId": "b06ef96b-03a1-4d88-8062-1559899c8172"
      },
      "source": [
        "%cd /gdrive/My Drive"
      ],
      "execution_count": null,
      "outputs": [
        {
          "metadata": {
            "tags": null
          },
          "name": "stdout",
          "output_type": "stream",
          "text": [
            "/gdrive/My Drive\n"
          ]
        }
      ]
    },
    {
      "cell_type": "code",
      "source": [
        "!git clone https://github.com/adrianoracano/Prog-NAPDE.git"
      ],
      "metadata": {
        "colab": {
          "base_uri": "https://localhost:8080/"
        },
        "id": "M_T_Vr-jJymR",
        "outputId": "fc1fe579-b3d4-4143-fa4e-3c06bc6b1d74"
      },
      "execution_count": null,
      "outputs": [
        {
          "metadata": {
            "tags": null
          },
          "name": "stdout",
          "output_type": "stream",
          "text": [
            "fatal: destination path 'Prog-NAPDE' already exists and is not an empty directory.\n"
          ]
        }
      ]
    },
    {
      "cell_type": "code",
      "source": [
        "%cd /gdrive/My Drive/Prog-NAPDE/Prog-NAPDE"
      ],
      "metadata": {
        "colab": {
          "base_uri": "https://localhost:8080/"
        },
        "id": "xp1uV_GPKLCS",
        "outputId": "eeb1ca5b-247e-4ced-d607-8a9cfb1db041"
      },
      "execution_count": null,
      "outputs": [
        {
          "metadata": {
            "tags": null
          },
          "name": "stdout",
          "output_type": "stream",
          "text": [
            "/gdrive/My Drive/Prog-NAPDE/Prog-NAPDE\n"
          ]
        }
      ]
    },
    {
      "cell_type": "code",
      "source": [
        "import numpy as np\n",
        "import tensorflow as tf\n",
        "import math\n",
        "import MyCrankNicolsonClass as cnc\n",
        "from matplotlib import pyplot as plt\n",
        "import os\n",
        "import random\n",
        "import MyDatasetGenerator as dg\n",
        "\n",
        "tfk = tf.keras\n",
        "tfkl = tf.keras.layers\n",
        "tf.keras.backend.set_floatx('float64')\n",
        "\n",
        "np.random.seed(123)\n",
        "tf.random.set_seed(123)"
      ],
      "metadata": {
        "id": "YBf2rU8o1OoZ"
      },
      "execution_count": null,
      "outputs": []
    },
    {
      "cell_type": "markdown",
      "source": [
        "## ODE-NN\n"
      ],
      "metadata": {
        "id": "cljxosGc1CX7"
      }
    },
    {
      "cell_type": "code",
      "metadata": {
        "id": "N5nYh-mG5o_b"
      },
      "source": [
        "import tensorflow as tf\n",
        "import matplotlib.pyplot as plt\n",
        "import numpy as np\n",
        "\n",
        "np.random.seed(123)\n",
        "tf.random.set_seed(123)"
      ],
      "execution_count": null,
      "outputs": []
    },
    {
      "cell_type": "code",
      "metadata": {
        "id": "TQC1eiisMR9H"
      },
      "source": [
        "# initial condition\n",
        "f0 = 1\n",
        "# infinitesimal small number\n",
        "inf_s = np.sqrt(np.finfo(np.float32).eps)\n",
        "\n",
        "# Parameters\n",
        "learning_rate = 0.01\n",
        "training_steps = 500\n",
        "batch_size = 100\n",
        "display_step = training_steps/10\n",
        "\n",
        "# Network Parameters\n",
        "n_input = 1     # input layer number of neurons\n",
        "n_hidden_1 = 32 # 1st layer number of neurons\n",
        "n_hidden_2 = 32 # 2nd layer number of neurons\n",
        "n_output = 1    # output layer number of neurons\n",
        "\n",
        "weights = {\n",
        "    'h1': tf.Variable(tf.random.normal([n_input, n_hidden_1])),\n",
        "    'h2': tf.Variable(tf.random.normal([n_hidden_1, n_hidden_2])),\n",
        "    'out': tf.Variable(tf.random.normal([n_hidden_2, n_output]))\n",
        "}\n",
        "biases = {\n",
        "    'b1': tf.Variable(tf.random.normal([n_hidden_1])),\n",
        "    'b2': tf.Variable(tf.random.normal([n_hidden_2])),\n",
        "    'out': tf.Variable(tf.random.normal([n_output]))\n",
        "}\n",
        "\n",
        "# Stochastic gradient descent optimizer.\n",
        "optimizer = tf.optimizers.SGD(learning_rate)"
      ],
      "execution_count": null,
      "outputs": []
    },
    {
      "cell_type": "code",
      "source": [
        "# Create model\n",
        "def multilayer_perceptron(x):\n",
        "    x = np.array([[[x]]],  dtype='float32')\n",
        "    # Hidden fully connected layer with 32 neurons\n",
        "    layer_1 = tf.add(tf.matmul(x, weights['h1']), biases['b1'])\n",
        "    layer_1 = tf.nn.sigmoid(layer_1)\n",
        "    # Hidden fully connected layer with 32 neurons\n",
        "    layer_2 = tf.add(tf.matmul(layer_1, weights['h2']), biases['b2'])\n",
        "    layer_2 = tf.nn.sigmoid(layer_2)\n",
        "    # Output fully connected layer\n",
        "    output = tf.matmul(layer_2, weights['out']) + biases['out']\n",
        "    return output\n",
        "\n",
        "# Universal Approximator\n",
        "def g(x):\n",
        "    return x * multilayer_perceptron(x) + f0\n",
        "\n",
        "# Given EDO\n",
        "def f(x):\n",
        "    return 2*x\n",
        "    \n",
        "# Custom loss function to approximate the derivatives\n",
        "def custom_loss():\n",
        "    summation = []\n",
        "    for x in np.linspace(0,1,10):\n",
        "        dNN = (g(x+inf_s)-g(x))/inf_s\n",
        "        summation.append((dNN - f(x))**2)\n",
        "    return tf.reduce_sum(tf.abs(summation))"
      ],
      "metadata": {
        "id": "eN03lPNGOHGy"
      },
      "execution_count": null,
      "outputs": []
    },
    {
      "cell_type": "code",
      "source": [
        "multilayer_perceptron(1)"
      ],
      "metadata": {
        "id": "-_cHD-LPRcZf",
        "outputId": "cb8c39cd-ee3b-4baf-f734-2247c854efa9",
        "colab": {
          "base_uri": "https://localhost:8080/"
        }
      },
      "execution_count": null,
      "outputs": [
        {
          "output_type": "execute_result",
          "data": {
            "text/plain": [
              "<tf.Tensor: shape=(1, 1, 1), dtype=float32, numpy=array([[[-3.383441]]], dtype=float32)>"
            ]
          },
          "metadata": {},
          "execution_count": 15
        }
      ]
    },
    {
      "cell_type": "code",
      "metadata": {
        "id": "PCOL8GKbM3K5"
      },
      "source": [
        "def train_step():\n",
        "    with tf.GradientTape() as tape:\n",
        "        loss = custom_loss()\n",
        "    trainable_variables = list(weights.values()) + list(biases.values())\n",
        "    gradients = tape.gradient(loss, trainable_variables)\n",
        "    optimizer.apply_gradients(zip(gradients, trainable_variables))"
      ],
      "execution_count": null,
      "outputs": []
    },
    {
      "cell_type": "code",
      "metadata": {
        "colab": {
          "base_uri": "https://localhost:8080/"
        },
        "id": "RCwEn5gSOWEF",
        "outputId": "5609e2af-8943-4c87-aeb9-c8a8e312c9b5"
      },
      "source": [
        "for i in range(training_steps):\n",
        "    train_step()\n",
        "    if i % display_step == 0:\n",
        "        print(\"loss: %f \" % (custom_loss()))"
      ],
      "execution_count": null,
      "outputs": [
        {
          "output_type": "stream",
          "name": "stdout",
          "text": [
            "loss: 4216.851074 \n",
            "loss: 4.348598 \n",
            "loss: 4.212492 \n",
            "loss: 4.128182 \n",
            "loss: 4.046163 \n",
            "loss: 3.928887 \n",
            "loss: 3.629016 \n",
            "loss: 1.611184 \n",
            "loss: 0.089094 \n",
            "loss: 0.018557 \n"
          ]
        }
      ]
    },
    {
      "cell_type": "code",
      "metadata": {
        "colab": {
          "base_uri": "https://localhost:8080/",
          "height": 830
        },
        "id": "yHwDFJUJVPwq",
        "outputId": "da0676a3-11a5-4638-f1e2-cd2bbdb4a6d0"
      },
      "source": [
        "from matplotlib.pyplot import figure\n",
        "\n",
        "figure(figsize=(10,10))\n",
        "# True Solution (found analitically)\n",
        "def true_solution(x):\n",
        "    return x**2 + 1\n",
        "\n",
        "X = np.linspace(0, 1, 100)\n",
        "result = []\n",
        "for i in X:\n",
        "  # result.append(f(i))\n",
        "  result.append(g(i).numpy()[0][0][0])\n",
        "\n",
        "S = true_solution(X)\n",
        "  \n",
        "plt.plot(X, S, label=\"Original Function\")\n",
        "plt.plot(X, result, label=\"Neural Net Approximation\")\n",
        "plt.legend(loc=2, prop={'size': 20})\n",
        "plt.show()"
      ],
      "execution_count": null,
      "outputs": [
        {
          "output_type": "display_data",
          "data": {
            "text/plain": [
              "<Figure size 1000x1000 with 1 Axes>"
            ],
            "image/png": "[encoded data removed]"
          },
          "metadata": {}
        }
      ]
    },
    {
      "cell_type": "markdown",
      "source": [
        "##Ode ffnn\n",
        "\n"
      ],
      "metadata": {
        "id": "YoxL9Svy9hX8"
      }
    },
    {
      "cell_type": "code",
      "source": [
        "!reset"
      ],
      "metadata": {
        "id": "fj6lXp001J5V",
        "outputId": "0d9314ec-12af-4982-fbdc-dfe75fba4f89",
        "colab": {
          "base_uri": "https://localhost:8080/"
        }
      },
      "execution_count": null,
      "outputs": [
        {
          "output_type": "stream",
          "name": "stdout",
          "text": [
            "\u001b[m\u001b[?7h\u001b[4l\u001b>\u001b7\u001b[r\u001b[?1;3;4;6l\u001b8\r"
          ]
        }
      ]
    },
    {
      "cell_type": "code",
      "metadata": {
        "colab": {
          "base_uri": "https://localhost:8080/"
        },
        "id": "f_sOaV1Y8NsL",
        "outputId": "2e5847df-6807-42f8-974f-170fca779042"
      },
      "source": [
        "import tensorflow as tf\n",
        "import numpy as np\n",
        "import os\n",
        "import random\n",
        "import pandas as pd\n",
        "import seaborn as sns\n",
        "import matplotlib as mpl\n",
        "import matplotlib.pyplot as plt\n",
        "from sklearn.model_selection import train_test_split\n",
        "import warnings\n",
        "import logging\n",
        "\n",
        "tfk = tf.keras\n",
        "tfkl = tf.keras.layers\n",
        "print(tf.__version__)"
      ],
      "execution_count": null,
      "outputs": [
        {
          "output_type": "stream",
          "name": "stdout",
          "text": [
            "2.12.0\n"
          ]
        }
      ]
    },
    {
      "cell_type": "code",
      "source": [
        "learning_rate = 0.01\n",
        "training_steps = 500\n",
        "batch_size = 100\n",
        "display_step = training_steps/10\n",
        "inf_s = np.sqrt(np.finfo(np.float32).eps)\n",
        "f0 = 1"
      ],
      "metadata": {
        "id": "huJVSTc32aa0"
      },
      "execution_count": null,
      "outputs": []
    },
    {
      "cell_type": "code",
      "metadata": {
        "id": "PkccDbv-bzKr"
      },
      "source": [
        "# Build the neural network layer by layer\n",
        "input_layer = tfkl.Input(shape=(1), name='Input')\n",
        "hidden_layer1 = tfkl.Dense(units=64, activation='relu', name='Hidden1')(input_layer)\n",
        "hidden_layer2 = tfkl.Dense(units=64, activation='relu', name='Hidden2')(hidden_layer1)\n",
        "output_layer = tfkl.Dense(units=1, activation='linear', name='Output')(hidden_layer2)\n",
        "\n",
        "# Connect input and output through the Model class\n",
        "model = tfk.Model(inputs=input_layer, outputs=output_layer, name='FFNN')"
      ],
      "execution_count": null,
      "outputs": []
    },
    {
      "cell_type": "code",
      "source": [
        "y = np.array([[1]])\n",
        "model(y).numpy()[0][0]"
      ],
      "metadata": {
        "id": "9-Li9yHvtxX9",
        "outputId": "599ec267-03bf-428b-cf12-7a923d11fbc2",
        "colab": {
          "base_uri": "https://localhost:8080/"
        }
      },
      "execution_count": null,
      "outputs": [
        {
          "output_type": "execute_result",
          "data": {
            "text/plain": [
              "0.041242518"
            ]
          },
          "metadata": {},
          "execution_count": 15
        }
      ]
    },
    {
      "cell_type": "code",
      "source": [
        "optimizer = tfk.optimizers.SGD(learning_rate=1e-2)"
      ],
      "metadata": {
        "id": "MbmcJ4kjiSgw"
      },
      "execution_count": null,
      "outputs": []
    },
    {
      "cell_type": "code",
      "source": [
        "# Universal Approximator\n",
        "def f(x):\n",
        "    return x**2 + 1\n",
        "\n",
        "def g(x):\n",
        "    return x * model(np.array([x])) + f0\n",
        "    \n",
        "def custom_loss():\n",
        "    summation = []\n",
        "    for x in np.linspace(0,1,10):\n",
        "        dNN = (g(x+inf_s)-g(x))/inf_s\n",
        "        summation.append((dNN - f(x))**2)\n",
        "    return tf.reduce_sum(tf.abs(summation))\n",
        "\n",
        "def train_step():\n",
        "    with tf.GradientTape() as tape:\n",
        "        loss = custom_loss()\n",
        "    gradients = tape.gradient(loss, model.trainable_variables)\n",
        "    optimizer.apply_gradients(zip(gradients, model.trainable_variables))"
      ],
      "metadata": {
        "id": "hw3ERIrHc7z2"
      },
      "execution_count": null,
      "outputs": []
    },
    {
      "cell_type": "code",
      "source": [
        "for i in range(training_steps):\n",
        "    train_step()\n",
        "    if i % display_step == 0:\n",
        "        print(\"loss: %f \" % (custom_loss()))"
      ],
      "metadata": {
        "id": "5O6Qg96CfInU",
        "outputId": "fbefd279-6e1f-442e-e829-d95a9481a438",
        "colab": {
          "base_uri": "https://localhost:8080/"
        }
      },
      "execution_count": null,
      "outputs": [
        {
          "output_type": "stream",
          "name": "stdout",
          "text": [
            "loss: 2.097122 \n",
            "loss: 0.063623 \n",
            "loss: 0.062680 \n",
            "loss: 0.058569 \n",
            "loss: 0.048885 \n",
            "loss: 0.041855 \n",
            "loss: 0.042228 \n",
            "loss: 0.048908 \n",
            "loss: 0.054025 \n",
            "loss: 0.044953 \n"
          ]
        }
      ]
    },
    {
      "cell_type": "code",
      "metadata": {
        "colab": {
          "base_uri": "https://localhost:8080/",
          "height": 834
        },
        "outputId": "0b8ec1ae-776b-478c-df4e-c83a1b4b9595",
        "id": "d64Qh-3Ge9o3"
      },
      "source": [
        "from matplotlib.pyplot import figure\n",
        "\n",
        "figure(figsize=(10,10))\n",
        "# True Solution (found analitically)\n",
        "def true_solution(x):\n",
        "    return x**2 + 1\n",
        "\n",
        "X = np.linspace(0, 1, 100)\n",
        "result = []\n",
        "for i in X:\n",
        "  # result.append(f(i))\n",
        "  result.append(g(i).numpy()[0][0])\n",
        "\n",
        "S = true_solution(X)\n",
        "  \n",
        "plt.plot(X, S, label=\"Original Function\")\n",
        "plt.plot(X, result, label=\"Neural Net Approximation\")\n",
        "plt.legend(loc=2, prop={'size': 20})\n",
        "plt.show()"
      ],
      "execution_count": null,
      "outputs": [
        {
          "output_type": "display_data",
          "data": {
            "text/plain": [
              "<Figure size 1000x1000 with 1 Axes>"
            ],
            "image/png": "[encoded data removed]"
          },
          "metadata": {}
        }
      ]
    },
    {
      "cell_type": "markdown",
      "source": [
        "##ffnn nostro problema"
      ],
      "metadata": {
        "id": "_XHbnoq-31ih"
      }
    },
    {
      "cell_type": "code",
      "metadata": {
        "colab": {
          "base_uri": "https://localhost:8080/"
        },
        "outputId": "9818acc5-90d8-4f76-aa45-bbbd2686cb31",
        "id": "XjUv6a_v4fxk"
      },
      "source": [
        "import tensorflow as tf\n",
        "import numpy as np\n",
        "import os\n",
        "import random\n",
        "import pandas as pd\n",
        "import seaborn as sns\n",
        "import matplotlib as mpl\n",
        "import matplotlib.pyplot as plt\n",
        "from sklearn.model_selection import train_test_split\n",
        "import warnings\n",
        "import logging\n",
        "\n",
        "tfk = tf.keras\n",
        "tfkl = tf.keras.layers\n",
        "print(tf.__version__)"
      ],
      "execution_count": null,
      "outputs": [
        {
          "output_type": "stream",
          "name": "stdout",
          "text": [
            "2.12.0\n"
          ]
        }
      ]
    },
    {
      "cell_type": "code",
      "source": [
        "input_layer = tfkl.Input(shape=(2), name='Input')\n",
        "hidden_layer1 = tfkl.Dense(units=64, activation='relu', name='Hidden1')(input_layer)\n",
        "hidden_layer2 = tfkl.Dense(units=64, activation='relu', name='Hidden2')(hidden_layer1)\n",
        "output_layer = tfkl.Dense(units=1, activation='linear', name='Output')(hidden_layer2)\n",
        "\n",
        "# Connect input and output through the Model class\n",
        "model2 = tfk.Model(inputs=input_layer, outputs=output_layer, name='FFNN2')"
      ],
      "metadata": {
        "id": "wrrf-BFojcd7"
      },
      "execution_count": null,
      "outputs": []
    },
    {
      "cell_type": "code",
      "source": [
        "optimizer = tfk.optimizers.SGD(learning_rate=1e-2)"
      ],
      "metadata": {
        "id": "DSFG4JQB4E_1"
      },
      "execution_count": null,
      "outputs": []
    },
    {
      "cell_type": "code",
      "source": [
        "x = np.array([[1,2]])\n",
        "model2(x)\n"
      ],
      "metadata": {
        "id": "pjmtsUy3joy2",
        "outputId": "73a1ac83-3adf-497d-a481-08a4bd78772e",
        "colab": {
          "base_uri": "https://localhost:8080/"
        }
      },
      "execution_count": null,
      "outputs": [
        {
          "output_type": "execute_result",
          "data": {
            "text/plain": [
              "<tf.Tensor: shape=(1, 1), dtype=float32, numpy=array([[-0.20769306]], dtype=float32)>"
            ]
          },
          "metadata": {},
          "execution_count": 41
        }
      ]
    },
    {
      "cell_type": "code",
      "source": [
        "learning_rate = 0.01\n",
        "training_steps = 500\n",
        "batch_size = 100\n",
        "display_step = training_steps/10"
      ],
      "metadata": {
        "id": "e-pNMHs92q3w"
      },
      "execution_count": null,
      "outputs": []
    },
    {
      "cell_type": "code",
      "source": [
        "tau = 365\n",
        "def g2(beta, T):\n",
        "    x = np.array([[beta, T]])\n",
        "    #return x * multilayer_perceptron(x)\n",
        "    return model2(x)\n",
        "def beta_eq(T):\n",
        "    return (35 - T)/T\n",
        "def T(t):\n",
        "    return math.exp(-(t - 180)**2/(2*80**2))/(math.sqrt(2*math.pi)*80)*300*5*2.6 + 5 \n",
        "def dbeta(beta, t):\n",
        "    return 1/tau*(beta_eq(T(t)) - beta[0])\n",
        "def dbeta_hat(beta, t):\n",
        "    return g(beta[0], T(t))\n",
        "\n",
        "sys = [dbeta]    \n",
        "\n",
        "t_max=365.0\n",
        "N=500\n",
        "beta0=np.array([0.5])\n",
        "cn_solver = cnc.CrankNicolson(sys, beta0, t_max, N)\n",
        "cn_solver.compute_solution()\n",
        "t, beta = cn_solver.get_solution()\n",
        "dt = t_max /N"
      ],
      "metadata": {
        "id": "i3pBMm8PjTRL"
      },
      "execution_count": null,
      "outputs": []
    },
    {
      "cell_type": "code",
      "source": [
        "beta.shape\n",
        "beta[0][30]"
      ],
      "metadata": {
        "id": "rUemkze2phs0",
        "outputId": "e0862b65-dd91-469a-d344-b65238bbc8f8",
        "colab": {
          "base_uri": "https://localhost:8080/"
        }
      },
      "execution_count": null,
      "outputs": [
        {
          "output_type": "execute_result",
          "data": {
            "text/plain": [
              "0.6997887005569842"
            ]
          },
          "metadata": {},
          "execution_count": 33
        }
      ]
    },
    {
      "cell_type": "code",
      "source": [
        "g2(1,2) + 1\n"
      ],
      "metadata": {
        "id": "0Z47fuKduKd_",
        "outputId": "311146d3-cfa2-4ccd-8fc5-ab203f3e90e6",
        "colab": {
          "base_uri": "https://localhost:8080/"
        }
      },
      "execution_count": null,
      "outputs": [
        {
          "output_type": "execute_result",
          "data": {
            "text/plain": [
              "<tf.Tensor: shape=(1, 1), dtype=float32, numpy=array([[0.79230696]], dtype=float32)>"
            ]
          },
          "metadata": {},
          "execution_count": 43
        }
      ]
    },
    {
      "cell_type": "code",
      "source": [
        "def custom_loss2():\n",
        "    curr_beta = beta0[0]\n",
        "    next_beta = curr_beta\n",
        "    summation = []\n",
        "    for i in range(len(beta)-1):\n",
        "        next_beta = curr_beta + dt * g2(curr_beta,T(i*dt))\n",
        "        summation.append((beta[0][i+1] - next_beta)**2 )\n",
        "        curr_beta = next_beta.numpy()[0][0]\n",
        "    return tf.sqrt(tf.reduce_sum(tf.abs(summation)))\n",
        "\n",
        "def train_step2():\n",
        "    with tf.GradientTape() as tape:\n",
        "        loss = custom_loss2()\n",
        "    gradients = tape.gradient(loss, model2.trainable_variables)\n",
        "    print(gradients)\n",
        "    optimizer.apply_gradients(zip(gradients, model2.trainable_variables))"
      ],
      "metadata": {
        "id": "oILX_c6MkdBD"
      },
      "execution_count": null,
      "outputs": []
    },
    {
      "cell_type": "code",
      "source": [
        "curr_beta = beta0[0]\n",
        "next_beta = curr_beta\n",
        "next_beta = curr_beta + dt * g2(curr_beta,T(1*dt))\n",
        "next_beta\n",
        "(beta[0][1] - next_beta)**2"
      ],
      "metadata": {
        "id": "87J5I-FuzcOo",
        "outputId": "715306a9-1698-4c67-ab23-e9d15b6401f2",
        "colab": {
          "base_uri": "https://localhost:8080/"
        }
      },
      "execution_count": null,
      "outputs": [
        {
          "output_type": "execute_result",
          "data": {
            "text/plain": [
              "<tf.Tensor: shape=(1, 1), dtype=float32, numpy=array([[0.7952166]], dtype=float32)>"
            ]
          },
          "metadata": {},
          "execution_count": 61
        }
      ]
    },
    {
      "cell_type": "code",
      "source": [
        "for i in range(training_steps):\n",
        "  train_step2()\n",
        "  if i % display_step == 0:\n",
        "    print(\"loss: %f \" % (custom_loss2()))"
      ],
      "metadata": {
        "id": "jmPK62aVoAp1",
        "outputId": "b5e5ee5b-f5f8-4704-f25f-223183e6d3c2",
        "colab": {
          "base_uri": "https://localhost:8080/",
          "height": 1000
        }
      },
      "execution_count": null,
      "outputs": [
        {
          "output_type": "stream",
          "name": "stdout",
          "text": [
            "[None, None, None, None, None, None]\n"
          ]
        },
        {
          "output_type": "error",
          "ename": "ValueError",
          "evalue": "ignored",
          "traceback": [
            "\u001b[0;31m---------------------------------------------------------------------------\u001b[0m",
            "\u001b[0;31mValueError\u001b[0m                                Traceback (most recent call last)",
            "\u001b[0;32m<ipython-input-58-65eada966050>\u001b[0m in \u001b[0;36m<cell line: 1>\u001b[0;34m()\u001b[0m\n\u001b[1;32m      1\u001b[0m \u001b[0;32mfor\u001b[0m \u001b[0mi\u001b[0m \u001b[0;32min\u001b[0m \u001b[0mrange\u001b[0m\u001b[0;34m(\u001b[0m\u001b[0mtraining_steps\u001b[0m\u001b[0;34m)\u001b[0m\u001b[0;34m:\u001b[0m\u001b[0;34m\u001b[0m\u001b[0;34m\u001b[0m\u001b[0m\n\u001b[0;32m----> 2\u001b[0;31m   \u001b[0mtrain_step2\u001b[0m\u001b[0;34m(\u001b[0m\u001b[0;34m)\u001b[0m\u001b[0;34m\u001b[0m\u001b[0;34m\u001b[0m\u001b[0m\n\u001b[0m\u001b[1;32m      3\u001b[0m   \u001b[0;32mif\u001b[0m \u001b[0mi\u001b[0m \u001b[0;34m%\u001b[0m \u001b[0mdisplay_step\u001b[0m \u001b[0;34m==\u001b[0m \u001b[0;36m0\u001b[0m\u001b[0;34m:\u001b[0m\u001b[0;34m\u001b[0m\u001b[0;34m\u001b[0m\u001b[0m\n\u001b[1;32m      4\u001b[0m     \u001b[0mprint\u001b[0m\u001b[0;34m(\u001b[0m\u001b[0;34m\"loss: %f \"\u001b[0m \u001b[0;34m%\u001b[0m \u001b[0;34m(\u001b[0m\u001b[0mcustom_loss2\u001b[0m\u001b[0;34m(\u001b[0m\u001b[0;34m)\u001b[0m\u001b[0;34m)\u001b[0m\u001b[0;34m)\u001b[0m\u001b[0;34m\u001b[0m\u001b[0;34m\u001b[0m\u001b[0m\n",
            "\u001b[0;32m<ipython-input-57-2804fd307aca>\u001b[0m in \u001b[0;36mtrain_step2\u001b[0;34m()\u001b[0m\n\u001b[1;32m     14\u001b[0m     \u001b[0mgradients\u001b[0m \u001b[0;34m=\u001b[0m \u001b[0mtape\u001b[0m\u001b[0;34m.\u001b[0m\u001b[0mgradient\u001b[0m\u001b[0;34m(\u001b[0m\u001b[0mloss\u001b[0m\u001b[0;34m,\u001b[0m \u001b[0mmodel2\u001b[0m\u001b[0;34m.\u001b[0m\u001b[0mtrainable_variables\u001b[0m\u001b[0;34m)\u001b[0m\u001b[0;34m\u001b[0m\u001b[0;34m\u001b[0m\u001b[0m\n\u001b[1;32m     15\u001b[0m     \u001b[0mprint\u001b[0m\u001b[0;34m(\u001b[0m\u001b[0mgradients\u001b[0m\u001b[0;34m)\u001b[0m\u001b[0;34m\u001b[0m\u001b[0;34m\u001b[0m\u001b[0m\n\u001b[0;32m---> 16\u001b[0;31m     \u001b[0moptimizer\u001b[0m\u001b[0;34m.\u001b[0m\u001b[0mapply_gradients\u001b[0m\u001b[0;34m(\u001b[0m\u001b[0mzip\u001b[0m\u001b[0;34m(\u001b[0m\u001b[0mgradients\u001b[0m\u001b[0;34m,\u001b[0m \u001b[0mmodel2\u001b[0m\u001b[0;34m.\u001b[0m\u001b[0mtrainable_variables\u001b[0m\u001b[0;34m)\u001b[0m\u001b[0;34m)\u001b[0m\u001b[0;34m\u001b[0m\u001b[0;34m\u001b[0m\u001b[0m\n\u001b[0m",
            "\u001b[0;32m/usr/local/lib/python3.10/dist-packages/keras/optimizers/optimizer.py\u001b[0m in \u001b[0;36mapply_gradients\u001b[0;34m(self, grads_and_vars, name, skip_gradients_aggregation, **kwargs)\u001b[0m\n\u001b[1;32m   1171\u001b[0m         )\n\u001b[1;32m   1172\u001b[0m         \u001b[0;32mif\u001b[0m \u001b[0;32mnot\u001b[0m \u001b[0mskip_gradients_aggregation\u001b[0m \u001b[0;32mand\u001b[0m \u001b[0mexperimental_aggregate_gradients\u001b[0m\u001b[0;34m:\u001b[0m\u001b[0;34m\u001b[0m\u001b[0;34m\u001b[0m\u001b[0m\n\u001b[0;32m-> 1173\u001b[0;31m             \u001b[0mgrads_and_vars\u001b[0m \u001b[0;34m=\u001b[0m \u001b[0mself\u001b[0m\u001b[0;34m.\u001b[0m\u001b[0maggregate_gradients\u001b[0m\u001b[0;34m(\u001b[0m\u001b[0mgrads_and_vars\u001b[0m\u001b[0;34m)\u001b[0m\u001b[0;34m\u001b[0m\u001b[0;34m\u001b[0m\u001b[0m\n\u001b[0m\u001b[1;32m   1174\u001b[0m         \u001b[0;32mreturn\u001b[0m \u001b[0msuper\u001b[0m\u001b[0;34m(\u001b[0m\u001b[0;34m)\u001b[0m\u001b[0;34m.\u001b[0m\u001b[0mapply_gradients\u001b[0m\u001b[0;34m(\u001b[0m\u001b[0mgrads_and_vars\u001b[0m\u001b[0;34m,\u001b[0m \u001b[0mname\u001b[0m\u001b[0;34m=\u001b[0m\u001b[0mname\u001b[0m\u001b[0;34m)\u001b[0m\u001b[0;34m\u001b[0m\u001b[0;34m\u001b[0m\u001b[0m\n\u001b[1;32m   1175\u001b[0m \u001b[0;34m\u001b[0m\u001b[0m\n",
            "\u001b[0;32m/usr/local/lib/python3.10/dist-packages/keras/optimizers/optimizer.py\u001b[0m in \u001b[0;36maggregate_gradients\u001b[0;34m(self, grads_and_vars)\u001b[0m\n\u001b[1;32m   1137\u001b[0m           \u001b[0mList\u001b[0m \u001b[0mof\u001b[0m \u001b[0;34m(\u001b[0m\u001b[0mgradient\u001b[0m\u001b[0;34m,\u001b[0m \u001b[0mvariable\u001b[0m\u001b[0;34m)\u001b[0m \u001b[0mpairs\u001b[0m\u001b[0;34m.\u001b[0m\u001b[0;34m\u001b[0m\u001b[0;34m\u001b[0m\u001b[0m\n\u001b[1;32m   1138\u001b[0m         \"\"\"\n\u001b[0;32m-> 1139\u001b[0;31m         \u001b[0;32mreturn\u001b[0m \u001b[0moptimizer_utils\u001b[0m\u001b[0;34m.\u001b[0m\u001b[0mall_reduce_sum_gradients\u001b[0m\u001b[0;34m(\u001b[0m\u001b[0mgrads_and_vars\u001b[0m\u001b[0;34m)\u001b[0m\u001b[0;34m\u001b[0m\u001b[0;34m\u001b[0m\u001b[0m\n\u001b[0m\u001b[1;32m   1140\u001b[0m \u001b[0;34m\u001b[0m\u001b[0m\n\u001b[1;32m   1141\u001b[0m     def apply_gradients(\n",
            "\u001b[0;32m/usr/local/lib/python3.10/dist-packages/keras/optimizers/utils.py\u001b[0m in \u001b[0;36mall_reduce_sum_gradients\u001b[0;34m(grads_and_vars)\u001b[0m\n\u001b[1;32m     31\u001b[0m     \"\"\"\n\u001b[1;32m     32\u001b[0m     \u001b[0mgrads_and_vars\u001b[0m \u001b[0;34m=\u001b[0m \u001b[0mlist\u001b[0m\u001b[0;34m(\u001b[0m\u001b[0mgrads_and_vars\u001b[0m\u001b[0;34m)\u001b[0m\u001b[0;34m\u001b[0m\u001b[0;34m\u001b[0m\u001b[0m\n\u001b[0;32m---> 33\u001b[0;31m     \u001b[0mfiltered_grads_and_vars\u001b[0m \u001b[0;34m=\u001b[0m \u001b[0mfilter_empty_gradients\u001b[0m\u001b[0;34m(\u001b[0m\u001b[0mgrads_and_vars\u001b[0m\u001b[0;34m)\u001b[0m\u001b[0;34m\u001b[0m\u001b[0;34m\u001b[0m\u001b[0m\n\u001b[0m\u001b[1;32m     34\u001b[0m     \u001b[0;32mif\u001b[0m \u001b[0mfiltered_grads_and_vars\u001b[0m\u001b[0;34m:\u001b[0m\u001b[0;34m\u001b[0m\u001b[0;34m\u001b[0m\u001b[0m\n\u001b[1;32m     35\u001b[0m         \u001b[0;32mif\u001b[0m \u001b[0mtf\u001b[0m\u001b[0;34m.\u001b[0m\u001b[0m__internal__\u001b[0m\u001b[0;34m.\u001b[0m\u001b[0mdistribute\u001b[0m\u001b[0;34m.\u001b[0m\u001b[0mstrategy_supports_no_merge_call\u001b[0m\u001b[0;34m(\u001b[0m\u001b[0;34m)\u001b[0m\u001b[0;34m:\u001b[0m\u001b[0;34m\u001b[0m\u001b[0;34m\u001b[0m\u001b[0m\n",
            "\u001b[0;32m/usr/local/lib/python3.10/dist-packages/keras/optimizers/utils.py\u001b[0m in \u001b[0;36mfilter_empty_gradients\u001b[0;34m(grads_and_vars)\u001b[0m\n\u001b[1;32m     75\u001b[0m     \u001b[0;32mif\u001b[0m \u001b[0;32mnot\u001b[0m \u001b[0mfiltered\u001b[0m\u001b[0;34m:\u001b[0m\u001b[0;34m\u001b[0m\u001b[0;34m\u001b[0m\u001b[0m\n\u001b[1;32m     76\u001b[0m         \u001b[0mvariable\u001b[0m \u001b[0;34m=\u001b[0m \u001b[0;34m(\u001b[0m\u001b[0;34m[\u001b[0m\u001b[0mv\u001b[0m\u001b[0;34m.\u001b[0m\u001b[0mname\u001b[0m \u001b[0;32mfor\u001b[0m \u001b[0m_\u001b[0m\u001b[0;34m,\u001b[0m \u001b[0mv\u001b[0m \u001b[0;32min\u001b[0m \u001b[0mgrads_and_vars\u001b[0m\u001b[0;34m]\u001b[0m\u001b[0;34m,\u001b[0m\u001b[0;34m)\u001b[0m\u001b[0;34m\u001b[0m\u001b[0;34m\u001b[0m\u001b[0m\n\u001b[0;32m---> 77\u001b[0;31m         raise ValueError(\n\u001b[0m\u001b[1;32m     78\u001b[0m             \u001b[0;34mf\"No gradients provided for any variable: {variable}. \"\u001b[0m\u001b[0;34m\u001b[0m\u001b[0;34m\u001b[0m\u001b[0m\n\u001b[1;32m     79\u001b[0m             \u001b[0;34mf\"Provided `grads_and_vars` is {grads_and_vars}.\"\u001b[0m\u001b[0;34m\u001b[0m\u001b[0;34m\u001b[0m\u001b[0m\n",
            "\u001b[0;31mValueError\u001b[0m: No gradients provided for any variable: (['Hidden1/kernel:0', 'Hidden1/bias:0', 'Hidden2/kernel:0', 'Hidden2/bias:0', 'Output/kernel:0', 'Output/bias:0'],). Provided `grads_and_vars` is ((None, <tf.Variable 'Hidden1/kernel:0' shape=(2, 64) dtype=float32, numpy=\narray([[-0.20336142, -0.11026752, -0.2957842 ,  0.12725702,  0.10361117,\n         0.13188729,  0.25053596,  0.06559336,  0.1502772 ,  0.27839082,\n         0.28353393, -0.29525   , -0.26684242, -0.16970502,  0.17218119,\n        -0.13878731, -0.02396548, -0.1467911 ,  0.2518211 ,  0.09521517,\n        -0.17527473,  0.19377464, -0.29015228, -0.07857281, -0.10219991,\n         0.27059627,  0.16678962, -0.27460244, -0.25905842, -0.19260189,\n         0.03919393,  0.11006644, -0.1893855 , -0.17374781,  0.0228301 ,\n        -0.0618052 , -0.29974252,  0.03392109, -0.16848052, -0.18439713,\n        -0.23407029,  0.08066145, -0.04234296,  0.24695909,  0.0521853 ,\n        -0.17212074, -0.09509327,  0.04817268,  0.21068686, -0.03006923,\n         0.00543135, -0.03705698,  0.12916258, -0.10627763,  0.24725562,\n        -0.06066509, -0.13081488,  0.05878896, -0.22710447, -0.1895213 ,\n         0.01777896, -0.05776025, -0.29970255,  0.07615313],\n       [-0.13719699,  0.07662159,  0.29557836,  0.26751482, -0.1790407 ,\n         0.2651481 , -0.23955576, -0.1946421 , -0.10219646, -0.1583571 ,\n         0.09902486,  0.2805882 ,  0.00119236,  0.28805816,  0.15763423,\n        -0.251427  ,  0.22966886, -0.24493635, -0.16608426, -0.16030651,\n         0.07416657, -0.17646293,  0.11119679, -0.14344387,  0.18955228,\n         0.16340801, -0.21578309, -0.13977668,  0.18533811, -0.07120839,\n        -0.19273101, -0.2446631 , -0.22009647, -0.27046728,  0.12537313,\n         0.04870903,  0.23725075,  0.13488808,  0.0479438 ,  0.29423112,\n         0.21732628,  0.10952854,  0.16218409, -0.0664404 , -0.03723711,\n         0.2762128 , -0.00114405, -0.05412607, -0.14252704,  0.063133  ,\n         0.03415149, -0.29294556,  0.29736108,  0.17254934, -0.21503648,\n        -0.06130056,  0.16970098, -0.23062444,  0.27105856,  0.1902746 ,\n         0.2914157 ,  0.24556327,  0.05864674, -0.23489577]],\n      dtype=float32)>), (None, <tf.Variable 'Hidden1/bias:0' shape=(64,) dtype=float32, numpy=\narray([0., 0., 0., 0., 0., 0., 0., 0., 0., 0., 0., 0., 0., 0., 0., 0., 0.,\n       0., 0., 0., 0., 0., 0., 0., 0., 0., 0., 0., 0., 0., 0., 0., 0., 0.,\n       0., 0., 0., 0., 0., 0., 0., 0., 0., 0., 0., 0., 0., 0., 0., 0., 0.,\n       0., 0., 0., 0., 0., 0., 0., 0., 0., 0., 0., 0., 0.], dtype=float32)>), (None, <tf.Variable 'Hidden2/kernel:0' shape=(64, 64) dtype=float32, numpy=\narray([[-0.01587707,  0.05063413, -0.06075056, ...,  0.17629607,\n        -0.08765171, -0.03087661],\n       [-0.02071424,  0.13028924, -0.20673794, ..., -0.21079996,\n        -0.12239268, -0.0637712 ],\n       [-0.04892834, -0.00061741, -0.20209056, ...,  0.02790536,\n        -0.04343018, -0.16116805],\n       ...,\n       [ 0.10232948,  0.1515827 , -0.14574528, ...,  0.05173101,\n        -0.0838097 , -0.04559194],\n       [ 0.17358716,  0.05882512, -0.05392677, ..., -0.01858191,\n        -0.204873  , -0.0618452 ],\n       [ 0.21185361, -0.09836088, -0.00082591, ...,  0.03358568,\n         0.04577847, -0.15869167]], dtype=float32)>), (None, <tf.Variable 'Hidden2/bias:0' shape=(64,) dtype=float32, numpy=\narray([0., 0., 0., 0., 0., 0., 0., 0., 0., 0., 0., 0., 0., 0., 0., 0., 0.,\n       0., 0., 0., 0., 0., 0., 0., 0., 0., 0., 0., 0., 0., 0., 0., 0., 0.,\n       0., 0., 0., 0., 0., 0., 0., 0., 0., 0., 0., 0., 0., 0., 0., 0., 0.,\n       0., 0., 0., 0., 0., 0., 0., 0., 0., 0., 0., 0., 0.], dtype=float32)>), (None, <tf.Variable 'Output/kernel:0' shape=(64, 1) dtype=float32, numpy=\narray([[-0.03523013],\n       [-0.02533194],\n       [-0.00848734],\n       [ 0.05320749],\n       [-0.05291608],\n       [ 0.25296187],\n       [-0.21560672],\n       [-0.26868105],\n       [ 0.05799714],\n       [-0.04811338],\n       [ 0.21642661],\n       [ 0.06288379],\n       [-0.15423547],\n       [-0.26095763],\n       [-0.1643795 ],\n       [ 0.21794343],\n       [ 0.08201239],\n       [ 0.0730004 ],\n       [-0.0927176 ],\n       [ 0.29436564],\n       [ 0.03085995],\n       [-0.2154738 ],\n       [ 0.20159793],\n       [ 0.29578263],\n       [-0.11213595],\n       [ 0.20237446],\n       [ 0.18395728],\n       [-0.16008148],\n       [-0.09988913],\n       [-0.0684928 ],\n       [-0.1871782 ],\n       [-0.10928883],\n       [ 0.24392563],\n       [ 0.11963207],\n       [ 0.18585181],\n       [-0.16654335],\n       [-0.20137173],\n       [-0.1205581 ],\n       [ 0.2021963 ],\n       [ 0.10105145],\n       [ 0.1631949 ],\n       [ 0.07489982],\n       [ 0.26259363],\n       [ 0.01515067],\n       [ 0.08738726],\n       [ 0.26231867],\n       [-0.18638906],\n       [ 0.01580852],\n       [-0.07521963],\n       [ 0.22322595],\n       [-0.02135217],\n       [-0.00992405],\n       [ 0.10650861],\n       [ 0.29260063],\n       [-0.1684162 ],\n       [-0.26341975],\n       [ 0.2309044 ],\n       [-0.2195656 ],\n       [ 0.2596408 ],\n       [-0.15076394],\n       [-0.21561912],\n       [ 0.17189106],\n       [-0.25141048],\n       [ 0.1844745 ]], dtype=float32)>), (None, <tf.Variable 'Output/bias:0' shape=(1,) dtype=float32, numpy=array([0.], dtype=float32)>))."
          ]
        }
      ]
    },
    {
      "cell_type": "code",
      "source": [],
      "metadata": {
        "id": "DqHhdfMny3eo",
        "outputId": "4ee32cc0-b4cc-406c-c076-b940859b7263",
        "colab": {
          "base_uri": "https://localhost:8080/",
          "height": 188
        }
      },
      "execution_count": null,
      "outputs": [
        {
          "output_type": "error",
          "ename": "NameError",
          "evalue": "ignored",
          "traceback": [
            "\u001b[0;31m---------------------------------------------------------------------------\u001b[0m",
            "\u001b[0;31mNameError\u001b[0m                                 Traceback (most recent call last)",
            "\u001b[0;32m<ipython-input-56-77bafa173009>\u001b[0m in \u001b[0;36m<cell line: 1>\u001b[0;34m()\u001b[0m\n\u001b[0;32m----> 1\u001b[0;31m \u001b[0mgradients\u001b[0m \u001b[0;34m=\u001b[0m \u001b[0mtape\u001b[0m\u001b[0;34m.\u001b[0m\u001b[0mgradient\u001b[0m\u001b[0;34m(\u001b[0m\u001b[0mloss\u001b[0m\u001b[0;34m,\u001b[0m \u001b[0mmodel2\u001b[0m\u001b[0;34m.\u001b[0m\u001b[0mtrainable_variables\u001b[0m\u001b[0;34m)\u001b[0m\u001b[0;34m\u001b[0m\u001b[0;34m\u001b[0m\u001b[0m\n\u001b[0m\u001b[1;32m      2\u001b[0m \u001b[0mprint\u001b[0m\u001b[0;34m(\u001b[0m\u001b[0mgradients\u001b[0m\u001b[0;34m)\u001b[0m\u001b[0;34m\u001b[0m\u001b[0;34m\u001b[0m\u001b[0m\n",
            "\u001b[0;31mNameError\u001b[0m: name 'tape' is not defined"
          ]
        }
      ]
    },
    {
      "cell_type": "code",
      "source": [
        "summation = [beta0[0]]\n",
        "curr_beta = beta0[0]\n",
        "beta_hat = np.zeros(beta.shape[1])\n",
        "for i in range(beta.shape[1]):\n",
        "    # x = np.array([curr_beta, T(i*dt)])\n",
        "    # print(curr_beta)\n",
        "    next_beta = curr_beta + dt * g2(curr_beta, T(dt*i)).numpy()[0][0]\n",
        "    beta_hat[i] = next_beta\n",
        "    curr_beta = next_beta\n",
        "    \n",
        "plt.plot(t, beta_hat)\n",
        "\n",
        "cn_solver.plot_solutions(\"soluzione vera\")"
      ],
      "metadata": {
        "id": "Dj16WGJEt4Qu",
        "outputId": "9f120e90-1eec-4eeb-dfb7-c6432072101a",
        "colab": {
          "base_uri": "https://localhost:8080/",
          "height": 430
        }
      },
      "execution_count": null,
      "outputs": [
        {
          "output_type": "display_data",
          "data": {
            "text/plain": [
              "<Figure size 640x480 with 1 Axes>"
            ],
            "image/png": "[encoded data removed]"
          },
          "metadata": {}
        }
      ]
    },
    {
      "cell_type": "code",
      "source": [
        "for i in range(len(t)):\n",
        "  print(beta_hat[i])"
      ],
      "metadata": {
        "id": "zqC-0ANsuyV-",
        "outputId": "425af436-c033-4676-95ad-b701745fcbf9",
        "colab": {
          "base_uri": "https://localhost:8080/"
        }
      },
      "execution_count": null,
      "outputs": [
        {
          "output_type": "stream",
          "name": "stdout",
          "text": [
            "0.508415189743042\n",
            "0.5168356695175171\n",
            "0.5252614030838013\n",
            "0.5336923961639405\n",
            "0.5421286487579347\n",
            "0.5505701665878296\n",
            "0.5590169515609742\n",
            "0.5674690074920655\n",
            "0.5759263381958009\n",
            "0.5843889436721803\n",
            "0.5928568325042726\n",
            "0.6013300037384034\n",
            "0.6098084611892701\n",
            "0.61829220867157\n",
            "0.6267812500000002\n",
            "0.6352755870819093\n",
            "0.6437752218246462\n",
            "0.6522802610397341\n",
            "0.6607907190322878\n",
            "0.6693065996170046\n",
            "0.6778279056549074\n",
            "0.6863546409606935\n",
            "0.694886808395386\n",
            "0.7034244117736819\n",
            "0.71196745300293\n",
            "0.7205159368515017\n",
            "0.7290698680877689\n",
            "0.7376292486190799\n",
            "0.7461940803527835\n",
            "0.7547643680572512\n",
            "0.7633401136398318\n",
            "0.7719213228225711\n",
            "0.7805079975128176\n",
            "0.7891001424789431\n",
            "0.7976977596282961\n",
            "0.8063008518218997\n",
            "0.8149094238281253\n",
            "0.8235234775543215\n",
            "0.8321430177688601\n",
            "0.8407680473327639\n",
            "0.8493985691070559\n",
            "0.858034588813782\n",
            "0.8666761064529422\n",
            "0.8753231287002567\n",
            "0.8839760351181034\n",
            "0.8926359052658085\n",
            "0.9013027458190922\n",
            "0.9099765625000004\n",
            "0.9186573610305789\n",
            "0.9273451461791995\n",
            "0.9360399246215824\n",
            "0.944741701126099\n",
            "0.9534504814147953\n",
            "0.9621662702560428\n",
            "0.9708890724182132\n",
            "0.9796188945770267\n",
            "0.9883557424545291\n",
            "0.9970996227264407\n",
            "1.005850540161133\n",
            "1.0146084985733035\n",
            "1.023373504638672\n",
            "1.0321455650329592\n",
            "1.0409246807098391\n",
            "1.0497108621597293\n",
            "1.058504113197327\n",
            "1.0673044385910038\n",
            "1.0761118469238284\n",
            "1.084927558898926\n",
            "1.0937528457641603\n",
            "1.1025877227783205\n",
            "1.1114321956634523\n",
            "1.1202862768173218\n",
            "1.1291499767303468\n",
            "1.1380233039855958\n",
            "1.1469062700271608\n",
            "1.1557988843917848\n",
            "1.1647011585235596\n",
            "1.17361310005188\n",
            "1.1825347213745117\n",
            "1.1914660320281982\n",
            "1.2004070434570313\n",
            "1.2093577642440796\n",
            "1.2183182077407837\n",
            "1.227288381576538\n",
            "1.2362682981491089\n",
            "1.2452579650878906\n",
            "1.254257393836975\n",
            "1.2632665977478026\n",
            "1.2722855834960936\n",
            "1.2813143615722655\n",
            "1.2903529453277587\n",
            "1.299401343345642\n",
            "1.308459566116333\n",
            "1.317527624130249\n",
            "1.3266055269241332\n",
            "1.3356932859420776\n",
            "1.3447909145355224\n",
            "1.353898419380188\n",
            "1.3630158128738403\n",
            "1.3721431035995484\n",
            "1.3812803039550783\n",
            "1.3904274253845217\n",
            "1.399584475517273\n",
            "1.4087514667510987\n",
            "1.4179284086227417\n",
            "1.4271153116226196\n",
            "1.4363121871948241\n",
            "1.4455190458297729\n",
            "1.4547358970642088\n",
            "1.4639627532958983\n",
            "1.4731996240615843\n",
            "1.482446521759033\n",
            "1.491703456878662\n",
            "1.5009704370498655\n",
            "1.5102474756240842\n",
            "1.5195345830917355\n",
            "1.528831769943237\n",
            "1.5381390466690061\n",
            "1.5474564237594601\n",
            "1.556783912658691\n",
            "1.5661215248107907\n",
            "1.5754692707061764\n",
            "1.584827158927917\n",
            "1.5941952009201046\n",
            "1.603574255943298\n",
            "1.6129644975662227\n",
            "1.6223659400939938\n",
            "1.6317785978317259\n",
            "1.6412024831771848\n",
            "1.6506376094818112\n",
            "1.6600839891433712\n",
            "1.6695416364669795\n",
            "1.6790105638504023\n",
            "1.68849078464508\n",
            "1.6979823102951044\n",
            "1.7074851579666133\n",
            "1.716999338150024\n",
            "1.7265248651504512\n",
            "1.736061938285827\n",
            "1.7456107788085933\n",
            "1.7551713991165157\n",
            "1.7647438144683834\n",
            "1.774328039169311\n",
            "1.7839240884780878\n",
            "1.7935319738388056\n",
            "1.8031517114639277\n",
            "1.8127833166122431\n",
            "1.822426801681518\n",
            "1.8320821819305413\n",
            "1.8417494697570793\n",
            "1.8514274702072135\n",
            "1.8611157751083367\n",
            "1.8708143930435173\n",
            "1.8805233392715446\n",
            "1.8902426204681388\n",
            "1.8999722480773917\n",
            "1.9097122335433951\n",
            "1.9194625902175895\n",
            "1.929223324775695\n",
            "1.9389944515228263\n",
            "1.9487759799957267\n",
            "1.958567918777465\n",
            "1.9683702831268302\n",
            "1.9781830806732168\n",
            "1.9880063228607168\n",
            "1.9978400201797475\n",
            "2.007684184074401\n",
            "2.017538826942443\n",
            "2.0274039583206167\n",
            "2.03727958869934\n",
            "2.047165730476378\n",
            "2.0570623941421498\n",
            "2.0669695901870715\n",
            "2.0768882761001572\n",
            "2.086818696022032\n",
            "2.0967608633041364\n",
            "2.106714789390562\n",
            "2.116680488586424\n",
            "2.1266579780578594\n",
            "2.136647268295286\n",
            "2.146648374557493\n",
            "2.156661309242246\n",
            "2.166686088562009\n",
            "2.1767227230071997\n",
            "2.1867712287902807\n",
            "2.1968316192626927\n",
            "2.2069039077758763\n",
            "2.2169881095886206\n",
            "2.227084235191343\n",
            "2.2371923007965067\n",
            "2.247313253402708\n",
            "2.2574475269317604\n",
            "2.2675951404571513\n",
            "2.2777561111450173\n",
            "2.2879304542541483\n",
            "2.29811818885803\n",
            "2.308319332122801\n",
            "2.318533902168272\n",
            "2.3287619161605817\n",
            "2.339003391265867\n",
            "2.349258344650267\n",
            "2.3595267953872665\n",
            "2.369808758735655\n",
            "2.3801042547225935\n",
            "2.390413298606871\n",
            "2.4007359094619733\n",
            "2.4110721035003646\n",
            "2.421421897888182\n",
            "2.431785311698912\n",
            "2.4421623620986925\n",
            "2.4525530691146837\n",
            "2.462957448959349\n",
            "2.4733755187988264\n",
            "2.483807296752928\n",
            "2.494252799034117\n",
            "2.504712045669554\n",
            "2.5151850528717024\n",
            "2.525671840667723\n",
            "2.5361724243164048\n",
            "2.5466868162155136\n",
            "2.557214028358458\n",
            "2.5677540750503525\n",
            "2.5783073472976668\n",
            "2.5888743906021103\n",
            "2.5994552259445176\n",
            "2.610049866676329\n",
            "2.6206583337783798\n",
            "2.6312806444168073\n",
            "2.6419168186187725\n",
            "2.65256687068939\n",
            "2.6632308206558206\n",
            "2.673908685684202\n",
            "2.6846004829406716\n",
            "2.695306231498716\n",
            "2.706025948524473\n",
            "2.716759652137754\n",
            "2.7275073604583717\n",
            "2.7382690906524636\n",
            "2.7490448637008646\n",
            "2.7598346948623638\n",
            "2.770638602256773\n",
            "2.781456604003904\n",
            "2.7922887210845926\n",
            "2.8031349687576275\n",
            "2.8139953651428202\n",
            "2.824869931221006\n",
            "2.8357586832046486\n",
            "2.846661640167234\n",
            "2.8575788192749\n",
            "2.868510239601133\n",
            "2.8794559192657445\n",
            "2.8904158763885475\n",
            "2.901390131950376\n",
            "2.9123786993026712\n",
            "2.9233816003799418\n",
            "2.9343988523483255\n",
            "2.9454304752349834\n",
            "2.956476488113401\n",
            "2.9675369071960427\n",
            "2.9786117525100684\n",
            "2.989701041221616\n",
            "3.000804794311521\n",
            "3.011923027992246\n",
            "3.023055761337278\n",
            "3.0342030124664285\n",
            "3.0453648014068584\n",
            "3.0565411462783794\n",
            "3.0677320671081523\n",
            "3.078937581062315\n",
            "3.0901577100753763\n",
            "3.1013924684524516\n",
            "3.11264187812805\n",
            "3.1239059562683087\n",
            "3.13518472099304\n",
            "3.1464781942367535\n",
            "3.157786391258238\n",
            "3.169109335899351\n",
            "3.180447041511534\n",
            "3.1917995319366437\n",
            "3.2031668243408187\n",
            "3.21454893684387\n",
            "3.2259458866119366\n",
            "3.2373576431274396\n",
            "3.248784164428709\n",
            "3.2602254695892317\n",
            "3.2716815776824935\n",
            "3.2831525087356552\n",
            "3.294638280868529\n",
            "3.3061389703750597\n",
            "3.317654605865477\n",
            "3.329185205459593\n",
            "3.340730784416197\n",
            "3.3522913656234725\n",
            "3.363866968154906\n",
            "3.3754576148986803\n",
            "3.387063318252562\n",
            "3.398684102058409\n",
            "3.4103199424743638\n",
            "3.4219705772399887\n",
            "3.4336360263824446\n",
            "3.4453163070678694\n",
            "3.457011437416075\n",
            "3.468721438407896\n",
            "3.480445966720579\n",
            "3.4921821022033672\n",
            "3.5039298591613752\n",
            "3.515689242362974\n",
            "3.527460268020628\n",
            "3.539242946624754\n",
            "3.551037286758421\n",
            "3.562843300819395\n",
            "3.5746610012054427\n",
            "3.586490399360655\n",
            "3.598331508636473\n",
            "3.6101843366622908\n",
            "3.6220488977432233\n",
            "3.6339252004623392\n",
            "3.6458132581710796\n",
            "3.657713080406187\n",
            "3.669624681472776\n",
            "3.6815480728149392\n",
            "3.693483262062071\n",
            "3.7054302616119363\n",
            "3.7173890867233257\n",
            "3.729359747886656\n",
            "3.7413422536849956\n",
            "3.7533366174697855\n",
            "3.7653428497314434\n",
            "3.777360963821409\n",
            "3.7893909692764263\n",
            "3.8014328804016095\n",
            "3.8134867057800275\n",
            "3.825552456855772\n",
            "3.837630149841307\n",
            "3.8497197904586775\n",
            "3.8618213949203475\n",
            "3.873934973716734\n",
            "3.886060536384581\n",
            "3.8981980981826765\n",
            "3.9103476953506453\n",
            "3.9225096616744977\n",
            "3.934684040069578\n",
            "3.9468708410263043\n",
            "3.959070078849791\n",
            "3.9712817621231062\n",
            "3.9835057487487777\n",
            "3.9957414140701277\n",
            "4.0079887676239\n",
            "4.020247820854185\n",
            "4.032518587112425\n",
            "4.044801074981688\n",
            "4.057095293998717\n",
            "4.069401256561278\n",
            "4.081718974113463\n",
            "4.094048459053038\n",
            "4.106389823913573\n",
            "4.118743124961852\n",
            "4.131108368873595\n",
            "4.143485573768615\n",
            "4.155874751091003\n",
            "4.168275906562804\n",
            "4.180689055442809\n",
            "4.193114209175109\n",
            "4.205551378250121\n",
            "4.218000575065611\n",
            "4.230461810111998\n",
            "4.242935095787047\n",
            "4.255420441627501\n",
            "4.267917859077452\n",
            "4.280426117897032\n",
            "4.292945096015928\n",
            "4.305474799156187\n",
            "4.318015242576597\n",
            "4.3305664281845075\n",
            "4.3431283693313585\n",
            "4.355701074600218\n",
            "4.368284551620482\n",
            "4.380878808021544\n",
            "4.393483858108519\n",
            "4.406099707603453\n",
            "4.418726363182067\n",
            "4.4313638381958\n",
            "4.444012142181395\n",
            "4.456671282768249\n",
            "4.469341264724731\n",
            "4.482022102355956\n",
            "4.494714645385741\n",
            "4.507418946266173\n",
            "4.5201350135803215\n",
            "4.5328628597259515\n",
            "4.5456024932861325\n",
            "4.558353925704956\n",
            "4.571117309570312\n",
            "4.583893251419067\n",
            "4.5966817703247065\n",
            "4.609482871055603\n",
            "4.622296569824218\n",
            "4.635122879981994\n",
            "4.647961814880371\n",
            "4.6608133831024166\n",
            "4.673677597045898\n",
            "4.686554468154906\n",
            "4.699444010734557\n",
            "4.712346237182616\n",
            "4.725261160850524\n",
            "4.73818879508972\n",
            "4.751129148483275\n",
            "4.764082233428954\n",
            "4.777048063278197\n",
            "4.7900266504287705\n",
            "4.803018005371093\n",
            "4.816022144317626\n",
            "4.829039075851439\n",
            "4.842068816184996\n",
            "4.85511137485504\n",
            "4.868166766166686\n",
            "4.881234999656677\n",
            "4.894316089630126\n",
            "4.907410051345825\n",
            "4.920516891479492\n",
            "4.93363662815094\n",
            "4.946769271850586\n",
            "4.959914831161499\n",
            "4.9730733213424685\n",
            "4.986244757652283\n",
            "4.999429150581361\n",
            "5.012627318382264\n",
            "5.0258401508331305\n",
            "5.039067660331726\n",
            "5.05230986404419\n",
            "5.065566781997681\n",
            "5.078838423728944\n",
            "5.09212481212616\n",
            "5.105425960540772\n",
            "5.1187418832778935\n",
            "5.132072598457337\n",
            "5.145418125152588\n",
            "5.15877847480774\n",
            "5.1721536664962775\n",
            "5.185543712615967\n",
            "5.19894863319397\n",
            "5.2123684434890745\n",
            "5.225803156852722\n",
            "5.239252794265747\n",
            "5.252717368125915\n",
            "5.266196898460388\n",
            "5.279691397666931\n",
            "5.293200886726379\n",
            "5.306725381851196\n",
            "5.320264895439148\n",
            "5.333819449424744\n",
            "5.347389054298401\n",
            "5.360973730087281\n",
            "5.374573493003846\n",
            "5.3881883573532106\n",
            "5.401818343162537\n",
            "5.415463465690613\n",
            "5.429123742103577\n",
            "5.442799187660218\n",
            "5.456489817619325\n",
            "5.470195651054383\n",
            "5.483916703224183\n",
            "5.49765299320221\n",
            "5.511404535293579\n",
            "5.5251713457107545\n",
            "5.538953444480896\n",
            "5.5527509641647335\n",
            "5.566564211845398\n",
            "5.580393204689026\n",
            "5.594237961769104\n",
            "5.608098496437073\n",
            "5.62197483253479\n",
            "5.635866982460022\n",
            "5.649774970054627\n",
            "5.663698804855347\n",
            "5.677638509750366\n",
            "5.691594102859497\n",
            "5.705565603256225\n",
            "5.719553024291992\n",
            "5.733556385993957\n",
            "5.747575707435607\n",
            "5.7616110067367545\n",
            "5.775662302970885\n",
            "5.789729610443114\n",
            "5.803812947273253\n",
            "5.817912339210509\n",
            "5.832027804374694\n",
            "5.846159368515014\n",
            "5.860307045936584\n",
            "5.874470854759216\n",
            "5.888650816917419\n",
            "5.902846945762634\n",
            "5.917059092521667\n",
            "5.931287239074706\n",
            "5.94553140258789\n",
            "5.959791603088378\n",
            "5.974067857742309\n",
            "5.988360184669494\n",
            "6.002668603897094\n",
            "6.016993130683899\n"
          ]
        }
      ]
    },
    {
      "cell_type": "markdown",
      "source": [
        "##prova beta\n"
      ],
      "metadata": {
        "id": "u0YcFUSE2t8x"
      }
    },
    {
      "cell_type": "code",
      "source": [
        "!reset"
      ],
      "metadata": {
        "id": "9xLB54Ju2369",
        "outputId": "4a7cf890-7b41-452f-af3c-534d4bc38f89",
        "colab": {
          "base_uri": "https://localhost:8080/"
        }
      },
      "execution_count": null,
      "outputs": [
        {
          "output_type": "stream",
          "name": "stdout",
          "text": [
            "\u001b[m\u001b[?7h\u001b[4l\u001b>\u001b7\u001b[r\u001b[?1;3;4;6l\u001b8\r"
          ]
        }
      ]
    },
    {
      "cell_type": "code",
      "source": [
        "import numpy as np\n",
        "import tensorflow as tf\n",
        "import math\n",
        "import MyCrankNicolsonClass as cnc\n",
        "from matplotlib import pyplot as plt\n",
        "\n",
        "f0 = 1\n",
        "inf_s = np.sqrt(np.finfo(np.float32).eps)\n",
        "learning_rate = 0.01\n",
        "training_steps = 500\n",
        "batch_size = 100\n",
        "display_step = 5\n",
        "# Network Parameters\n",
        "n_input = 2     # input layer number of neurons\n",
        "n_hidden_1 = 32 # 1st layer number of neurons\n",
        "n_hidden_2 = 32 # 2nd layer number of neurons\n",
        "n_output = 1    # output layer number of neurons\n",
        "weights = {\n",
        "'h1': tf.Variable(tf.random.normal([n_input, n_hidden_1])),\n",
        "'h2': tf.Variable(tf.random.normal([n_hidden_1, n_hidden_2])),\n",
        "'out': tf.Variable(tf.random.normal([n_hidden_2, n_output]))\n",
        "}\n",
        "biases = {\n",
        "'b1': tf.Variable(tf.random.normal([n_hidden_1])),\n",
        "'b2': tf.Variable(tf.random.normal([n_hidden_2])),\n",
        "'out': tf.Variable(tf.random.normal([n_output]))\n",
        "}\n",
        "# Stochastic gradient descent optimizer.\n",
        "optimizer = tf.optimizers.SGD(learning_rate)\n",
        "\n",
        "# Create model\n",
        "def multilayer_perceptron(x):\n",
        "  x = np.array([[[x]]],  dtype='float32')\n",
        "  layer_1 = tf.add(tf.matmul(x, weights['h1']), biases['b1'])\n",
        "  layer_1 = tf.nn.sigmoid(layer_1)\n",
        "  layer_2 = tf.add(tf.matmul(layer_1, weights['h2']), biases['b2'])\n",
        "  layer_2 = tf.nn.sigmoid(layer_2)\n",
        "  output = tf.matmul(layer_2, weights['out']) + biases['out']\n",
        "  return output\n",
        "# Universal Approximator\n",
        "def g(beta, T):\n",
        "    x = np.array([beta, T])\n",
        "    #return x * multilayer_perceptron(x)\n",
        "    return multilayer_perceptron(x)\n",
        "# Given EDO\n",
        "tau = 2.\n",
        "\n",
        "def beta_eq(T):\n",
        "    return 1.0 - T\n",
        "\n",
        "def T(t):\n",
        "    return math.cos(t)\n",
        "\n",
        "def dbeta(beta, t):\n",
        "    return 1/tau*( beta_eq(T(t)) - beta[0] )\n",
        "def dbeta_hat(beta, t):\n",
        "    return g(beta[0], T(t))\n",
        "    \n",
        "sys = [dbeta]    \n",
        "\n",
        "def f(x):\n",
        "  return 2*x\n",
        "# Custom loss function to approximate the derivatives\n",
        "\"\"\"\n",
        "def custom_loss():\n",
        "  summation = []\n",
        "  t_max=1.0\n",
        "  N=50\n",
        "  beta0=np.array([0.5])\n",
        "  cn_solver = cnc.CrankNicolson(sys, beta0, t_max, N)\n",
        "  cn_solver.compute_solution()\n",
        "  t, beta = cn_solver.get_solution()\n",
        "  sys_hat=[dbeta_hat]\n",
        "  cn_solver_hat = cnc.CrankNicolson(sys_hat, beta0, t_max, N)\n",
        "  cn_solver_hat.compute_solution()\n",
        "  t, beta_hat = cn_solver_hat.get_solution()\n",
        "  for i in range(len(beta)):\n",
        "      summation.append( ( beta[i] - beta_hat[i] )**2 )\n",
        "  return tf.sqrt(tf.reduce_mean(tf.abs(summation)))\n",
        "\"\"\"\n",
        "\n",
        "t_max=tau\n",
        "N=20\n",
        "beta0=np.array([0.5])\n",
        "cn_solver = cnc.CrankNicolson(sys, beta0, t_max, N)\n",
        "cn_solver.compute_solution()\n",
        "t, beta = cn_solver.get_solution()\n",
        "dt = t_max /N\n",
        "\n",
        "\n",
        "def custom_loss():\n",
        "    \n",
        "    curr_beta = beta0[0]\n",
        "    next_beta = curr_beta\n",
        "    summation = []\n",
        "    for i in range(beta.shape[1]-1):\n",
        "        x = np.array([curr_beta, T(i*dt)])\n",
        "        next_beta = curr_beta + dt * multilayer_perceptron( x )\n",
        "        summation.append( (beta[0,i+1] - next_beta)**2 )\n",
        "        curr_beta = next_beta.numpy()[0][0][0][0]\n",
        "    return tf.sqrt(tf.reduce_sum(tf.abs(summation)))\n",
        "\n",
        "def train_step():\n",
        "    with tf.GradientTape() as tape:\n",
        "        loss = custom_loss()\n",
        "    trainable_variables=list(weights.values())+list(biases.values())\n",
        "    gradients = tape.gradient(loss, trainable_variables)\n",
        "    optimizer.apply_gradients(zip(gradients, trainable_variables))\n",
        "# Training the Model:\n",
        "for i in range(training_steps):\n",
        "  train_step()\n",
        "  if i % display_step == 0:\n",
        "    print(\"loss: %f \" % (custom_loss()))\n",
        "\n",
        "summation = [beta0[0]]\n",
        "curr_beta = beta0[0]\n",
        "beta_hat = np.zeros(beta.shape[1])\n",
        "for i in range(beta.shape[1]):\n",
        "    # x = np.array([curr_beta, T(i*dt)])\n",
        "    # print(curr_beta)\n",
        "    next_beta = curr_beta + dt * g( curr_beta, T(dt*i) ).numpy()[0][0][0][0]\n",
        "    beta_hat[i] = next_beta\n",
        "    curr_beta = next_beta\n",
        "    \n",
        "plt.plot(t, beta_hat)\n",
        "\n",
        "cn_solver.plot_solutions([\"soluzione vera\"])"
      ],
      "metadata": {
        "id": "GKukyVmz2zVy",
        "outputId": "320065df-87c0-49f4-a3e1-683a3690927b",
        "colab": {
          "base_uri": "https://localhost:8080/",
          "height": 1000
        }
      },
      "execution_count": null,
      "outputs": [
        {
          "output_type": "stream",
          "name": "stdout",
          "text": [
            "loss: 13.332240 \n",
            "loss: 11.879288 \n",
            "loss: 10.485337 \n",
            "loss: 9.151624 \n",
            "loss: 7.880266 \n",
            "loss: 6.678349 \n",
            "loss: 5.560703 \n",
            "loss: 4.544685 \n",
            "loss: 3.639080 \n",
            "loss: 2.838927 \n",
            "loss: 2.132170 \n",
            "loss: 1.514741 \n",
            "loss: 1.014345 \n",
            "loss: 0.711639 \n",
            "loss: 0.614201 \n",
            "loss: 0.590291 \n",
            "loss: 0.579011 \n",
            "loss: 0.569955 \n",
            "loss: 0.561395 \n",
            "loss: 0.552963 \n",
            "loss: 0.544565 \n",
            "loss: 0.536178 \n",
            "loss: 0.527795 \n",
            "loss: 0.519415 \n",
            "loss: 0.511038 \n",
            "loss: 0.502664 \n",
            "loss: 0.494291 \n",
            "loss: 0.485922 \n",
            "loss: 0.477554 \n",
            "loss: 0.469189 \n",
            "loss: 0.460826 \n",
            "loss: 0.452465 \n",
            "loss: 0.444106 \n",
            "loss: 0.435750 \n",
            "loss: 0.427395 \n",
            "loss: 0.419043 \n",
            "loss: 0.410692 \n",
            "loss: 0.402343 \n",
            "loss: 0.393996 \n",
            "loss: 0.385651 \n",
            "loss: 0.377307 \n",
            "loss: 0.368965 \n",
            "loss: 0.360624 \n",
            "loss: 0.352285 \n",
            "loss: 0.343947 \n",
            "loss: 0.335610 \n",
            "loss: 0.327274 \n",
            "loss: 0.318940 \n",
            "loss: 0.310606 \n",
            "loss: 0.302273 \n",
            "loss: 0.293942 \n",
            "loss: 0.285611 \n",
            "loss: 0.277282 \n",
            "loss: 0.268954 \n",
            "loss: 0.260627 \n",
            "loss: 0.252303 \n",
            "loss: 0.243980 \n",
            "loss: 0.235661 \n",
            "loss: 0.227345 \n",
            "loss: 0.219034 \n",
            "loss: 0.210728 \n",
            "loss: 0.202429 \n",
            "loss: 0.194139 \n",
            "loss: 0.185860 \n",
            "loss: 0.177595 \n",
            "loss: 0.169347 \n",
            "loss: 0.161120 \n",
            "loss: 0.152919 \n",
            "loss: 0.144751 \n",
            "loss: 0.136624 \n",
            "loss: 0.128548 \n",
            "loss: 0.120535 \n",
            "loss: 0.112600 \n",
            "loss: 0.104764 \n",
            "loss: 0.097052 \n",
            "loss: 0.089496 \n",
            "loss: 0.082137 \n",
            "loss: 0.075027 \n",
            "loss: 0.068230 \n",
            "loss: 0.061828 \n",
            "loss: 0.055914 \n",
            "loss: 0.050592 \n",
            "loss: 0.045982 \n",
            "loss: 0.045446 \n",
            "loss: 0.072945 \n",
            "loss: 0.061436 \n",
            "loss: 0.075435 \n",
            "loss: 0.059242 \n",
            "loss: 0.077636 \n",
            "loss: 0.057333 \n",
            "loss: 0.079447 \n",
            "loss: 0.055786 \n",
            "loss: 0.080863 \n",
            "loss: 0.054588 \n",
            "loss: 0.081938 \n",
            "loss: 0.053684 \n",
            "loss: 0.082740 \n",
            "loss: 0.053008 \n",
            "loss: 0.083335 \n",
            "loss: 0.052506 \n"
          ]
        },
        {
          "output_type": "display_data",
          "data": {
            "text/plain": [
              "<Figure size 640x480 with 1 Axes>"
            ],
            "image/png": "[encoded data removed]"
          },
          "metadata": {}
        }
      ]
    },
    {
      "cell_type": "code",
      "source": [
        "curr_beta = beta0[0]\n",
        "beta_hat = np.zeros(beta.shape[1])\n",
        "for i in range(beta.shape[1]):\n",
        "    # x = np.array([curr_beta, T(i*dt)])\n",
        "    # print(curr_beta)\n",
        "    next_beta = curr_beta + dt * g( curr_beta, T(dt*i) ).numpy()[0][0][0][0]\n",
        "    beta_hat[i] = next_beta\n",
        "    curr_beta = next_beta\n",
        "    \n",
        "plt.plot(t, beta_hat)\n",
        "\n",
        "cn_solver.plot_solutions([\"soluzione vera\"])"
      ],
      "metadata": {
        "id": "S_TXy0cV8HqL",
        "outputId": "9779942a-3b4b-416b-e2d0-d92ae65dc7a1",
        "colab": {
          "base_uri": "https://localhost:8080/",
          "height": 430
        }
      },
      "execution_count": null,
      "outputs": [
        {
          "output_type": "display_data",
          "data": {
            "text/plain": [
              "<Figure size 640x480 with 1 Axes>"
            ],
            "image/png": "[encoded data removed]"
          },
          "metadata": {}
        }
      ]
    },
    {
      "cell_type": "markdown",
      "source": [
        "## Prova"
      ],
      "metadata": {
        "id": "P-GnpARn0tJu"
      }
    },
    {
      "cell_type": "code",
      "source": [
        "f0 = 1\n",
        "inf_s = np.sqrt(np.finfo(np.float32).eps)\n",
        "learning_rate = 0.01\n",
        "training_steps = 50\n",
        "batch_size = 100\n",
        "display_step = 10\n",
        "# Network Parameters\n",
        "n_input = 2     # input layer number of neurons\n",
        "n_hidden_1 = 256 # 1st layer number of neurons\n",
        "n_hidden_2 = 256 # 2nd layer number of neurons\n",
        "n_output = 1    # output layer number of neurons\n",
        "weights = {\n",
        "'h1': tf.Variable(tf.random.normal([n_input, n_hidden_1])),\n",
        "'h2': tf.Variable(tf.random.normal([n_hidden_1, n_hidden_2])),\n",
        "'out': tf.Variable(tf.random.normal([n_hidden_2, n_output]))\n",
        "}\n",
        "biases = {\n",
        "'b1': tf.Variable(tf.random.normal([n_hidden_1])),\n",
        "'b2': tf.Variable(tf.random.normal([n_hidden_2])),\n",
        "'out': tf.Variable(tf.random.normal([n_output]))\n",
        "}\n",
        "# Stochastic gradient descent optimizer.\n",
        "optimizer = tf.optimizers.SGD(learning_rate)\n",
        "\n",
        "# Create model\n",
        "def multilayer_perceptron(x):\n",
        "  x = np.array([[[x]]],  dtype='float32')\n",
        "  layer_1 = tf.add(tf.matmul(x, weights['h1']), biases['b1'])\n",
        "  layer_1 = tf.nn.sigmoid(layer_1)\n",
        "  layer_2 = tf.add(tf.matmul(layer_1, weights['h2']), biases['b2'])\n",
        "  layer_2 = tf.nn.sigmoid(layer_2)\n",
        "  output = tf.matmul(layer_2, weights['out']) + biases['out']\n",
        "  return output\n",
        "# Universal Approximator\n",
        "def g(beta, T):\n",
        "    x = np.array([beta, T])\n",
        "    #return x * multilayer_perceptron(x)\n",
        "    return multilayer_perceptron(x)\n",
        "# Given EDO\n",
        "tau = 365.\n",
        "\n",
        "def beta_eq(T):\n",
        "    return (35 - T)/T\n",
        "def T(t):\n",
        "    return math.exp(-(t - 180)**2/(2*80**2))/(math.sqrt(2*math.pi)*80)*300*5*2.6 + 5 \n",
        "def dbeta(beta, t):\n",
        "    return 1/tau*(beta_eq(T(t)) - beta[0])\n",
        "def dbeta_hat(beta, t):\n",
        "    return g(beta[0], T(t))\n",
        "    \n",
        "sys = [dbeta]    \n",
        "\n",
        "def f(x):\n",
        "  return 2*x\n",
        "# Custom loss function to approximate the derivatives\n",
        "\"\"\"\n",
        "def custom_loss():\n",
        "  summation = []\n",
        "  t_max=1.0\n",
        "  N=50\n",
        "  beta0=np.array([0.5])\n",
        "  cn_solver = cnc.CrankNicolson(sys, beta0, t_max, N)\n",
        "  cn_solver.compute_solution()\n",
        "  t, beta = cn_solver.get_solution()\n",
        "  sys_hat=[dbeta_hat]\n",
        "  cn_solver_hat = cnc.CrankNicolson(sys_hat, beta0, t_max, N)\n",
        "  cn_solver_hat.compute_solution()\n",
        "  t, beta_hat = cn_solver_hat.get_solution()\n",
        "  for i in range(len(beta)):\n",
        "      summation.append( ( beta[i] - beta_hat[i] )**2 )\n",
        "  return tf.sqrt(tf.reduce_mean(tf.abs(summation)))\n",
        "\"\"\"\n",
        "\n",
        "t_max=2.0\n",
        "N=500\n",
        "beta0=np.array([0.5])\n",
        "cn_solver = cnc.CrankNicolson(sys, beta0, t_max, N)\n",
        "cn_solver.compute_solution()\n",
        "t, beta = cn_solver.get_solution()\n",
        "dt = t_max /N\n",
        "\n",
        "def custom_loss():\n",
        "    curr_beta = beta0[0]\n",
        "    next_beta = curr_beta\n",
        "    summation = []\n",
        "    for i in range(len(beta)):\n",
        "        x = np.array([curr_beta, T(i*dt)])\n",
        "        next_beta = curr_beta + dt * multilayer_perceptron( x )\n",
        "        summation.append( dt*(beta[i] - next_beta)**2 )\n",
        "        curr_beta = next_beta\n",
        "    return tf.sqrt(tf.reduce_sum(tf.abs(summation)))\n",
        "\n",
        "def train_step():\n",
        "    with tf.GradientTape() as tape:\n",
        "        loss = custom_loss()\n",
        "    trainable_variables=list(weights.values())+list(biases.values())\n",
        "    gradients = tape.gradient(loss, trainable_variables)\n",
        "    optimizer.apply_gradients(zip(gradients, trainable_variables))\n",
        "# Training the Model:\n",
        "for i in range(training_steps):\n",
        "  train_step()\n",
        "  if i % display_step == 0:\n",
        "    print(\"loss: %f \" % (custom_loss()))\n",
        "\n",
        "summation = [beta0[0]]\n",
        "curr_beta = beta0[0]\n",
        "beta_hat = np.zeros(beta.shape[1])\n",
        "for i in range(beta.shape[1]):\n",
        "    # x = np.array([curr_beta, T(i*dt)])\n",
        "    # print(curr_beta)\n",
        "    next_beta = curr_beta + dt * g( curr_beta, T(dt*i) ).numpy()[0][0][0][0]\n",
        "    beta_hat[i] = next_beta\n",
        "    curr_beta = next_beta\n",
        "    \n",
        "plt.plot(t, beta_hat)\n",
        "\n",
        "cn_solver.plot_solutions(\"soluzione vera\")\n"
      ],
      "metadata": {
        "id": "e1yTjnZ10cIh",
        "outputId": "9f84cc76-0ab3-4d8f-a7b8-5a87c4575cc3",
        "colab": {
          "base_uri": "https://localhost:8080/",
          "height": 520
        }
      },
      "execution_count": null,
      "outputs": [
        {
          "output_type": "stream",
          "name": "stdout",
          "text": [
            "loss: 0.054779 \n",
            "loss: 0.053413 \n",
            "loss: 0.052066 \n",
            "loss: 0.050739 \n",
            "loss: 0.049431 \n"
          ]
        },
        {
          "output_type": "display_data",
          "data": {
            "text/plain": [
              "<Figure size 640x480 with 1 Axes>"
            ],
            "image/png": "[encoded data removed]"
          },
          "metadata": {}
        }
      ]
    },
    {
      "cell_type": "code",
      "source": [
        "for i in range(len(t)):\n",
        "  print(beta_hat[i] - )"
      ],
      "metadata": {
        "id": "3VveAaH0AHzA",
        "outputId": "d701b496-f278-4453-8db5-cc49d6e63c43",
        "colab": {
          "base_uri": "https://localhost:8080/"
        }
      },
      "execution_count": null,
      "outputs": [
        {
          "output_type": "stream",
          "name": "stdout",
          "text": [
            "0.4825128479003906\n",
            "0.4651818313598633\n",
            "0.4480051326751709\n",
            "0.430980899810791\n",
            "0.4141072311401367\n",
            "0.3973822078704834\n",
            "0.38080386734008786\n",
            "0.36437023735046387\n",
            "0.3480793170928955\n",
            "0.33192909240722657\n",
            "0.3159175395965576\n",
            "0.3000426187515259\n",
            "0.2843022880554199\n",
            "0.2686945009231567\n",
            "0.2532172117233276\n",
            "0.23786837673187253\n",
            "0.22264595508575435\n",
            "0.2075479173660278\n",
            "0.19257223510742183\n",
            "0.17771689987182612\n",
            "0.16297991180419916\n",
            "0.1483592853546142\n",
            "0.1338530597686767\n",
            "0.11945928096771234\n",
            "0.105176022529602\n",
            "0.09100137138366693\n",
            "0.07693344402313226\n",
            "0.06297037792205805\n",
            "0.049110332489013614\n",
            "0.035351491928100526\n",
            "0.021692068099975526\n",
            "0.008130294799804627\n",
            "-0.005335564613342347\n",
            "-0.018707216262817447\n",
            "-0.03198635101318366\n",
            "-0.045174619674682684\n",
            "-0.058273648262024\n",
            "-0.07128503608703621\n",
            "-0.08421035671234138\n",
            "-0.09705115127563484\n",
            "-0.10980893421173103\n",
            "-0.12248519325256355\n",
            "-0.13508138465881356\n",
            "-0.14759894275665292\n",
            "-0.1600392656326295\n",
            "-0.17240372848510752\n",
            "-0.18469368076324472\n",
            "-0.19691043949127207\n",
            "-0.20905530071258555\n",
            "-0.22112953186035167\n",
            "-0.23313437461853037\n",
            "-0.2450710401535035\n",
            "-0.25694072246551525\n",
            "-0.2687445840835572\n",
            "-0.2804837646484376\n",
            "-0.2921593828201295\n",
            "-0.30377252674102795\n",
            "-0.3153242692947389\n",
            "-0.3268156538009645\n",
            "-0.33824770355224626\n",
            "-0.34962141799926777\n",
            "-0.3609377794265749\n",
            "-0.37219774723053\n",
            "-0.3834022550582888\n",
            "-0.3945522203445437\n",
            "-0.40564854431152364\n",
            "-0.4166921052932741\n",
            "-0.42768375968933126\n",
            "-0.4386243495941164\n",
            "-0.44951469516754167\n",
            "-0.4603556041717531\n",
            "-0.471147864341736\n",
            "-0.4818922452926637\n",
            "-0.49258950138092056\n",
            "-0.503240372657776\n",
            "-0.513845579147339\n",
            "-0.5244058313369752\n",
            "-0.534921823501587\n",
            "-0.5453942308425904\n",
            "-0.5558237190246583\n",
            "-0.5662109355926515\n",
            "-0.5765565214157106\n",
            "-0.5868610982894898\n",
            "-0.5971252822875978\n",
            "-0.607349669456482\n",
            "-0.6175348463058473\n",
            "-0.627681389808655\n",
            "-0.637789863586426\n",
            "-0.6478608226776125\n",
            "-0.6578948068618776\n",
            "-0.6678923501968386\n",
            "-0.677853976249695\n",
            "-0.6877801952362063\n",
            "-0.6976715116500857\n",
            "-0.7075284137725832\n",
            "-0.717351389884949\n",
            "-0.7271409158706668\n",
            "-0.7368974561691287\n",
            "-0.7466214694976809\n",
            "-0.7563134040832522\n",
            "-0.7659737052917484\n",
            "-0.7756028070449832\n",
            "-0.7852011365890506\n",
            "-0.7947691135406497\n",
            "-0.8043071489334109\n",
            "-0.8138156509399417\n",
            "-0.8232950172424319\n",
            "-0.8327456436157229\n",
            "-0.8421679134368899\n",
            "-0.8515622081756594\n",
            "-0.8609289007186892\n",
            "-0.8702683601379397\n",
            "-0.8795809516906741\n",
            "-0.8888670291900638\n",
            "-0.8981269474029544\n",
            "-0.9073610534667972\n",
            "-0.9165696849823001\n",
            "-0.9257531824111941\n",
            "-0.9349118747711184\n",
            "-0.9440460901260378\n",
            "-0.9531561517715456\n",
            "-0.9622423772811891\n",
            "-0.9713050832748414\n",
            "-0.9803445730209351\n",
            "-0.9893611536026001\n",
            "-0.9983551301956177\n",
            "-1.0073267974853517\n",
            "-1.0162764472961427\n",
            "-1.025204372406006\n",
            "-1.0341108570098878\n",
            "-1.0429961853027345\n",
            "-1.0518606300354005\n",
            "-1.0607044715881349\n",
            "-1.0695279817581178\n",
            "-1.0783314285278323\n",
            "-1.0871150760650636\n",
            "-1.095879186630249\n",
            "-1.1046240196228028\n",
            "-1.1133498315811157\n",
            "-1.1220568780899047\n",
            "-1.1307454032897948\n",
            "-1.1394156579971313\n",
            "-1.1480678834915161\n",
            "-1.1567023220062256\n",
            "-1.1653192129135133\n",
            "-1.1739187936782838\n",
            "-1.1825012941360475\n",
            "-1.1910669460296632\n",
            "-1.199615978240967\n",
            "-1.2081486167907718\n",
            "-1.2166650810241701\n",
            "-1.2251655921936038\n",
            "-1.2336503696441652\n",
            "-1.2421196298599244\n",
            "-1.250573579788208\n",
            "-1.2590124340057374\n",
            "-1.2674364013671875\n",
            "-1.275845687866211\n",
            "-1.2842404918670656\n",
            "-1.2926210165023806\n",
            "-1.3009874620437625\n",
            "-1.3093400239944462\n",
            "-1.3176788978576663\n",
            "-1.3260042724609378\n",
            "-1.3343163394927982\n",
            "-1.3426152839660648\n",
            "-1.350901290893555\n",
            "-1.3591745433807376\n",
            "-1.367435223579407\n",
            "-1.375683508872986\n",
            "-1.3839195756912233\n",
            "-1.3921435985565187\n",
            "-1.400355748176575\n",
            "-1.4085561933517459\n",
            "-1.4167451019287112\n",
            "-1.4249226408004763\n",
            "-1.4330889711380006\n",
            "-1.4412442541122437\n",
            "-1.4493886499404907\n",
            "-1.4575223140716551\n",
            "-1.4656454019546508\n",
            "-1.4737580652236937\n",
            "-1.4818604526519774\n",
            "-1.4899527139663695\n",
            "-1.498034996986389\n",
            "-1.506107442855835\n",
            "-1.5141701927185058\n",
            "-1.522223388671875\n",
            "-1.530267165184021\n",
            "-1.5383016595840453\n",
            "-1.5463270053863525\n",
            "-1.5543433322906492\n",
            "-1.5623507699966428\n",
            "-1.570349444389343\n",
            "-1.5783394804000852\n",
            "-1.5863210020065306\n",
            "-1.5942941274642943\n",
            "-1.602258978843689\n",
            "-1.6102156677246093\n",
            "-1.6181643114089965\n",
            "-1.626105019569397\n",
            "-1.634037905693054\n",
            "-1.6419630737304687\n",
            "-1.6498806314468384\n",
            "-1.6577906837463379\n",
            "-1.6656933307647706\n",
            "-1.673588667869568\n",
            "-1.681476797103882\n",
            "-1.68935781288147\n",
            "-1.697231809616089\n",
            "-1.7050988750457765\n",
            "-1.7129591007232667\n",
            "-1.7208125715255738\n",
            "-1.7286593770980836\n",
            "-1.7364995956420899\n",
            "-1.7443333101272585\n",
            "-1.7521605978012087\n",
            "-1.759981534957886\n",
            "-1.7677961969375613\n",
            "-1.7756046581268312\n",
            "-1.783406988143921\n",
            "-1.7912032537460327\n",
            "-1.7989935235977172\n",
            "-1.8067778615951537\n",
            "-1.8145563306808472\n",
            "-1.8223289890289307\n",
            "-1.830095898628235\n",
            "-1.8378571157455446\n",
            "-1.8456126947402955\n",
            "-1.853362687110901\n",
            "-1.8611071424484253\n",
            "-1.8688461141586303\n",
            "-1.8765796461105346\n",
            "-1.8843077840805054\n",
            "-1.8920305738449097\n",
            "-1.8997480525970458\n",
            "-1.907460262298584\n",
            "-1.9151672401428221\n",
            "-1.9228690242767332\n",
            "-1.930565647125244\n",
            "-1.9382571392059325\n",
            "-1.9459435329437254\n",
            "-1.9536248569488524\n",
            "-1.9613011360168455\n",
            "-1.9689723987579344\n",
            "-1.9766386680603025\n",
            "-1.9842999658584592\n",
            "-1.9919563093185422\n",
            "-1.9996077175140379\n",
            "-2.007254211425781\n",
            "-2.0148958044052123\n",
            "-2.022532507896423\n",
            "-2.0301643381118772\n",
            "-2.0377913017272946\n",
            "-2.045413409233093\n",
            "-2.0530306673049927\n",
            "-2.0606430826187134\n",
            "-2.068250658035278\n",
            "-2.0758533992767334\n",
            "-2.083451307296753\n",
            "-2.091044381141663\n",
            "-2.0986326184272768\n",
            "-2.1062160167694093\n",
            "-2.1137945737838746\n",
            "-2.121368287563324\n",
            "-2.128937147140503\n",
            "-2.136501142501831\n",
            "-2.1440602679252625\n",
            "-2.151614511489868\n",
            "-2.1591638646125793\n",
            "-2.1667083129882814\n",
            "-2.1742478404045107\n",
            "-2.1817824354171753\n",
            "-2.189312079906464\n",
            "-2.1968367590904236\n",
            "-2.2043564519882204\n",
            "-2.2118711385726932\n",
            "-2.219380803585053\n",
            "-2.2268854236602786\n",
            "-2.2343849740028383\n",
            "-2.241879433631897\n",
            "-2.249368779182434\n",
            "-2.256852987766266\n",
            "-2.264332030773163\n",
            "-2.2718058848381046\n",
            "-2.2792745194435122\n",
            "-2.2867379131317143\n",
            "-2.294196031093598\n",
            "-2.3016488485336306\n",
            "-2.3090963330268863\n",
            "-2.316538455486298\n",
            "-2.323975186824799\n",
            "-2.331406493186951\n",
            "-2.3388323440551764\n",
            "-2.3462527070045476\n",
            "-2.3536675496101385\n",
            "-2.361076838493348\n",
            "-2.3684805374145514\n",
            "-2.3758786163330083\n",
            "-2.3832710399627692\n",
            "-2.3906577744483957\n",
            "-2.398038782596589\n",
            "-2.405414031982423\n",
            "-2.4127834854125987\n",
            "-2.420147111415864\n",
            "-2.427504868030549\n",
            "-2.4348567237854013\n",
            "-2.4422026419639598\n",
            "-2.4495425863266003\n",
            "-2.4568765234947216\n",
            "-2.4642044162750256\n",
            "-2.471526228427888\n",
            "-2.478841923236848\n",
            "-2.486151467323304\n",
            "-2.4934548239707954\n",
            "-2.5007519583702096\n",
            "-2.508042833328248\n",
            "-2.5153274168968207\n",
            "-2.5226056714057927\n",
            "-2.529877564430237\n",
            "-2.5371430606842043\n",
            "-2.5444021277427673\n",
            "-2.5516547288894653\n",
            "-2.5589008321762083\n",
            "-2.566140407562256\n",
            "-2.573373420715332\n",
            "-2.580599838256836\n",
            "-2.587819629192352\n",
            "-2.5950327630043026\n",
            "-2.602239210605621\n",
            "-2.6094389371871944\n",
            "-2.616631915569305\n",
            "-2.623818119049072\n",
            "-2.6309975166320796\n",
            "-2.638170080184936\n",
            "-2.645335781574249\n",
            "-2.6524945974349974\n",
            "-2.659646499633789\n",
            "-2.6667914605140686\n",
            "-2.673929458618164\n",
            "-2.681060468196869\n",
            "-2.688184467792511\n",
            "-2.69530143404007\n",
            "-2.702411343097687\n",
            "-2.7095141768455506\n",
            "-2.7166099128723147\n",
            "-2.7236985301971437\n",
            "-2.730780014038086\n",
            "-2.737854344844818\n",
            "-2.7449215054512024\n",
            "-2.751981478214264\n",
            "-2.759034248828888\n",
            "-2.7660798020362853\n",
            "-2.7731181225776673\n",
            "-2.7801491985321047\n",
            "-2.7871730194091797\n",
            "-2.794189571380615\n",
            "-2.801198843479156\n",
            "-2.8082008280754085\n",
            "-2.815195518016815\n",
            "-2.822182901859283\n",
            "-2.82916297340393\n",
            "-2.8361357274055474\n",
            "-2.843101157188415\n",
            "-2.8500592598915095\n",
            "-2.8570100312232967\n",
            "-2.8639534659385677\n",
            "-2.8708895668983456\n",
            "-2.8778183293342585\n",
            "-2.8847397570610043\n",
            "-2.891653849124908\n",
            "-2.898560606479644\n",
            "-2.905460031509399\n",
            "-2.9123521285057064\n",
            "-2.919236904621124\n",
            "-2.926114358901977\n",
            "-2.9329845037460323\n",
            "-2.939847343921661\n",
            "-2.9467028837203975\n",
            "-2.9535511331558224\n",
            "-2.960392102718353\n",
            "-2.967225803375244\n",
            "-2.9740522451400757\n",
            "-2.980871439933777\n",
            "-2.9876833987236027\n",
            "-2.994488137245179\n",
            "-3.001285667419434\n",
            "-3.0080760064125065\n",
            "-3.0148591675758367\n",
            "-3.021635167598725\n",
            "-3.0284040255546576\n",
            "-3.035165758132935\n",
            "-3.0419203858375554\n",
            "-3.0486679263114933\n",
            "-3.055408397197724\n",
            "-3.0621418242454532\n",
            "-3.0688682250976567\n",
            "-3.0755876226425176\n",
            "-3.0823000388145454\n",
            "-3.0890054979324346\n",
            "-3.095704021453858\n",
            "-3.1023956360816958\n",
            "-3.1090803685188297\n",
            "-3.115758242607117\n",
            "-3.1224292840957646\n",
            "-3.1290935215950015\n",
            "-3.1357509799003602\n",
            "-3.142401689052582\n",
            "-3.1490456767082216\n",
            "-3.155682971954346\n",
            "-3.1623136043548588\n",
            "-3.1689376058578493\n",
            "-3.1755550041198735\n",
            "-3.18216583108902\n",
            "-3.188770117759705\n",
            "-3.1953678965568546\n",
            "-3.2019591994285586\n",
            "-3.208544059753418\n",
            "-3.2151225085258486\n",
            "-3.221694581985474\n",
            "-3.228260310649872\n",
            "-3.2348197307586672\n",
            "-3.241372874259949\n",
            "-3.24791977930069\n",
            "-3.254460480690003\n",
            "-3.2609950118064885\n",
            "-3.2675234103202824\n",
            "-3.2740457115173345\n",
            "-3.2805619540214543\n",
            "-3.287072170734406\n",
            "-3.293576400279999\n",
            "-3.300074678897858\n",
            "-3.3065670437812806\n",
            "-3.3130535349845887\n",
            "-3.319534185886383\n",
            "-3.326009038448334\n",
            "-3.332478129863739\n",
            "-3.338941497325897\n",
            "-3.345399178981781\n",
            "-3.3518512153625486\n",
            "-3.358297643184662\n",
            "-3.364738503456116\n",
            "-3.371173834323883\n",
            "-3.3776036744117737\n",
            "-3.3840280628204344\n",
            "-3.390447037696838\n",
            "-3.3968606371879573\n",
            "-3.4032689042091366\n",
            "-3.4096718778610224\n",
            "-3.416069596290588\n",
            "-3.4224620981216427\n",
            "-3.4288494272232053\n",
            "-3.4352316193580625\n",
            "-3.441608715057373\n",
            "-3.447980756759643\n",
            "-3.454347781181335\n",
            "-3.4607098274230954\n",
            "-3.4670669364929196\n",
            "-3.473419147491455\n",
            "-3.4797665004730223\n",
            "-3.4861090335845946\n",
            "-3.4924467906951904\n",
            "-3.4987798027992247\n",
            "-3.5051081171035765\n",
            "-3.511431770801544\n",
            "-3.517750799179077\n",
            "-3.524065245628357\n",
            "-3.5303751492500304\n",
            "-3.536680550098419\n",
            "-3.542981483459472\n",
            "-3.549277990818023\n",
            "-3.5555701107978814\n",
            "-3.56185787820816\n",
            "-3.5681413359642025\n",
            "-3.5744205212593076\n",
            "-3.5806954693794246\n",
            "-3.5869662218093867\n",
            "-3.593232814311981\n",
            "-3.5994952850341795\n",
            "-3.6057536725997923\n",
            "-3.6120080137252804\n",
            "-3.6182583446502683\n",
            "-3.6245047035217284\n",
            "-3.630747127532959\n",
            "-3.6369856553077695\n",
            "-3.6432203202247617\n",
            "-3.649451159954071\n",
            "-3.6556782097816467\n",
            "-3.6619015069007874\n",
            "-3.6681210861206055\n",
            "-3.674336983680725\n",
            "-3.6805492362976073\n",
            "-3.6867578768730165\n",
            "-3.692962942123413\n",
            "-3.6991644654273985\n",
            "-3.70536248254776\n",
            "-3.711557027339935\n",
            "-3.7177481331825257\n",
            "-3.7239358377456666\n",
            "-3.730120170116425\n"
          ]
        }
      ]
    },
    {
      "cell_type": "markdown",
      "source": [
        "##prova model\n"
      ],
      "metadata": {
        "id": "dJVWJjcJoZKO"
      }
    },
    {
      "cell_type": "code",
      "metadata": {
        "colab": {
          "base_uri": "https://localhost:8080/"
        },
        "outputId": "9818acc5-90d8-4f76-aa45-bbbd2686cb31",
        "id": "kvKaAHnKomdJ"
      },
      "source": [
        "import tensorflow as tf\n",
        "import numpy as np\n",
        "import os\n",
        "import random\n",
        "import pandas as pd\n",
        "import seaborn as sns\n",
        "import matplotlib as mpl\n",
        "import matplotlib.pyplot as plt\n",
        "from sklearn.model_selection import train_test_split\n",
        "import warnings\n",
        "import logging\n",
        "\n",
        "tfk = tf.keras\n",
        "tfkl = tf.keras.layers\n",
        "print(tf.__version__)"
      ],
      "execution_count": null,
      "outputs": [
        {
          "output_type": "stream",
          "name": "stdout",
          "text": [
            "2.12.0\n"
          ]
        }
      ]
    },
    {
      "cell_type": "code",
      "source": [
        "input_layer = tfkl.Input(shape=(2), name='Input')\n",
        "hidden_layer1 = tfkl.Dense(units=64, activation='relu', name='Hidden1')(input_layer)\n",
        "hidden_layer2 = tfkl.Dense(units=64, activation='relu', name='Hidden2')(hidden_layer1)\n",
        "output_layer = tfkl.Dense(units=1, activation='linear', name='Output')(hidden_layer2)\n",
        "\n",
        "# Connect input and output through the Model class\n",
        "model2 = tfk.Model(inputs=input_layer, outputs=output_layer, name='FFNN2')"
      ],
      "metadata": {
        "id": "I_GylEMnomdM"
      },
      "execution_count": null,
      "outputs": []
    },
    {
      "cell_type": "code",
      "source": [
        "optimizer = tfk.optimizers.SGD(learning_rate=1e-2)"
      ],
      "metadata": {
        "id": "y_8nWgQfomdN"
      },
      "execution_count": null,
      "outputs": []
    },
    {
      "cell_type": "code",
      "source": [
        "with GradientTape() as tape\n",
        "  y = model(x)\n",
        "  dmodeldx = tape.gradient(y,x)"
      ],
      "metadata": {
        "id": "EbGtG98_op1f"
      },
      "execution_count": null,
      "outputs": []
    },
    {
      "cell_type": "markdown",
      "source": [
        "##Prova con g"
      ],
      "metadata": {
        "id": "Fz0Z63XOLNkK"
      }
    },
    {
      "cell_type": "code",
      "source": [
        "!reset"
      ],
      "metadata": {
        "outputId": "61c9e5f2-237a-4091-cf2f-d45bff9252b2",
        "colab": {
          "base_uri": "https://localhost:8080/"
        },
        "id": "Rcuv3vnrLZ6N"
      },
      "execution_count": null,
      "outputs": [
        {
          "output_type": "stream",
          "name": "stdout",
          "text": [
            "\u001b[m\u001b[?7h\u001b[4l\u001b>\u001b7\u001b[r\u001b[?1;3;4;6l\u001b8\r"
          ]
        }
      ]
    },
    {
      "cell_type": "code",
      "source": [
        "\n",
        "import numpy as np\n",
        "import tensorflow as tf\n",
        "import math\n",
        "import MyCrankNicolsonClass as cnc\n",
        "from matplotlib import pyplot as plt\n",
        "\n",
        "# Network Parameters\n",
        "# initial condition\n",
        "beta0 = 1\n",
        "# infinitesimal small number\n",
        "inf_s = np.sqrt(np.finfo(np.float32).eps)\n",
        "\n",
        "# Parameters\n",
        "learning_rate = 0.01\n",
        "training_steps = 100\n",
        "batch_size = 100\n",
        "display_step = 1\n",
        "\n",
        "# Network Parameters\n",
        "n_input = 1     # input layer number of neurons\n",
        "n_hidden_1 = 32 # 1st layer number of neurons\n",
        "n_hidden_2 = 32 # 2nd layer number of neurons\n",
        "n_output = 1    # output layer number of neurons\n",
        "\n",
        "weights = {\n",
        "    'h1': tf.Variable(tf.random.normal([n_input, n_hidden_1])),\n",
        "    'h2': tf.Variable(tf.random.normal([n_hidden_1, n_hidden_2])),\n",
        "    'out': tf.Variable(tf.random.normal([n_hidden_2, n_output]))\n",
        "}\n",
        "biases = {\n",
        "    'b1': tf.Variable(tf.random.normal([n_hidden_1])),\n",
        "    'b2': tf.Variable(tf.random.normal([n_hidden_2])),\n",
        "    'out': tf.Variable(tf.random.normal([n_output]))\n",
        "}\n",
        "\n",
        "# Stochastic gradient descent optimizer.\n",
        "optimizer = tf.optimizers.SGD(learning_rate)\n",
        "\n",
        "# Create model\n",
        "def multilayer_perceptron(x):\n",
        "    x = np.array([[[x]]],  dtype='float32')\n",
        "    # Hidden fully connected layer with 32 neurons\n",
        "    layer_1 = tf.add(tf.matmul(x, weights['h1']), biases['b1'])\n",
        "    layer_1 = tf.nn.sigmoid(layer_1)\n",
        "    # Hidden fully connected layer with 32 neurons\n",
        "    layer_2 = tf.add(tf.matmul(layer_1, weights['h2']), biases['b2'])\n",
        "    layer_2 = tf.nn.sigmoid(layer_2)\n",
        "    # Output fully connected layer\n",
        "    output = tf.matmul(layer_2, weights['out']) + biases['out']\n",
        "    return output\n",
        "# Universal Approximator\n",
        "def g(t):\n",
        "    #return x * multilayer_perceptron(x)\n",
        "    return t * multilayer_perceptron(t) + beta0\n",
        "# Given EDO\n",
        "tau = 365.\n",
        "\n",
        "def beta_eq(T):\n",
        "    return 1.0 - T\n",
        "\n",
        "def T(t):\n",
        "    return math.cos(t)\n",
        "\n",
        "def dbeta(beta, t):\n",
        "    return 1/tau*( beta_eq(T(t)) - beta[0] )\n",
        "def dbeta_hat(beta, t):\n",
        "    return g(beta[0], T(t))\n",
        "    \n",
        "sys = [dbeta]    \n",
        "\n",
        "def f(t,beta):\n",
        "  return 1/tau*(beta_eq(T(t)) - beta)\n",
        "# Custom loss function to approximate the derivatives\n",
        "\"\"\"\n",
        "def custom_loss():\n",
        "  summation = []\n",
        "  t_max=1.0\n",
        "  N=50\n",
        "  beta0=np.array([0.5])\n",
        "  cn_solver = cnc.CrankNicolson(sys, beta0, t_max, N)\n",
        "  cn_solver.compute_solution()\n",
        "  t, beta = cn_solver.get_solution()\n",
        "  sys_hat=[dbeta_hat]\n",
        "  cn_solver_hat = cnc.CrankNicolson(sys_hat, beta0, t_max, N)\n",
        "  cn_solver_hat.compute_solution()\n",
        "  t, beta_hat = cn_solver_hat.get_solution()\n",
        "  for i in range(len(beta)):\n",
        "      summation.append( ( beta[i] - beta_hat[i] )**2 )\n",
        "  return tf.sqrt(tf.reduce_mean(tf.abs(summation)))\n",
        "\"\"\"\n",
        "\n",
        "t_max=365.0\n",
        "N=100\n",
        "beta0=np.array([0.5])\n",
        "cn_solver = cnc.CrankNicolson(sys, beta0, t_max, N)\n",
        "cn_solver.compute_solution()\n",
        "t, beta = cn_solver.get_solution()\n",
        "dt = t_max /N\n",
        "\n",
        "\n"
      ],
      "metadata": {
        "id": "-C2gqooULZ6O"
      },
      "execution_count": null,
      "outputs": []
    },
    {
      "cell_type": "code",
      "source": [
        "def custom_loss():\n",
        "    summation = []\n",
        "    for i in range(beta.shape[1]):\n",
        "        dNN = (g(i*dt+inf_s)-g(i*dt))/inf_s\n",
        "        summation.append((dNN - f(i*dt,beta[0][i]))**2)\n",
        "    return tf.reduce_sum(tf.abs(summation))\n",
        "\n",
        "def train_step():\n",
        "    with tf.GradientTape() as tape:\n",
        "        loss = custom_loss()\n",
        "    trainable_variables=list(weights.values())+list(biases.values())\n",
        "    gradients = tape.gradient(loss, trainable_variables)\n",
        "    optimizer.apply_gradients(zip(gradients, trainable_variables))\n",
        "\n",
        "# Training the Model:\n",
        "for i in range(training_steps):\n",
        "  train_step()\n",
        "  if i % display_step == 0:\n",
        "    print(\"loss: %f \" % (custom_loss()))"
      ],
      "metadata": {
        "id": "shuLb0AXXfli"
      },
      "execution_count": null,
      "outputs": []
    },
    {
      "cell_type": "code",
      "source": [
        "def train_step_t():\n",
        "    with tf.GradientTape(persistent=True) as tape:\n",
        "        summation = []\n",
        "        for x in range(len(t)):\n",
        "            i = x \n",
        "            x = tf.constant([[[x]]],  dtype='float32')\n",
        "            tape.watch(x)\n",
        "            g_x = x * multilayer_perceptron(x) + f0\n",
        "            dNN = tape.gradient(g_x, x)\n",
        "            summation.append(dNN - f(i,beta[0][i]))\n",
        "        loss = tf.reduce_sum(tf.abs(summation))\n",
        "    trainable_variables = list(weights.values()) + list(biases.values())\n",
        "    gradients = tape.gradient(loss, trainable_variables)\n",
        "    optimizer.apply_gradients(zip(gradients, trainable_variables))\n",
        "\n",
        "for i in range(training_steps):\n",
        "    train_step_t()\n",
        "    if i % display_step == 0:\n",
        "        print(\"loss: %f \" % (custom_loss()))"
      ],
      "metadata": {
        "id": "vBR-Wm5MXP7d",
        "outputId": "37547cfb-7992-4ffd-b68b-8e93bde1f534",
        "colab": {
          "base_uri": "https://localhost:8080/",
          "height": 1000
        }
      },
      "execution_count": null,
      "outputs": [
        {
          "output_type": "stream",
          "name": "stderr",
          "text": [
            "WARNING:tensorflow:Calling GradientTape.gradient on a persistent tape inside its context is significantly less efficient than calling it outside the context (it causes the gradient ops to be recorded on the tape, leading to increased CPU and memory usage). Only call GradientTape.gradient inside the context if you actually want to trace the gradient in order to compute higher order derivatives.\n"
          ]
        },
        {
          "output_type": "stream",
          "name": "stdout",
          "text": [
            "loss: 16226.163086 \n",
            "loss: 9.227602 \n",
            "loss: 7485.161621 \n",
            "loss: 10.367116 \n",
            "loss: 4506.379395 \n",
            "loss: 17.406197 \n",
            "loss: 2969.949219 \n",
            "loss: 9.738179 \n",
            "loss: 1955.538208 \n",
            "loss: 13.464764 \n",
            "loss: 1410.222656 \n",
            "loss: 16.515778 \n",
            "loss: 1339.480713 \n",
            "loss: 18.977001 \n",
            "loss: 1295.891968 \n",
            "loss: 22.621662 \n",
            "loss: 1257.162231 \n",
            "loss: 27.501942 \n",
            "loss: 1201.199463 \n",
            "loss: 34.337982 \n",
            "loss: 1128.456055 \n",
            "loss: 43.862000 \n",
            "loss: 1045.650635 \n",
            "loss: 58.542904 \n",
            "loss: 912.455750 \n",
            "loss: 79.655502 \n",
            "loss: 664.987671 \n",
            "loss: 94.061058 \n",
            "loss: 446.211029 \n",
            "loss: 93.638977 \n",
            "loss: 442.846985 \n",
            "loss: 93.819199 \n",
            "loss: 441.796967 \n",
            "loss: 94.224396 \n",
            "loss: 438.357605 \n",
            "loss: 93.223366 \n",
            "loss: 437.004089 \n",
            "loss: 93.117828 \n",
            "loss: 433.165558 \n",
            "loss: 92.959404 \n",
            "loss: 428.415771 \n",
            "loss: 93.511932 \n",
            "loss: 436.150543 \n",
            "loss: 92.761810 \n",
            "loss: 435.484924 \n",
            "loss: 93.556068 \n",
            "loss: 436.273682 \n",
            "loss: 93.007942 \n",
            "loss: 434.454590 \n",
            "loss: 93.842636 \n",
            "loss: 434.071594 \n",
            "loss: 92.942383 \n",
            "loss: 433.245483 \n",
            "loss: 92.885422 \n",
            "loss: 433.405182 \n",
            "loss: 93.656059 \n",
            "loss: 434.491058 \n",
            "loss: 93.251442 \n",
            "loss: 434.561768 \n",
            "loss: 92.136139 \n",
            "loss: 436.176239 \n"
          ]
        },
        {
          "output_type": "error",
          "ename": "KeyboardInterrupt",
          "evalue": "ignored",
          "traceback": [
            "\u001b[0;31m---------------------------------------------------------------------------\u001b[0m",
            "\u001b[0;31mKeyboardInterrupt\u001b[0m                         Traceback (most recent call last)",
            "\u001b[0;32m<ipython-input-23-ced3287723b1>\u001b[0m in \u001b[0;36m<cell line: 16>\u001b[0;34m()\u001b[0m\n\u001b[1;32m     15\u001b[0m \u001b[0;34m\u001b[0m\u001b[0m\n\u001b[1;32m     16\u001b[0m \u001b[0;32mfor\u001b[0m \u001b[0mi\u001b[0m \u001b[0;32min\u001b[0m \u001b[0mrange\u001b[0m\u001b[0;34m(\u001b[0m\u001b[0mtraining_steps\u001b[0m\u001b[0;34m)\u001b[0m\u001b[0;34m:\u001b[0m\u001b[0;34m\u001b[0m\u001b[0;34m\u001b[0m\u001b[0m\n\u001b[0;32m---> 17\u001b[0;31m     \u001b[0mtrain_step_t\u001b[0m\u001b[0;34m(\u001b[0m\u001b[0;34m)\u001b[0m\u001b[0;34m\u001b[0m\u001b[0;34m\u001b[0m\u001b[0m\n\u001b[0m\u001b[1;32m     18\u001b[0m     \u001b[0;32mif\u001b[0m \u001b[0mi\u001b[0m \u001b[0;34m%\u001b[0m \u001b[0mdisplay_step\u001b[0m \u001b[0;34m==\u001b[0m \u001b[0;36m0\u001b[0m\u001b[0;34m:\u001b[0m\u001b[0;34m\u001b[0m\u001b[0;34m\u001b[0m\u001b[0m\n\u001b[1;32m     19\u001b[0m         \u001b[0mprint\u001b[0m\u001b[0;34m(\u001b[0m\u001b[0;34m\"loss: %f \"\u001b[0m \u001b[0;34m%\u001b[0m \u001b[0;34m(\u001b[0m\u001b[0mcustom_loss\u001b[0m\u001b[0;34m(\u001b[0m\u001b[0;34m)\u001b[0m\u001b[0;34m)\u001b[0m\u001b[0;34m)\u001b[0m\u001b[0;34m\u001b[0m\u001b[0;34m\u001b[0m\u001b[0m\n",
            "\u001b[0;32m<ipython-input-23-ced3287723b1>\u001b[0m in \u001b[0;36mtrain_step_t\u001b[0;34m()\u001b[0m\n\u001b[1;32m     11\u001b[0m         \u001b[0mloss\u001b[0m \u001b[0;34m=\u001b[0m \u001b[0mtf\u001b[0m\u001b[0;34m.\u001b[0m\u001b[0mreduce_sum\u001b[0m\u001b[0;34m(\u001b[0m\u001b[0mtf\u001b[0m\u001b[0;34m.\u001b[0m\u001b[0mabs\u001b[0m\u001b[0;34m(\u001b[0m\u001b[0msummation\u001b[0m\u001b[0;34m)\u001b[0m\u001b[0;34m)\u001b[0m\u001b[0;34m\u001b[0m\u001b[0;34m\u001b[0m\u001b[0m\n\u001b[1;32m     12\u001b[0m     \u001b[0mtrainable_variables\u001b[0m \u001b[0;34m=\u001b[0m \u001b[0mlist\u001b[0m\u001b[0;34m(\u001b[0m\u001b[0mweights\u001b[0m\u001b[0;34m.\u001b[0m\u001b[0mvalues\u001b[0m\u001b[0;34m(\u001b[0m\u001b[0;34m)\u001b[0m\u001b[0;34m)\u001b[0m \u001b[0;34m+\u001b[0m \u001b[0mlist\u001b[0m\u001b[0;34m(\u001b[0m\u001b[0mbiases\u001b[0m\u001b[0;34m.\u001b[0m\u001b[0mvalues\u001b[0m\u001b[0;34m(\u001b[0m\u001b[0;34m)\u001b[0m\u001b[0;34m)\u001b[0m\u001b[0;34m\u001b[0m\u001b[0;34m\u001b[0m\u001b[0m\n\u001b[0;32m---> 13\u001b[0;31m     \u001b[0mgradients\u001b[0m \u001b[0;34m=\u001b[0m \u001b[0mtape\u001b[0m\u001b[0;34m.\u001b[0m\u001b[0mgradient\u001b[0m\u001b[0;34m(\u001b[0m\u001b[0mloss\u001b[0m\u001b[0;34m,\u001b[0m \u001b[0mtrainable_variables\u001b[0m\u001b[0;34m)\u001b[0m\u001b[0;34m\u001b[0m\u001b[0;34m\u001b[0m\u001b[0m\n\u001b[0m\u001b[1;32m     14\u001b[0m     \u001b[0moptimizer\u001b[0m\u001b[0;34m.\u001b[0m\u001b[0mapply_gradients\u001b[0m\u001b[0;34m(\u001b[0m\u001b[0mzip\u001b[0m\u001b[0;34m(\u001b[0m\u001b[0mgradients\u001b[0m\u001b[0;34m,\u001b[0m \u001b[0mtrainable_variables\u001b[0m\u001b[0;34m)\u001b[0m\u001b[0;34m)\u001b[0m\u001b[0;34m\u001b[0m\u001b[0;34m\u001b[0m\u001b[0m\n\u001b[1;32m     15\u001b[0m \u001b[0;34m\u001b[0m\u001b[0m\n",
            "\u001b[0;32m/usr/local/lib/python3.10/dist-packages/tensorflow/python/eager/backprop.py\u001b[0m in \u001b[0;36mgradient\u001b[0;34m(self, target, sources, output_gradients, unconnected_gradients)\u001b[0m\n\u001b[1;32m   1061\u001b[0m                           for x in output_gradients]\n\u001b[1;32m   1062\u001b[0m \u001b[0;34m\u001b[0m\u001b[0m\n\u001b[0;32m-> 1063\u001b[0;31m     flat_grad = imperative_grad.imperative_grad(\n\u001b[0m\u001b[1;32m   1064\u001b[0m         \u001b[0mself\u001b[0m\u001b[0;34m.\u001b[0m\u001b[0m_tape\u001b[0m\u001b[0;34m,\u001b[0m\u001b[0;34m\u001b[0m\u001b[0;34m\u001b[0m\u001b[0m\n\u001b[1;32m   1065\u001b[0m         \u001b[0mflat_targets\u001b[0m\u001b[0;34m,\u001b[0m\u001b[0;34m\u001b[0m\u001b[0;34m\u001b[0m\u001b[0m\n",
            "\u001b[0;32m/usr/local/lib/python3.10/dist-packages/tensorflow/python/eager/imperative_grad.py\u001b[0m in \u001b[0;36mimperative_grad\u001b[0;34m(tape, target, sources, output_gradients, sources_raw, unconnected_gradients)\u001b[0m\n\u001b[1;32m     65\u001b[0m         \"Unknown value for unconnected_gradients: %r\" % unconnected_gradients)\n\u001b[1;32m     66\u001b[0m \u001b[0;34m\u001b[0m\u001b[0m\n\u001b[0;32m---> 67\u001b[0;31m   return pywrap_tfe.TFE_Py_TapeGradient(\n\u001b[0m\u001b[1;32m     68\u001b[0m       \u001b[0mtape\u001b[0m\u001b[0;34m.\u001b[0m\u001b[0m_tape\u001b[0m\u001b[0;34m,\u001b[0m  \u001b[0;31m# pylint: disable=protected-access\u001b[0m\u001b[0;34m\u001b[0m\u001b[0;34m\u001b[0m\u001b[0m\n\u001b[1;32m     69\u001b[0m       \u001b[0mtarget\u001b[0m\u001b[0;34m,\u001b[0m\u001b[0;34m\u001b[0m\u001b[0;34m\u001b[0m\u001b[0m\n",
            "\u001b[0;32m/usr/local/lib/python3.10/dist-packages/tensorflow/python/eager/backprop.py\u001b[0m in \u001b[0;36m_gradient_function\u001b[0;34m(op_name, attr_tuple, num_inputs, inputs, outputs, out_grads, skip_input_indices, forward_pass_name_scope)\u001b[0m\n\u001b[1;32m    144\u001b[0m       \u001b[0mgradient_name_scope\u001b[0m \u001b[0;34m+=\u001b[0m \u001b[0mforward_pass_name_scope\u001b[0m \u001b[0;34m+\u001b[0m \u001b[0;34m\"/\"\u001b[0m\u001b[0;34m\u001b[0m\u001b[0;34m\u001b[0m\u001b[0m\n\u001b[1;32m    145\u001b[0m     \u001b[0;32mwith\u001b[0m \u001b[0mops\u001b[0m\u001b[0;34m.\u001b[0m\u001b[0mname_scope\u001b[0m\u001b[0;34m(\u001b[0m\u001b[0mgradient_name_scope\u001b[0m\u001b[0;34m)\u001b[0m\u001b[0;34m:\u001b[0m\u001b[0;34m\u001b[0m\u001b[0;34m\u001b[0m\u001b[0m\n\u001b[0;32m--> 146\u001b[0;31m       \u001b[0;32mreturn\u001b[0m \u001b[0mgrad_fn\u001b[0m\u001b[0;34m(\u001b[0m\u001b[0mmock_op\u001b[0m\u001b[0;34m,\u001b[0m \u001b[0;34m*\u001b[0m\u001b[0mout_grads\u001b[0m\u001b[0;34m)\u001b[0m\u001b[0;34m\u001b[0m\u001b[0;34m\u001b[0m\u001b[0m\n\u001b[0m\u001b[1;32m    147\u001b[0m   \u001b[0;32melse\u001b[0m\u001b[0;34m:\u001b[0m\u001b[0;34m\u001b[0m\u001b[0;34m\u001b[0m\u001b[0m\n\u001b[1;32m    148\u001b[0m     \u001b[0;32mreturn\u001b[0m \u001b[0mgrad_fn\u001b[0m\u001b[0;34m(\u001b[0m\u001b[0mmock_op\u001b[0m\u001b[0;34m,\u001b[0m \u001b[0;34m*\u001b[0m\u001b[0mout_grads\u001b[0m\u001b[0;34m)\u001b[0m\u001b[0;34m\u001b[0m\u001b[0;34m\u001b[0m\u001b[0m\n",
            "\u001b[0;32m/usr/local/lib/python3.10/dist-packages/tensorflow/python/ops/math_grad.py\u001b[0m in \u001b[0;36m_BatchMatMulV2\u001b[0;34m(op, grad)\u001b[0m\n\u001b[1;32m   1859\u001b[0m     \u001b[0;32mif\u001b[0m \u001b[0;32mnot\u001b[0m \u001b[0madj_y\u001b[0m\u001b[0;34m:\u001b[0m\u001b[0;34m\u001b[0m\u001b[0;34m\u001b[0m\u001b[0m\n\u001b[1;32m   1860\u001b[0m       \u001b[0mgrad_x\u001b[0m \u001b[0;34m=\u001b[0m \u001b[0mmath_ops\u001b[0m\u001b[0;34m.\u001b[0m\u001b[0mmatmul\u001b[0m\u001b[0;34m(\u001b[0m\u001b[0mgrad\u001b[0m\u001b[0;34m,\u001b[0m \u001b[0my\u001b[0m\u001b[0;34m,\u001b[0m \u001b[0madjoint_a\u001b[0m\u001b[0;34m=\u001b[0m\u001b[0;32mFalse\u001b[0m\u001b[0;34m,\u001b[0m \u001b[0madjoint_b\u001b[0m\u001b[0;34m=\u001b[0m\u001b[0;32mTrue\u001b[0m\u001b[0;34m)\u001b[0m\u001b[0;34m\u001b[0m\u001b[0;34m\u001b[0m\u001b[0m\n\u001b[0;32m-> 1861\u001b[0;31m       \u001b[0mgrad_y\u001b[0m \u001b[0;34m=\u001b[0m \u001b[0mmath_ops\u001b[0m\u001b[0;34m.\u001b[0m\u001b[0mmatmul\u001b[0m\u001b[0;34m(\u001b[0m\u001b[0mx\u001b[0m\u001b[0;34m,\u001b[0m \u001b[0mgrad\u001b[0m\u001b[0;34m,\u001b[0m \u001b[0madjoint_a\u001b[0m\u001b[0;34m=\u001b[0m\u001b[0;32mTrue\u001b[0m\u001b[0;34m,\u001b[0m \u001b[0madjoint_b\u001b[0m\u001b[0;34m=\u001b[0m\u001b[0;32mFalse\u001b[0m\u001b[0;34m)\u001b[0m\u001b[0;34m\u001b[0m\u001b[0;34m\u001b[0m\u001b[0m\n\u001b[0m\u001b[1;32m   1862\u001b[0m     \u001b[0;32melse\u001b[0m\u001b[0;34m:\u001b[0m\u001b[0;34m\u001b[0m\u001b[0;34m\u001b[0m\u001b[0m\n\u001b[1;32m   1863\u001b[0m       \u001b[0mgrad_x\u001b[0m \u001b[0;34m=\u001b[0m \u001b[0mmath_ops\u001b[0m\u001b[0;34m.\u001b[0m\u001b[0mmatmul\u001b[0m\u001b[0;34m(\u001b[0m\u001b[0mgrad\u001b[0m\u001b[0;34m,\u001b[0m \u001b[0my\u001b[0m\u001b[0;34m,\u001b[0m \u001b[0madjoint_a\u001b[0m\u001b[0;34m=\u001b[0m\u001b[0;32mFalse\u001b[0m\u001b[0;34m,\u001b[0m \u001b[0madjoint_b\u001b[0m\u001b[0;34m=\u001b[0m\u001b[0;32mFalse\u001b[0m\u001b[0;34m)\u001b[0m\u001b[0;34m\u001b[0m\u001b[0;34m\u001b[0m\u001b[0m\n",
            "\u001b[0;32m/usr/local/lib/python3.10/dist-packages/tensorflow/python/util/traceback_utils.py\u001b[0m in \u001b[0;36merror_handler\u001b[0;34m(*args, **kwargs)\u001b[0m\n\u001b[1;32m    148\u001b[0m     \u001b[0mfiltered_tb\u001b[0m \u001b[0;34m=\u001b[0m \u001b[0;32mNone\u001b[0m\u001b[0;34m\u001b[0m\u001b[0;34m\u001b[0m\u001b[0m\n\u001b[1;32m    149\u001b[0m     \u001b[0;32mtry\u001b[0m\u001b[0;34m:\u001b[0m\u001b[0;34m\u001b[0m\u001b[0;34m\u001b[0m\u001b[0m\n\u001b[0;32m--> 150\u001b[0;31m       \u001b[0;32mreturn\u001b[0m \u001b[0mfn\u001b[0m\u001b[0;34m(\u001b[0m\u001b[0;34m*\u001b[0m\u001b[0margs\u001b[0m\u001b[0;34m,\u001b[0m \u001b[0;34m**\u001b[0m\u001b[0mkwargs\u001b[0m\u001b[0;34m)\u001b[0m\u001b[0;34m\u001b[0m\u001b[0;34m\u001b[0m\u001b[0m\n\u001b[0m\u001b[1;32m    151\u001b[0m     \u001b[0;32mexcept\u001b[0m \u001b[0mException\u001b[0m \u001b[0;32mas\u001b[0m \u001b[0me\u001b[0m\u001b[0;34m:\u001b[0m\u001b[0;34m\u001b[0m\u001b[0;34m\u001b[0m\u001b[0m\n\u001b[1;32m    152\u001b[0m       \u001b[0mfiltered_tb\u001b[0m \u001b[0;34m=\u001b[0m \u001b[0m_process_traceback_frames\u001b[0m\u001b[0;34m(\u001b[0m\u001b[0me\u001b[0m\u001b[0;34m.\u001b[0m\u001b[0m__traceback__\u001b[0m\u001b[0;34m)\u001b[0m\u001b[0;34m\u001b[0m\u001b[0;34m\u001b[0m\u001b[0m\n",
            "\u001b[0;32m/usr/local/lib/python3.10/dist-packages/tensorflow/python/util/dispatch.py\u001b[0m in \u001b[0;36mop_dispatch_handler\u001b[0;34m(*args, **kwargs)\u001b[0m\n\u001b[1;32m   1174\u001b[0m       \u001b[0;31m# Fallback dispatch system (dispatch v1):\u001b[0m\u001b[0;34m\u001b[0m\u001b[0;34m\u001b[0m\u001b[0m\n\u001b[1;32m   1175\u001b[0m       \u001b[0;32mtry\u001b[0m\u001b[0;34m:\u001b[0m\u001b[0;34m\u001b[0m\u001b[0;34m\u001b[0m\u001b[0m\n\u001b[0;32m-> 1176\u001b[0;31m         \u001b[0;32mreturn\u001b[0m \u001b[0mdispatch_target\u001b[0m\u001b[0;34m(\u001b[0m\u001b[0;34m*\u001b[0m\u001b[0margs\u001b[0m\u001b[0;34m,\u001b[0m \u001b[0;34m**\u001b[0m\u001b[0mkwargs\u001b[0m\u001b[0;34m)\u001b[0m\u001b[0;34m\u001b[0m\u001b[0;34m\u001b[0m\u001b[0m\n\u001b[0m\u001b[1;32m   1177\u001b[0m       \u001b[0;32mexcept\u001b[0m \u001b[0;34m(\u001b[0m\u001b[0mTypeError\u001b[0m\u001b[0;34m,\u001b[0m \u001b[0mValueError\u001b[0m\u001b[0;34m)\u001b[0m\u001b[0;34m:\u001b[0m\u001b[0;34m\u001b[0m\u001b[0;34m\u001b[0m\u001b[0m\n\u001b[1;32m   1178\u001b[0m         \u001b[0;31m# Note: convert_to_eager_tensor currently raises a ValueError, not a\u001b[0m\u001b[0;34m\u001b[0m\u001b[0;34m\u001b[0m\u001b[0m\n",
            "\u001b[0;32m/usr/local/lib/python3.10/dist-packages/tensorflow/python/ops/math_ops.py\u001b[0m in \u001b[0;36mmatmul\u001b[0;34m(a, b, transpose_a, transpose_b, adjoint_a, adjoint_b, a_is_sparse, b_is_sparse, output_type, name)\u001b[0m\n\u001b[1;32m   3717\u001b[0m             a, b, adj_x=adjoint_a, adj_y=adjoint_b, Tout=output_type, name=name)\n\u001b[1;32m   3718\u001b[0m       \u001b[0;32melse\u001b[0m\u001b[0;34m:\u001b[0m\u001b[0;34m\u001b[0m\u001b[0;34m\u001b[0m\u001b[0m\n\u001b[0;32m-> 3719\u001b[0;31m         return gen_math_ops.batch_mat_mul_v2(\n\u001b[0m\u001b[1;32m   3720\u001b[0m             a, b, adj_x=adjoint_a, adj_y=adjoint_b, name=name)\n\u001b[1;32m   3721\u001b[0m \u001b[0;34m\u001b[0m\u001b[0m\n",
            "\u001b[0;32m/usr/local/lib/python3.10/dist-packages/tensorflow/python/ops/gen_math_ops.py\u001b[0m in \u001b[0;36mbatch_mat_mul_v2\u001b[0;34m(x, y, adj_x, adj_y, name)\u001b[0m\n\u001b[1;32m   1568\u001b[0m   \u001b[0;32mif\u001b[0m \u001b[0mtld\u001b[0m\u001b[0;34m.\u001b[0m\u001b[0mis_eager\u001b[0m\u001b[0;34m:\u001b[0m\u001b[0;34m\u001b[0m\u001b[0;34m\u001b[0m\u001b[0m\n\u001b[1;32m   1569\u001b[0m     \u001b[0;32mtry\u001b[0m\u001b[0;34m:\u001b[0m\u001b[0;34m\u001b[0m\u001b[0;34m\u001b[0m\u001b[0m\n\u001b[0;32m-> 1570\u001b[0;31m       _result = pywrap_tfe.TFE_Py_FastPathExecute(\n\u001b[0m\u001b[1;32m   1571\u001b[0m         _ctx, \"BatchMatMulV2\", name, x, y, \"adj_x\", adj_x, \"adj_y\", adj_y)\n\u001b[1;32m   1572\u001b[0m       \u001b[0;32mreturn\u001b[0m \u001b[0m_result\u001b[0m\u001b[0;34m\u001b[0m\u001b[0;34m\u001b[0m\u001b[0m\n",
            "\u001b[0;31mKeyboardInterrupt\u001b[0m: "
          ]
        }
      ]
    },
    {
      "cell_type": "code",
      "source": [
        "multilayer_perceptron(1)"
      ],
      "metadata": {
        "id": "8wbe8OpTQ1ot",
        "outputId": "1067cd09-413f-4a5d-d5a7-5ca04de91fad",
        "colab": {
          "base_uri": "https://localhost:8080/",
          "height": 554
        }
      },
      "execution_count": null,
      "outputs": [
        {
          "output_type": "error",
          "ename": "InvalidArgumentError",
          "evalue": "ignored",
          "traceback": [
            "\u001b[0;31m---------------------------------------------------------------------------\u001b[0m",
            "\u001b[0;31mInvalidArgumentError\u001b[0m                      Traceback (most recent call last)",
            "\u001b[0;32m<ipython-input-12-7da3e2f5762c>\u001b[0m in \u001b[0;36m<cell line: 1>\u001b[0;34m()\u001b[0m\n\u001b[0;32m----> 1\u001b[0;31m \u001b[0mmultilayer_perceptron\u001b[0m\u001b[0;34m(\u001b[0m\u001b[0;36m1\u001b[0m\u001b[0;34m)\u001b[0m\u001b[0;34m\u001b[0m\u001b[0;34m\u001b[0m\u001b[0m\n\u001b[0m",
            "\u001b[0;32m<ipython-input-8-ca8d4c5a8725>\u001b[0m in \u001b[0;36mmultilayer_perceptron\u001b[0;34m(x)\u001b[0m\n\u001b[1;32m     33\u001b[0m     \u001b[0mx\u001b[0m \u001b[0;34m=\u001b[0m \u001b[0mnp\u001b[0m\u001b[0;34m.\u001b[0m\u001b[0marray\u001b[0m\u001b[0;34m(\u001b[0m\u001b[0;34m[\u001b[0m\u001b[0;34m[\u001b[0m\u001b[0;34m[\u001b[0m\u001b[0mx\u001b[0m\u001b[0;34m]\u001b[0m\u001b[0;34m]\u001b[0m\u001b[0;34m]\u001b[0m\u001b[0;34m,\u001b[0m  \u001b[0mdtype\u001b[0m\u001b[0;34m=\u001b[0m\u001b[0;34m'float32'\u001b[0m\u001b[0;34m)\u001b[0m\u001b[0;34m\u001b[0m\u001b[0;34m\u001b[0m\u001b[0m\n\u001b[1;32m     34\u001b[0m     \u001b[0;31m# Hidden fully connected layer with 32 neurons\u001b[0m\u001b[0;34m\u001b[0m\u001b[0;34m\u001b[0m\u001b[0m\n\u001b[0;32m---> 35\u001b[0;31m     \u001b[0mlayer_1\u001b[0m \u001b[0;34m=\u001b[0m \u001b[0mtf\u001b[0m\u001b[0;34m.\u001b[0m\u001b[0madd\u001b[0m\u001b[0;34m(\u001b[0m\u001b[0mtf\u001b[0m\u001b[0;34m.\u001b[0m\u001b[0mmatmul\u001b[0m\u001b[0;34m(\u001b[0m\u001b[0mx\u001b[0m\u001b[0;34m,\u001b[0m \u001b[0mweights\u001b[0m\u001b[0;34m[\u001b[0m\u001b[0;34m'h1'\u001b[0m\u001b[0;34m]\u001b[0m\u001b[0;34m)\u001b[0m\u001b[0;34m,\u001b[0m \u001b[0mbiases\u001b[0m\u001b[0;34m[\u001b[0m\u001b[0;34m'b1'\u001b[0m\u001b[0;34m]\u001b[0m\u001b[0;34m)\u001b[0m\u001b[0;34m\u001b[0m\u001b[0;34m\u001b[0m\u001b[0m\n\u001b[0m\u001b[1;32m     36\u001b[0m     \u001b[0mlayer_1\u001b[0m \u001b[0;34m=\u001b[0m \u001b[0mtf\u001b[0m\u001b[0;34m.\u001b[0m\u001b[0mnn\u001b[0m\u001b[0;34m.\u001b[0m\u001b[0msigmoid\u001b[0m\u001b[0;34m(\u001b[0m\u001b[0mlayer_1\u001b[0m\u001b[0;34m)\u001b[0m\u001b[0;34m\u001b[0m\u001b[0;34m\u001b[0m\u001b[0m\n\u001b[1;32m     37\u001b[0m     \u001b[0;31m# Hidden fully connected layer with 32 neurons\u001b[0m\u001b[0;34m\u001b[0m\u001b[0;34m\u001b[0m\u001b[0m\n",
            "\u001b[0;32m/usr/local/lib/python3.10/dist-packages/tensorflow/python/util/traceback_utils.py\u001b[0m in \u001b[0;36merror_handler\u001b[0;34m(*args, **kwargs)\u001b[0m\n\u001b[1;32m    151\u001b[0m     \u001b[0;32mexcept\u001b[0m \u001b[0mException\u001b[0m \u001b[0;32mas\u001b[0m \u001b[0me\u001b[0m\u001b[0;34m:\u001b[0m\u001b[0;34m\u001b[0m\u001b[0;34m\u001b[0m\u001b[0m\n\u001b[1;32m    152\u001b[0m       \u001b[0mfiltered_tb\u001b[0m \u001b[0;34m=\u001b[0m \u001b[0m_process_traceback_frames\u001b[0m\u001b[0;34m(\u001b[0m\u001b[0me\u001b[0m\u001b[0;34m.\u001b[0m\u001b[0m__traceback__\u001b[0m\u001b[0;34m)\u001b[0m\u001b[0;34m\u001b[0m\u001b[0;34m\u001b[0m\u001b[0m\n\u001b[0;32m--> 153\u001b[0;31m       \u001b[0;32mraise\u001b[0m \u001b[0me\u001b[0m\u001b[0;34m.\u001b[0m\u001b[0mwith_traceback\u001b[0m\u001b[0;34m(\u001b[0m\u001b[0mfiltered_tb\u001b[0m\u001b[0;34m)\u001b[0m \u001b[0;32mfrom\u001b[0m \u001b[0;32mNone\u001b[0m\u001b[0;34m\u001b[0m\u001b[0;34m\u001b[0m\u001b[0m\n\u001b[0m\u001b[1;32m    154\u001b[0m     \u001b[0;32mfinally\u001b[0m\u001b[0;34m:\u001b[0m\u001b[0;34m\u001b[0m\u001b[0;34m\u001b[0m\u001b[0m\n\u001b[1;32m    155\u001b[0m       \u001b[0;32mdel\u001b[0m \u001b[0mfiltered_tb\u001b[0m\u001b[0;34m\u001b[0m\u001b[0;34m\u001b[0m\u001b[0m\n",
            "\u001b[0;32m/usr/local/lib/python3.10/dist-packages/tensorflow/python/framework/ops.py\u001b[0m in \u001b[0;36mraise_from_not_ok_status\u001b[0;34m(e, name)\u001b[0m\n\u001b[1;32m   7260\u001b[0m \u001b[0;32mdef\u001b[0m \u001b[0mraise_from_not_ok_status\u001b[0m\u001b[0;34m(\u001b[0m\u001b[0me\u001b[0m\u001b[0;34m,\u001b[0m \u001b[0mname\u001b[0m\u001b[0;34m)\u001b[0m\u001b[0;34m:\u001b[0m\u001b[0;34m\u001b[0m\u001b[0;34m\u001b[0m\u001b[0m\n\u001b[1;32m   7261\u001b[0m   \u001b[0me\u001b[0m\u001b[0;34m.\u001b[0m\u001b[0mmessage\u001b[0m \u001b[0;34m+=\u001b[0m \u001b[0;34m(\u001b[0m\u001b[0;34m\" name: \"\u001b[0m \u001b[0;34m+\u001b[0m \u001b[0mname\u001b[0m \u001b[0;32mif\u001b[0m \u001b[0mname\u001b[0m \u001b[0;32mis\u001b[0m \u001b[0;32mnot\u001b[0m \u001b[0;32mNone\u001b[0m \u001b[0;32melse\u001b[0m \u001b[0;34m\"\"\u001b[0m\u001b[0;34m)\u001b[0m\u001b[0;34m\u001b[0m\u001b[0;34m\u001b[0m\u001b[0m\n\u001b[0;32m-> 7262\u001b[0;31m   \u001b[0;32mraise\u001b[0m \u001b[0mcore\u001b[0m\u001b[0;34m.\u001b[0m\u001b[0m_status_to_exception\u001b[0m\u001b[0;34m(\u001b[0m\u001b[0me\u001b[0m\u001b[0;34m)\u001b[0m \u001b[0;32mfrom\u001b[0m \u001b[0;32mNone\u001b[0m  \u001b[0;31m# pylint: disable=protected-access\u001b[0m\u001b[0;34m\u001b[0m\u001b[0;34m\u001b[0m\u001b[0m\n\u001b[0m\u001b[1;32m   7263\u001b[0m \u001b[0;34m\u001b[0m\u001b[0m\n\u001b[1;32m   7264\u001b[0m \u001b[0;34m\u001b[0m\u001b[0m\n",
            "\u001b[0;31mInvalidArgumentError\u001b[0m: {{function_node __wrapped__BatchMatMulV2_device_/job:localhost/replica:0/task:0/device:GPU:0}} Matrix size-incompatible: In[0]: [1,1,1], In[1]: [2,32] [Op:BatchMatMulV2]"
          ]
        }
      ]
    },
    {
      "cell_type": "code",
      "source": [
        "curr_beta = beta0[0]\n",
        "beta_hat = np.zeros(beta.shape[1])\n",
        "for i in range(beta.shape[1]):\n",
        "    # x = np.array([curr_beta, T(i*dt)])\n",
        "    # print(curr_beta)\n",
        "    beta_hat[i] = g(dt*i).numpy()[0][0][0]\n",
        "    \n",
        "plt.plot(t, beta_hat)\n",
        "\n",
        "cn_solver.plot_solutions([\"soluzione vera\"])"
      ],
      "metadata": {
        "outputId": "95004bc6-bca0-46f5-a9b0-63eb817a8159",
        "colab": {
          "base_uri": "https://localhost:8080/",
          "height": 430
        },
        "id": "_5W1VrU0LZ6P"
      },
      "execution_count": null,
      "outputs": [
        {
          "output_type": "display_data",
          "data": {
            "text/plain": [
              "<Figure size 640x480 with 1 Axes>"
            ],
            "image/png": "[encoded data removed]"
          },
          "metadata": {}
        }
      ]
    },
    {
      "cell_type": "markdown",
      "source": [
        "##Prova codice di ale"
      ],
      "metadata": {
        "id": "EDgaD4warqvr"
      }
    },
    {
      "cell_type": "code",
      "source": [
        "!reset"
      ],
      "metadata": {
        "id": "jWc7TtL3rvMS",
        "outputId": "c507b092-dc3c-4e4e-ec99-d2729e94d31c",
        "colab": {
          "base_uri": "https://localhost:8080/"
        }
      },
      "execution_count": null,
      "outputs": [
        {
          "output_type": "stream",
          "name": "stdout",
          "text": [
            "\u001b[m\u001b[?7h\u001b[4l\u001b>\u001b7\u001b[r\u001b[?1;3;4;6l\u001b8\r"
          ]
        }
      ]
    },
    {
      "cell_type": "code",
      "source": [
        "import numpy as np\n",
        "import tensorflow as tf\n",
        "import math\n",
        "import MyCrankNicolsonClass as cnc\n",
        "from matplotlib import pyplot as plt\n",
        "import os\n",
        "import random\n",
        "import MyDatasetGenerator as dg\n",
        "\n",
        "tfk = tf.keras\n",
        "tfkl = tf.keras.layers\n",
        "tf.keras.backend.set_floatx('float64')\n",
        "\n",
        "# Random seed for reproducibility\n",
        "seed = 42\n",
        "\n",
        "random.seed(seed)\n",
        "os.environ['PYTHONHASHSEED'] = str(seed)\n",
        "np.random.seed(seed)\n",
        "tf.random.set_seed(seed)\n",
        "tf.compat.v1.set_random_seed(seed)\n",
        "\n",
        "f0 = 1\n",
        "inf_s = np.sqrt(np.finfo(np.float32).eps)\n",
        "learning_rate = 0.01\n",
        "training_steps = 100\n",
        "batch_size = 100\n",
        "display_step = 1\n",
        "# Network Parameters\n",
        "n_input = 2     # input layer number of neurons\n",
        "n_hidden_1 = 32 # 1st layer number of neurons\n",
        "n_hidden_2 = 32 # 2nd layer number of neurons\n",
        "n_output = 1    # output layer number of neurons\n",
        "\n",
        "initializer = tf.keras.initializers.GlorotNormal(seed = seed)\n",
        "\n",
        "weights = {\n",
        "'h1': tf.Variable(initializer(shape = (n_input, n_hidden_1))),\n",
        "'h2': tf.Variable(initializer(shape = (n_hidden_1, n_hidden_2))),\n",
        "'out': tf.Variable(initializer(shape = (n_hidden_2, n_output)))\n",
        "}\n",
        "biases = {\n",
        "'b1': tf.Variable(initializer(shape = (n_hidden_1,))),\n",
        "'b2': tf.Variable(initializer(shape = (n_hidden_2,))),\n",
        "'out': tf.Variable(initializer(shape = (n_output,)))\n",
        "}\n",
        "# Stochastic gradient descent optimizer.\n",
        "optimizer = tf.optimizers.SGD(learning_rate)\n",
        "\n",
        "# Create model\n",
        "def multilayer_perceptron(x):\n",
        "  #x = np.array([[[x]]],  dtype='float32')\n",
        "  layer_1 = tf.add(tf.matmul(x, weights['h1']), biases['b1'])\n",
        "  #layer_1 = tf.nn.leaky_relu(layer_1)\n",
        "  layer_1 = tf.nn.tanh(layer_1)\n",
        "  layer_2 = tf.add(tf.matmul(layer_1, weights['h2']), biases['b2'])\n",
        "  #layer_2 = tf.nn.leaky_relu(layer_2)\n",
        "  layer_2 = tf.nn.tanh(layer_2)\n",
        "  output = tf.matmul(layer_2, weights['out']) + biases['out']\n",
        "  return output\n",
        "# Universal Approximator\n"
      ],
      "metadata": {
        "id": "h2xyeTmCr6pl"
      },
      "execution_count": null,
      "outputs": []
    },
    {
      "cell_type": "code",
      "source": [
        "model = tfk.Sequential([\n",
        "    tfk.layers.Dense(50, activation='tanh', input_shape=(2,)),\n",
        "    tfk.layers.Dense(50, activation='tanh'),\n",
        "    tfk.layers.Dense(1),\n",
        "#    tfk.layers.Softmax()\n",
        "])\n",
        "x = tf.constant([[1,2]])\n",
        "model(x)"
      ],
      "metadata": {
        "colab": {
          "base_uri": "https://localhost:8080/"
        },
        "id": "xaIWKfydLugb",
        "outputId": "dda0b98b-65a8-4c1d-b46f-6f0f2068eb97"
      },
      "execution_count": null,
      "outputs": [
        {
          "output_type": "execute_result",
          "data": {
            "text/plain": [
              "<tf.Tensor: shape=(1, 1), dtype=float64, numpy=array([[0.22875319]])>"
            ]
          },
          "metadata": {},
          "execution_count": 15
        }
      ]
    },
    {
      "cell_type": "code",
      "source": [
        "def g(beta, T):\n",
        "    T = tf.expand_dims(T,-1)\n",
        "    T = tf.expand_dims(T,-1)  \n",
        "    x = tf.concat([beta,T],-1)\n",
        "    #return x * multilayer_perceptron(x)\n",
        "    return model(x)\n",
        "# Given EDO\n",
        "tau =365\n",
        "\n",
        "def beta_eq(T):\n",
        "    return 0.8 - (0.6/35)*T\n",
        "\"\"\"\n",
        "def T(t):\n",
        "    return -t**2+5*t\n",
        "\"\"\"\n",
        "\n",
        "# QUI VENGONO GENERATE DELLE TEMPERATURE\n",
        "temperature_funcs = []\n",
        "K = 5 # numero di funzioni temperatura\n",
        "for k in range(K):\n",
        "    center = random.gauss(120.0, 5.0)\n",
        "    height = random.gauss(16.0, 2.0)\n",
        "    width = random.gauss(14.0, 1.0)\n",
        "    def T(t):\n",
        "        return math.sin(2*math.pi/tau*(t-center))*width + height\n",
        "    temperature_funcs.append(T)\n",
        "     \n",
        "\n",
        "# QUI VIENE DEFINITO IL SISTEMA: dbeta = f(beta(t), T(t))\n",
        "\n",
        "N = 100\n",
        "t_max = 365.\n",
        "beta0 = np.array([0.1])\n",
        "def f(beta, T):\n",
        "    return (beta_eq(T) - beta[0])/tau\n",
        "\n",
        "data = {\n",
        "    \"N\" : N,\n",
        "    \"t_max\" : t_max,\n",
        "    \"beta0\" : beta0,\n",
        "    \"f\" : f\n",
        "}\n",
        "\n",
        "dataset = dg.generate_dataset(temperature_funcs, data)\n",
        "dataset = tf.convert_to_tensor(dataset)\n",
        "dataset = dataset\n",
        "\n",
        "# UNA NUOVA CUSTOM_LOSS CHE UTILIZZA TUTTE LE TEMPERATURE\n",
        "dt = t_max / N\n",
        "summation_step = 5\n",
        "def custom_loss():\n",
        "    summation = []\n",
        "    for k in range(K):\n",
        "        curr_beta = tf.constant([[beta0[0]]])\n",
        "        next_beta = curr_beta\n",
        "        for i in range(N-1):\n",
        "            next_beta = curr_beta + dt/365 * g(curr_beta, dataset[0, k, i]/365)\n",
        "            if i % summation_step == 0:\n",
        "                summation.append((dataset[1, k, i+1] - next_beta)**2)\n",
        "            curr_beta = next_beta\n",
        "    return tf.sqrt(tf.reduce_mean(tf.abs(summation)))\n",
        "\n",
        "def train_step():\n",
        "    with tf.GradientTape() as tape:\n",
        "        loss = custom_loss()\n",
        "    #trainable_variables=list(weights.values())+list(biases.values())\n",
        "    gradients = tape.gradient(loss, model.trainable_variables)\n",
        "    optimizer.apply_gradients(zip(gradients, model.trainable_variables))\n",
        "# Training the Model:\n"
      ],
      "metadata": {
        "id": "fs7l2MtWpak9"
      },
      "execution_count": null,
      "outputs": []
    },
    {
      "cell_type": "code",
      "source": [
        "for i in range(training_steps):\n",
        "  train_step()\n",
        "  if i % display_step == 0:\n",
        "    print(\"iterazione numero: %i \" %(i))\n",
        "    print(\"loss: %f \" % (custom_loss()))\n",
        "\n",
        "\"\"\"\n",
        "curr_beta = beta0[0]\n",
        "beta_hat = np.zeros(beta.shape[1])\n",
        "beta_hat[0]=curr_beta\n",
        "for i in range(beta.shape[1]-1):\n",
        "    # x = np.array([curr_beta, T(i*dt)])\n",
        "    # print(curr_beta)\n",
        "    next_beta = curr_beta + dt * g( curr_beta, T(dt*i) ).numpy()[0][0][0][0]\n",
        "    beta_hat[i+1] = next_beta\n",
        "    curr_beta = next_beta\n",
        "\"\"\"\n",
        "\n",
        "# ORA GENERO UNA NUOVA TEMPERATURA DIFFERENTE DALLE PRECEDENTI E FACCIO UN PLOT\n",
        "\n",
        "center = random.gauss(120.0, 5.0)\n",
        "height = random.gauss(16.0, 2.0)\n",
        "width = random.gauss(14.0, 1.0)\n",
        "def T(t):\n",
        "    return math.sin(2*math.pi/tau*(t-center))*width + height\n",
        "\n",
        "\n",
        "\n",
        "def dbeta(beta, t):\n",
        "    return f(beta, T(t))\n",
        "sys = [dbeta]\n",
        "cn_solver = cnc.CrankNicolson(sys, beta0, t_max, N)\n",
        "cn_solver.compute_solution()\n",
        "t, beta = cn_solver.get_solution()\n",
        "curr_beta = tf.constant([[beta0[0]]])\n",
        "beta_hat = np.zeros(beta.shape[1])\n",
        "beta_hat[0]=curr_beta\n",
        "for i in range(beta.shape[1]-1):\n",
        "    next_beta = curr_beta + dt/365 * g( curr_beta, T(dt*i*365)/365 )\n",
        "    beta_hat[i+1] = next_beta[0][0]\n",
        "    curr_beta = next_beta\n",
        "\n",
        "pp = plt.plot(t, beta_hat)\n",
        "plt.plot(t, beta[0, ])\n",
        "plt.legend([\"soluzione rete\", \"solzione vera\"])"
      ],
      "metadata": {
        "id": "j4YHB7FAW4yJ",
        "outputId": "51ad559c-4d18-444b-f9f2-3f62d23651d2",
        "colab": {
          "base_uri": "https://localhost:8080/",
          "height": 1000
        }
      },
      "execution_count": null,
      "outputs": [
        {
          "output_type": "stream",
          "name": "stderr",
          "text": [
            "WARNING:tensorflow:5 out of the last 5 calls to <function _BaseOptimizer._update_step_xla at 0x7f5a35fac790> triggered tf.function retracing. Tracing is expensive and the excessive number of tracings could be due to (1) creating @tf.function repeatedly in a loop, (2) passing tensors with different shapes, (3) passing Python objects instead of tensors. For (1), please define your @tf.function outside of the loop. For (2), @tf.function has reduce_retracing=True option that can avoid unnecessary retracing. For (3), please refer to https://www.tensorflow.org/guide/function#controlling_retracing and https://www.tensorflow.org/api_docs/python/tf/function for  more details.\n",
            "WARNING:tensorflow:6 out of the last 6 calls to <function _BaseOptimizer._update_step_xla at 0x7f5a35fac790> triggered tf.function retracing. Tracing is expensive and the excessive number of tracings could be due to (1) creating @tf.function repeatedly in a loop, (2) passing tensors with different shapes, (3) passing Python objects instead of tensors. For (1), please define your @tf.function outside of the loop. For (2), @tf.function has reduce_retracing=True option that can avoid unnecessary retracing. For (3), please refer to https://www.tensorflow.org/guide/function#controlling_retracing and https://www.tensorflow.org/api_docs/python/tf/function for  more details.\n"
          ]
        },
        {
          "output_type": "stream",
          "name": "stdout",
          "text": [
            "iterazione numero: 0 \n",
            "loss: 0.148145 \n",
            "iterazione numero: 1 \n",
            "loss: 0.135288 \n",
            "iterazione numero: 2 \n",
            "loss: 0.122577 \n",
            "iterazione numero: 3 \n",
            "loss: 0.110084 \n",
            "iterazione numero: 4 \n",
            "loss: 0.097912 \n",
            "iterazione numero: 5 \n",
            "loss: 0.086220 \n",
            "iterazione numero: 6 \n",
            "loss: 0.075241 \n",
            "iterazione numero: 7 \n",
            "loss: 0.065307 \n",
            "iterazione numero: 8 \n",
            "loss: 0.056847 \n",
            "iterazione numero: 9 \n",
            "loss: 0.050298 \n",
            "iterazione numero: 10 \n",
            "loss: 0.045871 \n",
            "iterazione numero: 11 \n",
            "loss: 0.043327 \n",
            "iterazione numero: 12 \n",
            "loss: 0.042068 \n",
            "iterazione numero: 13 \n",
            "loss: 0.041505 \n",
            "iterazione numero: 14 \n",
            "loss: 0.041264 \n",
            "iterazione numero: 15 \n",
            "loss: 0.041158 \n",
            "iterazione numero: 16 \n",
            "loss: 0.041107 \n",
            "iterazione numero: 17 \n",
            "loss: 0.041078 \n",
            "iterazione numero: 18 \n",
            "loss: 0.041058 \n",
            "iterazione numero: 19 \n",
            "loss: 0.041041 \n",
            "iterazione numero: 20 \n",
            "loss: 0.041026 \n",
            "iterazione numero: 21 \n"
          ]
        },
        {
          "output_type": "error",
          "ename": "KeyboardInterrupt",
          "evalue": "ignored",
          "traceback": [
            "\u001b[0;31m---------------------------------------------------------------------------\u001b[0m",
            "\u001b[0;31mKeyboardInterrupt\u001b[0m                         Traceback (most recent call last)",
            "\u001b[0;32m<ipython-input-19-e794f2adb731>\u001b[0m in \u001b[0;36m<cell line: 1>\u001b[0;34m()\u001b[0m\n\u001b[1;32m      3\u001b[0m   \u001b[0;32mif\u001b[0m \u001b[0mi\u001b[0m \u001b[0;34m%\u001b[0m \u001b[0mdisplay_step\u001b[0m \u001b[0;34m==\u001b[0m \u001b[0;36m0\u001b[0m\u001b[0;34m:\u001b[0m\u001b[0;34m\u001b[0m\u001b[0;34m\u001b[0m\u001b[0m\n\u001b[1;32m      4\u001b[0m     \u001b[0mprint\u001b[0m\u001b[0;34m(\u001b[0m\u001b[0;34m\"iterazione numero: %i \"\u001b[0m \u001b[0;34m%\u001b[0m\u001b[0;34m(\u001b[0m\u001b[0mi\u001b[0m\u001b[0;34m)\u001b[0m\u001b[0;34m)\u001b[0m\u001b[0;34m\u001b[0m\u001b[0;34m\u001b[0m\u001b[0m\n\u001b[0;32m----> 5\u001b[0;31m     \u001b[0mprint\u001b[0m\u001b[0;34m(\u001b[0m\u001b[0;34m\"loss: %f \"\u001b[0m \u001b[0;34m%\u001b[0m \u001b[0;34m(\u001b[0m\u001b[0mcustom_loss\u001b[0m\u001b[0;34m(\u001b[0m\u001b[0;34m)\u001b[0m\u001b[0;34m)\u001b[0m\u001b[0;34m)\u001b[0m\u001b[0;34m\u001b[0m\u001b[0;34m\u001b[0m\u001b[0m\n\u001b[0m\u001b[1;32m      6\u001b[0m \u001b[0;34m\u001b[0m\u001b[0m\n\u001b[1;32m      7\u001b[0m \"\"\"\n",
            "\u001b[0;32m<ipython-input-18-b1b0fd347e65>\u001b[0m in \u001b[0;36mcustom_loss\u001b[0;34m()\u001b[0m\n\u001b[1;32m     55\u001b[0m         \u001b[0mnext_beta\u001b[0m \u001b[0;34m=\u001b[0m \u001b[0mcurr_beta\u001b[0m\u001b[0;34m\u001b[0m\u001b[0;34m\u001b[0m\u001b[0m\n\u001b[1;32m     56\u001b[0m         \u001b[0;32mfor\u001b[0m \u001b[0mi\u001b[0m \u001b[0;32min\u001b[0m \u001b[0mrange\u001b[0m\u001b[0;34m(\u001b[0m\u001b[0mN\u001b[0m\u001b[0;34m-\u001b[0m\u001b[0;36m1\u001b[0m\u001b[0;34m)\u001b[0m\u001b[0;34m:\u001b[0m\u001b[0;34m\u001b[0m\u001b[0;34m\u001b[0m\u001b[0m\n\u001b[0;32m---> 57\u001b[0;31m             \u001b[0mnext_beta\u001b[0m \u001b[0;34m=\u001b[0m \u001b[0mcurr_beta\u001b[0m \u001b[0;34m+\u001b[0m \u001b[0mdt\u001b[0m\u001b[0;34m/\u001b[0m\u001b[0;36m365\u001b[0m \u001b[0;34m*\u001b[0m \u001b[0mg\u001b[0m\u001b[0;34m(\u001b[0m\u001b[0mcurr_beta\u001b[0m\u001b[0;34m,\u001b[0m \u001b[0mdataset\u001b[0m\u001b[0;34m[\u001b[0m\u001b[0;36m0\u001b[0m\u001b[0;34m,\u001b[0m \u001b[0mk\u001b[0m\u001b[0;34m,\u001b[0m \u001b[0mi\u001b[0m\u001b[0;34m]\u001b[0m\u001b[0;34m/\u001b[0m\u001b[0;36m365\u001b[0m\u001b[0;34m)\u001b[0m\u001b[0;34m\u001b[0m\u001b[0;34m\u001b[0m\u001b[0m\n\u001b[0m\u001b[1;32m     58\u001b[0m             \u001b[0;32mif\u001b[0m \u001b[0mi\u001b[0m \u001b[0;34m%\u001b[0m \u001b[0msummation_step\u001b[0m \u001b[0;34m==\u001b[0m \u001b[0;36m0\u001b[0m\u001b[0;34m:\u001b[0m\u001b[0;34m\u001b[0m\u001b[0;34m\u001b[0m\u001b[0m\n\u001b[1;32m     59\u001b[0m                 \u001b[0msummation\u001b[0m\u001b[0;34m.\u001b[0m\u001b[0mappend\u001b[0m\u001b[0;34m(\u001b[0m\u001b[0;34m(\u001b[0m\u001b[0mdataset\u001b[0m\u001b[0;34m[\u001b[0m\u001b[0;36m1\u001b[0m\u001b[0;34m,\u001b[0m \u001b[0mk\u001b[0m\u001b[0;34m,\u001b[0m \u001b[0mi\u001b[0m\u001b[0;34m+\u001b[0m\u001b[0;36m1\u001b[0m\u001b[0;34m]\u001b[0m \u001b[0;34m-\u001b[0m \u001b[0mnext_beta\u001b[0m\u001b[0;34m)\u001b[0m\u001b[0;34m**\u001b[0m\u001b[0;36m2\u001b[0m\u001b[0;34m)\u001b[0m\u001b[0;34m\u001b[0m\u001b[0;34m\u001b[0m\u001b[0m\n",
            "\u001b[0;32m<ipython-input-18-b1b0fd347e65>\u001b[0m in \u001b[0;36mg\u001b[0;34m(beta, T)\u001b[0m\n\u001b[1;32m      1\u001b[0m \u001b[0;32mdef\u001b[0m \u001b[0mg\u001b[0m\u001b[0;34m(\u001b[0m\u001b[0mbeta\u001b[0m\u001b[0;34m,\u001b[0m \u001b[0mT\u001b[0m\u001b[0;34m)\u001b[0m\u001b[0;34m:\u001b[0m\u001b[0;34m\u001b[0m\u001b[0;34m\u001b[0m\u001b[0m\n\u001b[0;32m----> 2\u001b[0;31m     \u001b[0mT\u001b[0m \u001b[0;34m=\u001b[0m \u001b[0mtf\u001b[0m\u001b[0;34m.\u001b[0m\u001b[0mexpand_dims\u001b[0m\u001b[0;34m(\u001b[0m\u001b[0mT\u001b[0m\u001b[0;34m,\u001b[0m\u001b[0;34m-\u001b[0m\u001b[0;36m1\u001b[0m\u001b[0;34m)\u001b[0m\u001b[0;34m\u001b[0m\u001b[0;34m\u001b[0m\u001b[0m\n\u001b[0m\u001b[1;32m      3\u001b[0m     \u001b[0mT\u001b[0m \u001b[0;34m=\u001b[0m \u001b[0mtf\u001b[0m\u001b[0;34m.\u001b[0m\u001b[0mexpand_dims\u001b[0m\u001b[0;34m(\u001b[0m\u001b[0mT\u001b[0m\u001b[0;34m,\u001b[0m\u001b[0;34m-\u001b[0m\u001b[0;36m1\u001b[0m\u001b[0;34m)\u001b[0m\u001b[0;34m\u001b[0m\u001b[0;34m\u001b[0m\u001b[0m\n\u001b[1;32m      4\u001b[0m     \u001b[0mx\u001b[0m \u001b[0;34m=\u001b[0m \u001b[0mtf\u001b[0m\u001b[0;34m.\u001b[0m\u001b[0mconcat\u001b[0m\u001b[0;34m(\u001b[0m\u001b[0;34m[\u001b[0m\u001b[0mbeta\u001b[0m\u001b[0;34m,\u001b[0m\u001b[0mT\u001b[0m\u001b[0;34m]\u001b[0m\u001b[0;34m,\u001b[0m\u001b[0;34m-\u001b[0m\u001b[0;36m1\u001b[0m\u001b[0;34m)\u001b[0m\u001b[0;34m\u001b[0m\u001b[0;34m\u001b[0m\u001b[0m\n\u001b[1;32m      5\u001b[0m     \u001b[0;31m#return x * multilayer_perceptron(x)\u001b[0m\u001b[0;34m\u001b[0m\u001b[0;34m\u001b[0m\u001b[0m\n",
            "\u001b[0;32m/usr/local/lib/python3.10/dist-packages/tensorflow/python/util/traceback_utils.py\u001b[0m in \u001b[0;36merror_handler\u001b[0;34m(*args, **kwargs)\u001b[0m\n\u001b[1;32m    148\u001b[0m     \u001b[0mfiltered_tb\u001b[0m \u001b[0;34m=\u001b[0m \u001b[0;32mNone\u001b[0m\u001b[0;34m\u001b[0m\u001b[0;34m\u001b[0m\u001b[0m\n\u001b[1;32m    149\u001b[0m     \u001b[0;32mtry\u001b[0m\u001b[0;34m:\u001b[0m\u001b[0;34m\u001b[0m\u001b[0;34m\u001b[0m\u001b[0m\n\u001b[0;32m--> 150\u001b[0;31m       \u001b[0;32mreturn\u001b[0m \u001b[0mfn\u001b[0m\u001b[0;34m(\u001b[0m\u001b[0;34m*\u001b[0m\u001b[0margs\u001b[0m\u001b[0;34m,\u001b[0m \u001b[0;34m**\u001b[0m\u001b[0mkwargs\u001b[0m\u001b[0;34m)\u001b[0m\u001b[0;34m\u001b[0m\u001b[0;34m\u001b[0m\u001b[0m\n\u001b[0m\u001b[1;32m    151\u001b[0m     \u001b[0;32mexcept\u001b[0m \u001b[0mException\u001b[0m \u001b[0;32mas\u001b[0m \u001b[0me\u001b[0m\u001b[0;34m:\u001b[0m\u001b[0;34m\u001b[0m\u001b[0;34m\u001b[0m\u001b[0m\n\u001b[1;32m    152\u001b[0m       \u001b[0mfiltered_tb\u001b[0m \u001b[0;34m=\u001b[0m \u001b[0m_process_traceback_frames\u001b[0m\u001b[0;34m(\u001b[0m\u001b[0me\u001b[0m\u001b[0;34m.\u001b[0m\u001b[0m__traceback__\u001b[0m\u001b[0;34m)\u001b[0m\u001b[0;34m\u001b[0m\u001b[0;34m\u001b[0m\u001b[0m\n",
            "\u001b[0;32m/usr/local/lib/python3.10/dist-packages/tensorflow/python/util/dispatch.py\u001b[0m in \u001b[0;36mop_dispatch_handler\u001b[0;34m(*args, **kwargs)\u001b[0m\n\u001b[1;32m   1174\u001b[0m       \u001b[0;31m# Fallback dispatch system (dispatch v1):\u001b[0m\u001b[0;34m\u001b[0m\u001b[0;34m\u001b[0m\u001b[0m\n\u001b[1;32m   1175\u001b[0m       \u001b[0;32mtry\u001b[0m\u001b[0;34m:\u001b[0m\u001b[0;34m\u001b[0m\u001b[0;34m\u001b[0m\u001b[0m\n\u001b[0;32m-> 1176\u001b[0;31m         \u001b[0;32mreturn\u001b[0m \u001b[0mdispatch_target\u001b[0m\u001b[0;34m(\u001b[0m\u001b[0;34m*\u001b[0m\u001b[0margs\u001b[0m\u001b[0;34m,\u001b[0m \u001b[0;34m**\u001b[0m\u001b[0mkwargs\u001b[0m\u001b[0;34m)\u001b[0m\u001b[0;34m\u001b[0m\u001b[0;34m\u001b[0m\u001b[0m\n\u001b[0m\u001b[1;32m   1177\u001b[0m       \u001b[0;32mexcept\u001b[0m \u001b[0;34m(\u001b[0m\u001b[0mTypeError\u001b[0m\u001b[0;34m,\u001b[0m \u001b[0mValueError\u001b[0m\u001b[0;34m)\u001b[0m\u001b[0;34m:\u001b[0m\u001b[0;34m\u001b[0m\u001b[0;34m\u001b[0m\u001b[0m\n\u001b[1;32m   1178\u001b[0m         \u001b[0;31m# Note: convert_to_eager_tensor currently raises a ValueError, not a\u001b[0m\u001b[0;34m\u001b[0m\u001b[0;34m\u001b[0m\u001b[0m\n",
            "\u001b[0;32m/usr/local/lib/python3.10/dist-packages/tensorflow/python/ops/array_ops.py\u001b[0m in \u001b[0;36mexpand_dims_v2\u001b[0;34m(input, axis, name)\u001b[0m\n\u001b[1;32m    448\u001b[0m     \u001b[0mInvalidArgumentError\u001b[0m\u001b[0;34m:\u001b[0m \u001b[0mIf\u001b[0m\u001b[0;31m \u001b[0m\u001b[0;31m`\u001b[0m\u001b[0maxis\u001b[0m\u001b[0;31m`\u001b[0m \u001b[0;32mis\u001b[0m \u001b[0mout\u001b[0m \u001b[0mof\u001b[0m \u001b[0mrange\u001b[0m\u001b[0;31m \u001b[0m\u001b[0;31m`\u001b[0m\u001b[0;34m[\u001b[0m\u001b[0;34m-\u001b[0m\u001b[0;34m(\u001b[0m\u001b[0mD\u001b[0m\u001b[0;34m+\u001b[0m\u001b[0;36m1\u001b[0m\u001b[0;34m)\u001b[0m\u001b[0;34m,\u001b[0m \u001b[0mD\u001b[0m\u001b[0;34m]\u001b[0m\u001b[0;31m`\u001b[0m\u001b[0;34m.\u001b[0m\u001b[0;34m\u001b[0m\u001b[0;34m\u001b[0m\u001b[0m\n\u001b[1;32m    449\u001b[0m   \"\"\"\n\u001b[0;32m--> 450\u001b[0;31m   \u001b[0;32mreturn\u001b[0m \u001b[0mgen_array_ops\u001b[0m\u001b[0;34m.\u001b[0m\u001b[0mexpand_dims\u001b[0m\u001b[0;34m(\u001b[0m\u001b[0minput\u001b[0m\u001b[0;34m,\u001b[0m \u001b[0maxis\u001b[0m\u001b[0;34m,\u001b[0m \u001b[0mname\u001b[0m\u001b[0;34m)\u001b[0m\u001b[0;34m\u001b[0m\u001b[0;34m\u001b[0m\u001b[0m\n\u001b[0m\u001b[1;32m    451\u001b[0m \u001b[0;34m\u001b[0m\u001b[0m\n\u001b[1;32m    452\u001b[0m \u001b[0;34m\u001b[0m\u001b[0m\n",
            "\u001b[0;32m/usr/local/lib/python3.10/dist-packages/tensorflow/python/ops/gen_array_ops.py\u001b[0m in \u001b[0;36mexpand_dims\u001b[0;34m(input, axis, name)\u001b[0m\n\u001b[1;32m   2344\u001b[0m   \u001b[0;32mif\u001b[0m \u001b[0mtld\u001b[0m\u001b[0;34m.\u001b[0m\u001b[0mis_eager\u001b[0m\u001b[0;34m:\u001b[0m\u001b[0;34m\u001b[0m\u001b[0;34m\u001b[0m\u001b[0m\n\u001b[1;32m   2345\u001b[0m     \u001b[0;32mtry\u001b[0m\u001b[0;34m:\u001b[0m\u001b[0;34m\u001b[0m\u001b[0;34m\u001b[0m\u001b[0m\n\u001b[0;32m-> 2346\u001b[0;31m       _result = pywrap_tfe.TFE_Py_FastPathExecute(\n\u001b[0m\u001b[1;32m   2347\u001b[0m         _ctx, \"ExpandDims\", name, input, axis)\n\u001b[1;32m   2348\u001b[0m       \u001b[0;32mreturn\u001b[0m \u001b[0m_result\u001b[0m\u001b[0;34m\u001b[0m\u001b[0;34m\u001b[0m\u001b[0m\n",
            "\u001b[0;31mKeyboardInterrupt\u001b[0m: "
          ]
        }
      ]
    },
    {
      "cell_type": "code",
      "source": [
        "\n",
        "# ORA GENERO UNA NUOVA TEMPERATURA DIFFERENTE DALLE PRECEDENTI E FACCIO UN PLOT\n",
        "\n",
        "center = random.gauss(120.0, 5.0)\n",
        "height = random.gauss(16.0, 2.0)\n",
        "width = random.gauss(14.0, 1.0)\n",
        "def T(t):\n",
        "    return tf.constant(math.sin(2*math.pi/tau*(t-center))*width + height, dtype = 'float64')\n",
        "\n",
        "\n",
        "\n",
        "def dbeta(beta, t):\n",
        "    return f(beta, T(t))\n",
        "sys = [dbeta]\n",
        "cn_solver = cnc.CrankNicolson(sys, beta0, t_max, N)\n",
        "cn_solver.compute_solution()\n",
        "t, beta = cn_solver.get_solution()\n",
        "curr_beta = tf.constant([[beta0[0]]], dtype = 'float64')\n",
        "beta_hat = np.zeros(beta.shape[1])\n",
        "beta_hat[0]=curr_beta\n",
        "for i in range(beta.shape[1]-1):\n",
        "    next_beta = curr_beta + dt/365 * g( curr_beta, T(dt*i*365)/365 )\n",
        "    beta_hat[i+1] = next_beta[0][0]\n",
        "    curr_beta = next_beta\n",
        "\n",
        "pp = plt.plot(t, beta_hat)\n",
        "plt.plot(t, beta[0, ])\n",
        "plt.legend([\"soluzione rete\", \"soluzione vera\"])"
      ],
      "metadata": {
        "id": "SZmaFhGhHFwX",
        "outputId": "3b7314e8-e4c3-4c12-f6d1-c0ee8bcc32da",
        "colab": {
          "base_uri": "https://localhost:8080/",
          "height": 448
        }
      },
      "execution_count": null,
      "outputs": [
        {
          "output_type": "execute_result",
          "data": {
            "text/plain": [
              "<matplotlib.legend.Legend at 0x7f5ad0f96890>"
            ]
          },
          "metadata": {},
          "execution_count": 20
        },
        {
          "output_type": "display_data",
          "data": {
            "text/plain": [
              "<Figure size 640x480 with 1 Axes>"
            ],
            "image/png": "[encoded data removed]"
          },
          "metadata": {}
        }
      ]
    },
    {
      "cell_type": "code",
      "source": [
        "center = random.gauss(120.0, 5.0)\n",
        "height = random.gauss(16.0, 2.0)\n",
        "width = random.gauss(14.0, 1.0)\n",
        "def T(t):\n",
        "    return math.sin(2*math.pi/t_max*(t-center))*width + height\n",
        "\n",
        "\n",
        "\n",
        "def dbeta(beta, t):\n",
        "    return f(beta, T(t))\n",
        "sys = [dbeta]\n",
        "cn_solver = cnc.CrankNicolson(sys, beta0, t_max, N)\n",
        "cn_solver.compute_solution()\n",
        "t, beta = cn_solver.get_solution()\n",
        "curr_beta = tf.constant([[beta0[0]]], dtype = 'float64')\n",
        "beta_hat = np.zeros(beta.shape[1])\n",
        "beta_hat[0]=curr_beta\n",
        "for i in range(beta.shape[1]-1):\n",
        "    next_beta = curr_beta + dt/365 * g( curr_beta, T(dt*i*365)/365 )\n",
        "    beta_hat[i+1] = next_beta[0][0]\n",
        "    curr_beta = next_beta\n",
        "\n",
        "pp = plt.plot(t, beta_hat)\n",
        "plt.plot(t, beta[0, ])\n",
        "plt.legend([\"soluzione rete\", \"solzione vera\"])"
      ],
      "metadata": {
        "colab": {
          "base_uri": "https://localhost:8080/",
          "height": 393
        },
        "id": "GzMDCeIG8pJL",
        "outputId": "2e7fdf10-23a9-44d6-89bd-c47558f28ba8"
      },
      "execution_count": null,
      "outputs": [
        {
          "output_type": "error",
          "ename": "InvalidArgumentError",
          "evalue": "ignored",
          "traceback": [
            "\u001b[0;31m---------------------------------------------------------------------------\u001b[0m",
            "\u001b[0;31mInvalidArgumentError\u001b[0m                      Traceback (most recent call last)",
            "\u001b[0;32m<ipython-input-21-0c84d8159448>\u001b[0m in \u001b[0;36m<cell line: 18>\u001b[0;34m()\u001b[0m\n\u001b[1;32m     17\u001b[0m \u001b[0mbeta_hat\u001b[0m\u001b[0;34m[\u001b[0m\u001b[0;36m0\u001b[0m\u001b[0;34m]\u001b[0m\u001b[0;34m=\u001b[0m\u001b[0mcurr_beta\u001b[0m\u001b[0;34m\u001b[0m\u001b[0;34m\u001b[0m\u001b[0m\n\u001b[1;32m     18\u001b[0m \u001b[0;32mfor\u001b[0m \u001b[0mi\u001b[0m \u001b[0;32min\u001b[0m \u001b[0mrange\u001b[0m\u001b[0;34m(\u001b[0m\u001b[0mbeta\u001b[0m\u001b[0;34m.\u001b[0m\u001b[0mshape\u001b[0m\u001b[0;34m[\u001b[0m\u001b[0;36m1\u001b[0m\u001b[0;34m]\u001b[0m\u001b[0;34m-\u001b[0m\u001b[0;36m1\u001b[0m\u001b[0;34m)\u001b[0m\u001b[0;34m:\u001b[0m\u001b[0;34m\u001b[0m\u001b[0;34m\u001b[0m\u001b[0m\n\u001b[0;32m---> 19\u001b[0;31m     \u001b[0mnext_beta\u001b[0m \u001b[0;34m=\u001b[0m \u001b[0mcurr_beta\u001b[0m \u001b[0;34m+\u001b[0m \u001b[0mdt\u001b[0m\u001b[0;34m/\u001b[0m\u001b[0;36m365\u001b[0m \u001b[0;34m*\u001b[0m \u001b[0mg\u001b[0m\u001b[0;34m(\u001b[0m \u001b[0mcurr_beta\u001b[0m\u001b[0;34m,\u001b[0m \u001b[0mT\u001b[0m\u001b[0;34m(\u001b[0m\u001b[0mdt\u001b[0m\u001b[0;34m*\u001b[0m\u001b[0mi\u001b[0m\u001b[0;34m*\u001b[0m\u001b[0;36m365\u001b[0m\u001b[0;34m)\u001b[0m\u001b[0;34m/\u001b[0m\u001b[0;36m365\u001b[0m \u001b[0;34m)\u001b[0m\u001b[0;34m\u001b[0m\u001b[0;34m\u001b[0m\u001b[0m\n\u001b[0m\u001b[1;32m     20\u001b[0m     \u001b[0mbeta_hat\u001b[0m\u001b[0;34m[\u001b[0m\u001b[0mi\u001b[0m\u001b[0;34m+\u001b[0m\u001b[0;36m1\u001b[0m\u001b[0;34m]\u001b[0m \u001b[0;34m=\u001b[0m \u001b[0mnext_beta\u001b[0m\u001b[0;34m[\u001b[0m\u001b[0;36m0\u001b[0m\u001b[0;34m]\u001b[0m\u001b[0;34m[\u001b[0m\u001b[0;36m0\u001b[0m\u001b[0;34m]\u001b[0m\u001b[0;34m\u001b[0m\u001b[0;34m\u001b[0m\u001b[0m\n\u001b[1;32m     21\u001b[0m     \u001b[0mcurr_beta\u001b[0m \u001b[0;34m=\u001b[0m \u001b[0mnext_beta\u001b[0m\u001b[0;34m\u001b[0m\u001b[0;34m\u001b[0m\u001b[0m\n",
            "\u001b[0;32m<ipython-input-17-23ac4998803c>\u001b[0m in \u001b[0;36mg\u001b[0;34m(beta, T)\u001b[0m\n\u001b[1;32m      2\u001b[0m     \u001b[0mT\u001b[0m \u001b[0;34m=\u001b[0m \u001b[0mtf\u001b[0m\u001b[0;34m.\u001b[0m\u001b[0mexpand_dims\u001b[0m\u001b[0;34m(\u001b[0m\u001b[0mT\u001b[0m\u001b[0;34m,\u001b[0m\u001b[0;34m-\u001b[0m\u001b[0;36m1\u001b[0m\u001b[0;34m)\u001b[0m\u001b[0;34m\u001b[0m\u001b[0;34m\u001b[0m\u001b[0m\n\u001b[1;32m      3\u001b[0m     \u001b[0mT\u001b[0m \u001b[0;34m=\u001b[0m \u001b[0mtf\u001b[0m\u001b[0;34m.\u001b[0m\u001b[0mexpand_dims\u001b[0m\u001b[0;34m(\u001b[0m\u001b[0mT\u001b[0m\u001b[0;34m,\u001b[0m\u001b[0;34m-\u001b[0m\u001b[0;36m1\u001b[0m\u001b[0;34m)\u001b[0m\u001b[0;34m\u001b[0m\u001b[0;34m\u001b[0m\u001b[0m\n\u001b[0;32m----> 4\u001b[0;31m     \u001b[0mx\u001b[0m \u001b[0;34m=\u001b[0m \u001b[0mtf\u001b[0m\u001b[0;34m.\u001b[0m\u001b[0mconcat\u001b[0m\u001b[0;34m(\u001b[0m\u001b[0;34m[\u001b[0m\u001b[0mbeta\u001b[0m\u001b[0;34m,\u001b[0m\u001b[0mT\u001b[0m\u001b[0;34m]\u001b[0m\u001b[0;34m,\u001b[0m\u001b[0;34m-\u001b[0m\u001b[0;36m1\u001b[0m\u001b[0;34m)\u001b[0m\u001b[0;34m\u001b[0m\u001b[0;34m\u001b[0m\u001b[0m\n\u001b[0m\u001b[1;32m      5\u001b[0m     \u001b[0;31m#return x * multilayer_perceptron(x)\u001b[0m\u001b[0;34m\u001b[0m\u001b[0;34m\u001b[0m\u001b[0m\n\u001b[1;32m      6\u001b[0m     \u001b[0;32mreturn\u001b[0m \u001b[0mmultilayer_perceptron\u001b[0m\u001b[0;34m(\u001b[0m\u001b[0mx\u001b[0m\u001b[0;34m)\u001b[0m\u001b[0;34m\u001b[0m\u001b[0;34m\u001b[0m\u001b[0m\n",
            "\u001b[0;32m/usr/local/lib/python3.10/dist-packages/tensorflow/python/util/traceback_utils.py\u001b[0m in \u001b[0;36merror_handler\u001b[0;34m(*args, **kwargs)\u001b[0m\n\u001b[1;32m    151\u001b[0m     \u001b[0;32mexcept\u001b[0m \u001b[0mException\u001b[0m \u001b[0;32mas\u001b[0m \u001b[0me\u001b[0m\u001b[0;34m:\u001b[0m\u001b[0;34m\u001b[0m\u001b[0;34m\u001b[0m\u001b[0m\n\u001b[1;32m    152\u001b[0m       \u001b[0mfiltered_tb\u001b[0m \u001b[0;34m=\u001b[0m \u001b[0m_process_traceback_frames\u001b[0m\u001b[0;34m(\u001b[0m\u001b[0me\u001b[0m\u001b[0;34m.\u001b[0m\u001b[0m__traceback__\u001b[0m\u001b[0;34m)\u001b[0m\u001b[0;34m\u001b[0m\u001b[0;34m\u001b[0m\u001b[0m\n\u001b[0;32m--> 153\u001b[0;31m       \u001b[0;32mraise\u001b[0m \u001b[0me\u001b[0m\u001b[0;34m.\u001b[0m\u001b[0mwith_traceback\u001b[0m\u001b[0;34m(\u001b[0m\u001b[0mfiltered_tb\u001b[0m\u001b[0;34m)\u001b[0m \u001b[0;32mfrom\u001b[0m \u001b[0;32mNone\u001b[0m\u001b[0;34m\u001b[0m\u001b[0;34m\u001b[0m\u001b[0m\n\u001b[0m\u001b[1;32m    154\u001b[0m     \u001b[0;32mfinally\u001b[0m\u001b[0;34m:\u001b[0m\u001b[0;34m\u001b[0m\u001b[0;34m\u001b[0m\u001b[0m\n\u001b[1;32m    155\u001b[0m       \u001b[0;32mdel\u001b[0m \u001b[0mfiltered_tb\u001b[0m\u001b[0;34m\u001b[0m\u001b[0;34m\u001b[0m\u001b[0m\n",
            "\u001b[0;32m/usr/local/lib/python3.10/dist-packages/tensorflow/python/framework/ops.py\u001b[0m in \u001b[0;36mraise_from_not_ok_status\u001b[0;34m(e, name)\u001b[0m\n\u001b[1;32m   7260\u001b[0m \u001b[0;32mdef\u001b[0m \u001b[0mraise_from_not_ok_status\u001b[0m\u001b[0;34m(\u001b[0m\u001b[0me\u001b[0m\u001b[0;34m,\u001b[0m \u001b[0mname\u001b[0m\u001b[0;34m)\u001b[0m\u001b[0;34m:\u001b[0m\u001b[0;34m\u001b[0m\u001b[0;34m\u001b[0m\u001b[0m\n\u001b[1;32m   7261\u001b[0m   \u001b[0me\u001b[0m\u001b[0;34m.\u001b[0m\u001b[0mmessage\u001b[0m \u001b[0;34m+=\u001b[0m \u001b[0;34m(\u001b[0m\u001b[0;34m\" name: \"\u001b[0m \u001b[0;34m+\u001b[0m \u001b[0mname\u001b[0m \u001b[0;32mif\u001b[0m \u001b[0mname\u001b[0m \u001b[0;32mis\u001b[0m \u001b[0;32mnot\u001b[0m \u001b[0;32mNone\u001b[0m \u001b[0;32melse\u001b[0m \u001b[0;34m\"\"\u001b[0m\u001b[0;34m)\u001b[0m\u001b[0;34m\u001b[0m\u001b[0;34m\u001b[0m\u001b[0m\n\u001b[0;32m-> 7262\u001b[0;31m   \u001b[0;32mraise\u001b[0m \u001b[0mcore\u001b[0m\u001b[0;34m.\u001b[0m\u001b[0m_status_to_exception\u001b[0m\u001b[0;34m(\u001b[0m\u001b[0me\u001b[0m\u001b[0;34m)\u001b[0m \u001b[0;32mfrom\u001b[0m \u001b[0;32mNone\u001b[0m  \u001b[0;31m# pylint: disable=protected-access\u001b[0m\u001b[0;34m\u001b[0m\u001b[0;34m\u001b[0m\u001b[0m\n\u001b[0m\u001b[1;32m   7263\u001b[0m \u001b[0;34m\u001b[0m\u001b[0m\n\u001b[1;32m   7264\u001b[0m \u001b[0;34m\u001b[0m\u001b[0m\n",
            "\u001b[0;31mInvalidArgumentError\u001b[0m: cannot compute ConcatV2 as input #1(zero-based) was expected to be a double tensor but is a float tensor [Op:ConcatV2] name: concat"
          ]
        }
      ]
    },
    {
      "cell_type": "markdown",
      "source": [
        "##prova senza temperatura"
      ],
      "metadata": {
        "id": "4mLlCi0BUTQt"
      }
    },
    {
      "cell_type": "code",
      "source": [
        "!reset"
      ],
      "metadata": {
        "colab": {
          "base_uri": "https://localhost:8080/"
        },
        "id": "oWjW8s_ynyIn",
        "outputId": "1645b133-f24a-433b-a6e8-b443028c4e67"
      },
      "execution_count": null,
      "outputs": [
        {
          "output_type": "stream",
          "name": "stdout",
          "text": [
            "\u001b[m\u001b[?7h\u001b[4l\u001b>\u001b7\u001b[r\u001b[?1;3;4;6l\u001b8\r"
          ]
        }
      ]
    },
    {
      "cell_type": "code",
      "source": [
        "import numpy as np\n",
        "import tensorflow as tf\n",
        "import math\n",
        "import MyCrankNicolsonClass as cnc\n",
        "from matplotlib import pyplot as plt\n",
        "tf.keras.backend.set_floatx('float32')\n",
        "\n",
        "f0 = 1\n",
        "inf_s = np.sqrt(np.finfo(np.float32).eps)\n",
        "learning_rate = 0.01\n",
        "training_steps = 200\n",
        "batch_size = 100\n",
        "display_step = 1\n",
        "# Network Parameters\n",
        "n_input = 1     # input layer number of neurons\n",
        "n_hidden_1 = 32 # 1st layer number of neurons\n",
        "n_hidden_2 = 32 # 2nd layer number of neurons\n",
        "n_output = 1    # output layer number of neurons\n",
        "weights = {\n",
        "'h1': tf.Variable(tf.random.normal([n_input, n_hidden_1])),\n",
        "'h2': tf.Variable(tf.random.normal([n_hidden_1, n_hidden_2])),\n",
        "'out': tf.Variable(tf.random.normal([n_hidden_2, n_output]))\n",
        "}\n",
        "biases = {\n",
        "'b1': tf.Variable(tf.random.normal([n_hidden_1])),\n",
        "'b2': tf.Variable(tf.random.normal([n_hidden_2])),\n",
        "'out': tf.Variable(tf.random.normal([n_output]))\n",
        "}\n",
        "# Stochastic gradient descent optimizer.\n",
        "optimizer = tf.optimizers.SGD(learning_rate)\n",
        "\n",
        "# Create model\n",
        "def multilayer_perceptron(x):\n",
        "  # x = np.array([[[x]]],  dtype='float32')\n",
        "  layer_1 = tf.add(tf.matmul(x, weights['h1']), biases['b1'])\n",
        "  layer_1 = tf.nn.sigmoid(layer_1)\n",
        "  layer_2 = tf.add(tf.matmul(layer_1, weights['h2']), biases['b2'])\n",
        "  layer_2 = tf.nn.sigmoid(layer_2)\n",
        "  output = tf.matmul(layer_2, weights['out']) + biases['out']\n",
        "  return output\n",
        "# Universal Approximator\n",
        "def g(beta):\n",
        "    # x = np.array([beta, T])\n",
        "    #return x * multilayer_perceptron(x)\n",
        "    return multilayer_perceptron(beta)\n",
        "# Given EDO\n",
        "tau = 365.\n",
        "\n",
        "def beta_eq(T):\n",
        "    return 25.0 - T\n",
        "\n",
        "def T(t):\n",
        "    return math.cos(t)\n",
        "\n",
        "def dbeta(beta, t):\n",
        "    return  beta[0] - 10.0\n",
        "def dbeta_hat(beta, t):\n",
        "    return g(beta[0], T(t))\n",
        "    \n",
        "sys = [dbeta]    \n",
        "\n",
        "def f(x):\n",
        "  return 2*x\n",
        "# Custom loss function to approximate the derivatives\n",
        "\"\"\"\n",
        "def custom_loss():\n",
        "  summation = []\n",
        "  t_max=1.0\n",
        "  N=50\n",
        "  beta0=np.array([0.5])\n",
        "  cn_solver = cnc.CrankNicolson(sys, beta0, t_max, N)\n",
        "  cn_solver.compute_solution()\n",
        "  t, beta = cn_solver.get_solution()\n",
        "  sys_hat=[dbeta_hat]\n",
        "  cn_solver_hat = cnc.CrankNicolson(sys_hat, beta0, t_max, N)\n",
        "  cn_solver_hat.compute_solution()\n",
        "  t, beta_hat = cn_solver_hat.get_solution()\n",
        "  for i in range(len(beta)):\n",
        "      summation.append( ( beta[i] - beta_hat[i] )**2 )\n",
        "  return tf.sqrt(tf.reduce_mean(tf.abs(summation)))\n",
        "\"\"\"\n",
        "\n",
        "t_max=3.0\n",
        "N=250\n",
        "beta0=np.array([1.0])\n",
        "cn_solver = cnc.CrankNicolson(sys, beta0, t_max, N)\n",
        "cn_solver.compute_solution()\n",
        "t, beta = cn_solver.get_solution()\n",
        "dt = t_max /N\n",
        "\n",
        "\n",
        "def custom_loss():\n",
        "    curr_beta = tf.constant([[beta0[0]]], dtype = 'float32')\n",
        "    #next_beta = curr_beta\n",
        "    summation = []\n",
        "    for i in range(beta.shape[1]-1):\n",
        "        # x = np.array([curr_beta, T(i*dt)])\n",
        "        next_beta = curr_beta + dt * g( curr_beta )\n",
        "        #next_beta = curr_beta + dt * g(curr_beta)\n",
        "        summation.append( (beta[0, i+1] - next_beta)**2 )\n",
        "        curr_beta = next_beta\n",
        "    return tf.reduce_mean(summation)\n",
        "\"\"\"\n",
        "def f_prova(x):\n",
        "    return x**2\n",
        "\n",
        "def custom_loss2():\n",
        "    x = np.linspace(-1.0, 1.0, 100)\n",
        "    summation = []\n",
        "    for i in range(len(x)):\n",
        "        summation.append( ( f_prova(x[i]) - g(x[i]) )**2 )\n",
        "    return tf.sqrt(tf.reduce_mean(tf.abs(summation)))\n",
        "\"\"\"\n",
        "\n",
        "def train_step():\n",
        "    with tf.GradientTape() as tape:\n",
        "        loss = custom_loss()\n",
        "    trainable_variables=list(weights.values())+list(biases.values())\n",
        "    gradients = tape.gradient(loss, trainable_variables)\n",
        "    optimizer.apply_gradients(zip(gradients, trainable_variables))\n",
        "# Training the Model:\n",
        "for i in range(training_steps):\n",
        "  train_step()\n",
        "  if i % display_step == 0:\n",
        "    print(\"loss: %f \" % (custom_loss()))\n",
        "\n",
        "\n",
        "curr_beta = beta0[0]\n",
        "beta_hat = np.zeros(beta.shape[1])\n",
        "beta_hat[0]=curr_beta\n",
        "for i in range(beta.shape[1]-1):\n",
        "    # x = np.array([curr_beta, T(i*dt)])\n",
        "    # print(curr_beta)\n",
        "    next_beta = curr_beta + dt * g( curr_beta )\n",
        "    beta_hat[i+1] = next_beta.numpy()[0][0]\n",
        "    curr_beta = next_beta\n",
        "    \n",
        "    \n",
        "plt.plot(t, beta_hat)\n",
        "cn_solver.plot_solutions()"
      ],
      "metadata": {
        "colab": {
          "base_uri": "https://localhost:8080/",
          "height": 501
        },
        "id": "VxfPmx_WUSFa",
        "outputId": "cd672639-1151-4350-b34e-03b597b708e2"
      },
      "execution_count": null,
      "outputs": [
        {
          "output_type": "stream",
          "name": "stdout",
          "text": [
            "loss: 465.929413 \n",
            "loss: 447.803833 \n",
            "loss: 445.344238 \n",
            "loss: 444.826569 \n",
            "loss: 444.531677 \n",
            "loss: 444.276093 \n"
          ]
        },
        {
          "output_type": "error",
          "ename": "KeyboardInterrupt",
          "evalue": "ignored",
          "traceback": [
            "\u001b[0;31m---------------------------------------------------------------------------\u001b[0m",
            "\u001b[0;31mKeyboardInterrupt\u001b[0m                         Traceback (most recent call last)",
            "\u001b[0;32m<ipython-input-9-01ce8a6852fe>\u001b[0m in \u001b[0;36m<cell line: 122>\u001b[0;34m()\u001b[0m\n\u001b[1;32m    121\u001b[0m \u001b[0;31m# Training the Model:\u001b[0m\u001b[0;34m\u001b[0m\u001b[0;34m\u001b[0m\u001b[0m\n\u001b[1;32m    122\u001b[0m \u001b[0;32mfor\u001b[0m \u001b[0mi\u001b[0m \u001b[0;32min\u001b[0m \u001b[0mrange\u001b[0m\u001b[0;34m(\u001b[0m\u001b[0mtraining_steps\u001b[0m\u001b[0;34m)\u001b[0m\u001b[0;34m:\u001b[0m\u001b[0;34m\u001b[0m\u001b[0;34m\u001b[0m\u001b[0m\n\u001b[0;32m--> 123\u001b[0;31m   \u001b[0mtrain_step\u001b[0m\u001b[0;34m(\u001b[0m\u001b[0;34m)\u001b[0m\u001b[0;34m\u001b[0m\u001b[0;34m\u001b[0m\u001b[0m\n\u001b[0m\u001b[1;32m    124\u001b[0m   \u001b[0;32mif\u001b[0m \u001b[0mi\u001b[0m \u001b[0;34m%\u001b[0m \u001b[0mdisplay_step\u001b[0m \u001b[0;34m==\u001b[0m \u001b[0;36m0\u001b[0m\u001b[0;34m:\u001b[0m\u001b[0;34m\u001b[0m\u001b[0;34m\u001b[0m\u001b[0m\n\u001b[1;32m    125\u001b[0m     \u001b[0mprint\u001b[0m\u001b[0;34m(\u001b[0m\u001b[0;34m\"loss: %f \"\u001b[0m \u001b[0;34m%\u001b[0m \u001b[0;34m(\u001b[0m\u001b[0mcustom_loss\u001b[0m\u001b[0;34m(\u001b[0m\u001b[0;34m)\u001b[0m\u001b[0;34m)\u001b[0m\u001b[0;34m)\u001b[0m\u001b[0;34m\u001b[0m\u001b[0;34m\u001b[0m\u001b[0m\n",
            "\u001b[0;32m<ipython-input-9-01ce8a6852fe>\u001b[0m in \u001b[0;36mtrain_step\u001b[0;34m()\u001b[0m\n\u001b[1;32m    117\u001b[0m         \u001b[0mloss\u001b[0m \u001b[0;34m=\u001b[0m \u001b[0mcustom_loss\u001b[0m\u001b[0;34m(\u001b[0m\u001b[0;34m)\u001b[0m\u001b[0;34m\u001b[0m\u001b[0;34m\u001b[0m\u001b[0m\n\u001b[1;32m    118\u001b[0m     \u001b[0mtrainable_variables\u001b[0m\u001b[0;34m=\u001b[0m\u001b[0mlist\u001b[0m\u001b[0;34m(\u001b[0m\u001b[0mweights\u001b[0m\u001b[0;34m.\u001b[0m\u001b[0mvalues\u001b[0m\u001b[0;34m(\u001b[0m\u001b[0;34m)\u001b[0m\u001b[0;34m)\u001b[0m\u001b[0;34m+\u001b[0m\u001b[0mlist\u001b[0m\u001b[0;34m(\u001b[0m\u001b[0mbiases\u001b[0m\u001b[0;34m.\u001b[0m\u001b[0mvalues\u001b[0m\u001b[0;34m(\u001b[0m\u001b[0;34m)\u001b[0m\u001b[0;34m)\u001b[0m\u001b[0;34m\u001b[0m\u001b[0;34m\u001b[0m\u001b[0m\n\u001b[0;32m--> 119\u001b[0;31m     \u001b[0mgradients\u001b[0m \u001b[0;34m=\u001b[0m \u001b[0mtape\u001b[0m\u001b[0;34m.\u001b[0m\u001b[0mgradient\u001b[0m\u001b[0;34m(\u001b[0m\u001b[0mloss\u001b[0m\u001b[0;34m,\u001b[0m \u001b[0mtrainable_variables\u001b[0m\u001b[0;34m)\u001b[0m\u001b[0;34m\u001b[0m\u001b[0;34m\u001b[0m\u001b[0m\n\u001b[0m\u001b[1;32m    120\u001b[0m     \u001b[0moptimizer\u001b[0m\u001b[0;34m.\u001b[0m\u001b[0mapply_gradients\u001b[0m\u001b[0;34m(\u001b[0m\u001b[0mzip\u001b[0m\u001b[0;34m(\u001b[0m\u001b[0mgradients\u001b[0m\u001b[0;34m,\u001b[0m \u001b[0mtrainable_variables\u001b[0m\u001b[0;34m)\u001b[0m\u001b[0;34m)\u001b[0m\u001b[0;34m\u001b[0m\u001b[0;34m\u001b[0m\u001b[0m\n\u001b[1;32m    121\u001b[0m \u001b[0;31m# Training the Model:\u001b[0m\u001b[0;34m\u001b[0m\u001b[0;34m\u001b[0m\u001b[0m\n",
            "\u001b[0;32m/usr/local/lib/python3.10/dist-packages/tensorflow/python/eager/backprop.py\u001b[0m in \u001b[0;36mgradient\u001b[0;34m(self, target, sources, output_gradients, unconnected_gradients)\u001b[0m\n\u001b[1;32m   1061\u001b[0m                           for x in output_gradients]\n\u001b[1;32m   1062\u001b[0m \u001b[0;34m\u001b[0m\u001b[0m\n\u001b[0;32m-> 1063\u001b[0;31m     flat_grad = imperative_grad.imperative_grad(\n\u001b[0m\u001b[1;32m   1064\u001b[0m         \u001b[0mself\u001b[0m\u001b[0;34m.\u001b[0m\u001b[0m_tape\u001b[0m\u001b[0;34m,\u001b[0m\u001b[0;34m\u001b[0m\u001b[0;34m\u001b[0m\u001b[0m\n\u001b[1;32m   1065\u001b[0m         \u001b[0mflat_targets\u001b[0m\u001b[0;34m,\u001b[0m\u001b[0;34m\u001b[0m\u001b[0;34m\u001b[0m\u001b[0m\n",
            "\u001b[0;32m/usr/local/lib/python3.10/dist-packages/tensorflow/python/eager/imperative_grad.py\u001b[0m in \u001b[0;36mimperative_grad\u001b[0;34m(tape, target, sources, output_gradients, sources_raw, unconnected_gradients)\u001b[0m\n\u001b[1;32m     65\u001b[0m         \"Unknown value for unconnected_gradients: %r\" % unconnected_gradients)\n\u001b[1;32m     66\u001b[0m \u001b[0;34m\u001b[0m\u001b[0m\n\u001b[0;32m---> 67\u001b[0;31m   return pywrap_tfe.TFE_Py_TapeGradient(\n\u001b[0m\u001b[1;32m     68\u001b[0m       \u001b[0mtape\u001b[0m\u001b[0;34m.\u001b[0m\u001b[0m_tape\u001b[0m\u001b[0;34m,\u001b[0m  \u001b[0;31m# pylint: disable=protected-access\u001b[0m\u001b[0;34m\u001b[0m\u001b[0;34m\u001b[0m\u001b[0m\n\u001b[1;32m     69\u001b[0m       \u001b[0mtarget\u001b[0m\u001b[0;34m,\u001b[0m\u001b[0;34m\u001b[0m\u001b[0;34m\u001b[0m\u001b[0m\n",
            "\u001b[0;32m/usr/local/lib/python3.10/dist-packages/tensorflow/python/eager/backprop.py\u001b[0m in \u001b[0;36m_gradient_function\u001b[0;34m(op_name, attr_tuple, num_inputs, inputs, outputs, out_grads, skip_input_indices, forward_pass_name_scope)\u001b[0m\n\u001b[1;32m    144\u001b[0m       \u001b[0mgradient_name_scope\u001b[0m \u001b[0;34m+=\u001b[0m \u001b[0mforward_pass_name_scope\u001b[0m \u001b[0;34m+\u001b[0m \u001b[0;34m\"/\"\u001b[0m\u001b[0;34m\u001b[0m\u001b[0;34m\u001b[0m\u001b[0m\n\u001b[1;32m    145\u001b[0m     \u001b[0;32mwith\u001b[0m \u001b[0mops\u001b[0m\u001b[0;34m.\u001b[0m\u001b[0mname_scope\u001b[0m\u001b[0;34m(\u001b[0m\u001b[0mgradient_name_scope\u001b[0m\u001b[0;34m)\u001b[0m\u001b[0;34m:\u001b[0m\u001b[0;34m\u001b[0m\u001b[0;34m\u001b[0m\u001b[0m\n\u001b[0;32m--> 146\u001b[0;31m       \u001b[0;32mreturn\u001b[0m \u001b[0mgrad_fn\u001b[0m\u001b[0;34m(\u001b[0m\u001b[0mmock_op\u001b[0m\u001b[0;34m,\u001b[0m \u001b[0;34m*\u001b[0m\u001b[0mout_grads\u001b[0m\u001b[0;34m)\u001b[0m\u001b[0;34m\u001b[0m\u001b[0;34m\u001b[0m\u001b[0m\n\u001b[0m\u001b[1;32m    147\u001b[0m   \u001b[0;32melse\u001b[0m\u001b[0;34m:\u001b[0m\u001b[0;34m\u001b[0m\u001b[0;34m\u001b[0m\u001b[0m\n\u001b[1;32m    148\u001b[0m     \u001b[0;32mreturn\u001b[0m \u001b[0mgrad_fn\u001b[0m\u001b[0;34m(\u001b[0m\u001b[0mmock_op\u001b[0m\u001b[0;34m,\u001b[0m \u001b[0;34m*\u001b[0m\u001b[0mout_grads\u001b[0m\u001b[0;34m)\u001b[0m\u001b[0;34m\u001b[0m\u001b[0;34m\u001b[0m\u001b[0m\n",
            "\u001b[0;32m/usr/local/lib/python3.10/dist-packages/tensorflow/python/ops/math_grad.py\u001b[0m in \u001b[0;36m_MulGrad\u001b[0;34m(op, grad)\u001b[0m\n\u001b[1;32m   1367\u001b[0m \u001b[0;34m\u001b[0m\u001b[0m\n\u001b[1;32m   1368\u001b[0m   (sx, rx, must_reduce_x), (sy, ry, must_reduce_y) = (\n\u001b[0;32m-> 1369\u001b[0;31m       SmartBroadcastGradientArgs(x, y, grad))\n\u001b[0m\u001b[1;32m   1370\u001b[0m   \u001b[0mx\u001b[0m \u001b[0;34m=\u001b[0m \u001b[0mmath_ops\u001b[0m\u001b[0;34m.\u001b[0m\u001b[0mconj\u001b[0m\u001b[0;34m(\u001b[0m\u001b[0mx\u001b[0m\u001b[0;34m)\u001b[0m\u001b[0;34m\u001b[0m\u001b[0;34m\u001b[0m\u001b[0m\n\u001b[1;32m   1371\u001b[0m   \u001b[0my\u001b[0m \u001b[0;34m=\u001b[0m \u001b[0mmath_ops\u001b[0m\u001b[0;34m.\u001b[0m\u001b[0mconj\u001b[0m\u001b[0;34m(\u001b[0m\u001b[0my\u001b[0m\u001b[0;34m)\u001b[0m\u001b[0;34m\u001b[0m\u001b[0;34m\u001b[0m\u001b[0m\n",
            "\u001b[0;32m/usr/local/lib/python3.10/dist-packages/tensorflow/python/ops/math_grad.py\u001b[0m in \u001b[0;36mSmartBroadcastGradientArgs\u001b[0;34m(x, y, grad)\u001b[0m\n\u001b[1;32m     90\u001b[0m     \u001b[0msx\u001b[0m \u001b[0;34m=\u001b[0m \u001b[0marray_ops\u001b[0m\u001b[0;34m.\u001b[0m\u001b[0mshape\u001b[0m\u001b[0;34m(\u001b[0m\u001b[0mx\u001b[0m\u001b[0;34m)\u001b[0m\u001b[0;34m\u001b[0m\u001b[0;34m\u001b[0m\u001b[0m\n\u001b[1;32m     91\u001b[0m     \u001b[0msy\u001b[0m \u001b[0;34m=\u001b[0m \u001b[0marray_ops\u001b[0m\u001b[0;34m.\u001b[0m\u001b[0mshape\u001b[0m\u001b[0;34m(\u001b[0m\u001b[0my\u001b[0m\u001b[0;34m)\u001b[0m\u001b[0;34m\u001b[0m\u001b[0;34m\u001b[0m\u001b[0m\n\u001b[0;32m---> 92\u001b[0;31m     \u001b[0mrx\u001b[0m\u001b[0;34m,\u001b[0m \u001b[0mry\u001b[0m \u001b[0;34m=\u001b[0m \u001b[0mgen_array_ops\u001b[0m\u001b[0;34m.\u001b[0m\u001b[0mbroadcast_gradient_args\u001b[0m\u001b[0;34m(\u001b[0m\u001b[0msx\u001b[0m\u001b[0;34m,\u001b[0m \u001b[0msy\u001b[0m\u001b[0;34m)\u001b[0m\u001b[0;34m\u001b[0m\u001b[0;34m\u001b[0m\u001b[0m\n\u001b[0m\u001b[1;32m     93\u001b[0m     \u001b[0;32mreturn\u001b[0m \u001b[0;34m(\u001b[0m\u001b[0msx\u001b[0m\u001b[0;34m,\u001b[0m \u001b[0mrx\u001b[0m\u001b[0;34m,\u001b[0m \u001b[0;32mTrue\u001b[0m\u001b[0;34m)\u001b[0m\u001b[0;34m,\u001b[0m \u001b[0;34m(\u001b[0m\u001b[0msy\u001b[0m\u001b[0;34m,\u001b[0m \u001b[0mry\u001b[0m\u001b[0;34m,\u001b[0m \u001b[0;32mTrue\u001b[0m\u001b[0;34m)\u001b[0m\u001b[0;34m\u001b[0m\u001b[0;34m\u001b[0m\u001b[0m\n\u001b[1;32m     94\u001b[0m \u001b[0;34m\u001b[0m\u001b[0m\n",
            "\u001b[0;32m/usr/local/lib/python3.10/dist-packages/tensorflow/python/ops/gen_array_ops.py\u001b[0m in \u001b[0;36mbroadcast_gradient_args\u001b[0;34m(s0, s1, name)\u001b[0m\n\u001b[1;32m    756\u001b[0m   \u001b[0;32mif\u001b[0m \u001b[0mtld\u001b[0m\u001b[0;34m.\u001b[0m\u001b[0mis_eager\u001b[0m\u001b[0;34m:\u001b[0m\u001b[0;34m\u001b[0m\u001b[0;34m\u001b[0m\u001b[0m\n\u001b[1;32m    757\u001b[0m     \u001b[0;32mtry\u001b[0m\u001b[0;34m:\u001b[0m\u001b[0;34m\u001b[0m\u001b[0;34m\u001b[0m\u001b[0m\n\u001b[0;32m--> 758\u001b[0;31m       _result = pywrap_tfe.TFE_Py_FastPathExecute(\n\u001b[0m\u001b[1;32m    759\u001b[0m         _ctx, \"BroadcastGradientArgs\", name, s0, s1)\n\u001b[1;32m    760\u001b[0m       \u001b[0m_result\u001b[0m \u001b[0;34m=\u001b[0m \u001b[0m_BroadcastGradientArgsOutput\u001b[0m\u001b[0;34m.\u001b[0m\u001b[0m_make\u001b[0m\u001b[0;34m(\u001b[0m\u001b[0m_result\u001b[0m\u001b[0;34m)\u001b[0m\u001b[0;34m\u001b[0m\u001b[0;34m\u001b[0m\u001b[0m\n",
            "\u001b[0;31mKeyboardInterrupt\u001b[0m: "
          ]
        }
      ]
    },
    {
      "cell_type": "code",
      "source": [
        "curr_beta = beta0[0]\n",
        "beta_hat = np.zeros(beta.shape[1])\n",
        "beta_hat[0]=curr_beta\n",
        "for i in range(beta.shape[1]-1):\n",
        "    # x = np.array([curr_beta, T(i*dt)])\n",
        "    # print(curr_beta)\n",
        "    next_beta = curr_beta + dt * g( curr_beta )\n",
        "    beta_hat[i+1] = next_beta.numpy()[0][0]\n",
        "    curr_beta = next_beta\n",
        "    \n",
        "    \n",
        "plt.plot(t, beta_hat)\n",
        "cn_solver.plot_solutions()"
      ],
      "metadata": {
        "colab": {
          "base_uri": "https://localhost:8080/",
          "height": 393
        },
        "id": "crfAH3g4ntaa",
        "outputId": "3f8df649-64af-4657-9925-dd9690cdccd7"
      },
      "execution_count": null,
      "outputs": [
        {
          "output_type": "error",
          "ename": "InvalidArgumentError",
          "evalue": "ignored",
          "traceback": [
            "\u001b[0;31m---------------------------------------------------------------------------\u001b[0m",
            "\u001b[0;31mInvalidArgumentError\u001b[0m                      Traceback (most recent call last)",
            "\u001b[0;32m<ipython-input-10-c0b9b3d3d94a>\u001b[0m in \u001b[0;36m<cell line: 4>\u001b[0;34m()\u001b[0m\n\u001b[1;32m      5\u001b[0m     \u001b[0;31m# x = np.array([curr_beta, T(i*dt)])\u001b[0m\u001b[0;34m\u001b[0m\u001b[0;34m\u001b[0m\u001b[0m\n\u001b[1;32m      6\u001b[0m     \u001b[0;31m# print(curr_beta)\u001b[0m\u001b[0;34m\u001b[0m\u001b[0;34m\u001b[0m\u001b[0m\n\u001b[0;32m----> 7\u001b[0;31m     \u001b[0mnext_beta\u001b[0m \u001b[0;34m=\u001b[0m \u001b[0mcurr_beta\u001b[0m \u001b[0;34m+\u001b[0m \u001b[0mdt\u001b[0m \u001b[0;34m*\u001b[0m \u001b[0mg\u001b[0m\u001b[0;34m(\u001b[0m \u001b[0mcurr_beta\u001b[0m \u001b[0;34m)\u001b[0m\u001b[0;34m\u001b[0m\u001b[0;34m\u001b[0m\u001b[0m\n\u001b[0m\u001b[1;32m      8\u001b[0m     \u001b[0mbeta_hat\u001b[0m\u001b[0;34m[\u001b[0m\u001b[0mi\u001b[0m\u001b[0;34m+\u001b[0m\u001b[0;36m1\u001b[0m\u001b[0;34m]\u001b[0m \u001b[0;34m=\u001b[0m \u001b[0mnext_beta\u001b[0m\u001b[0;34m.\u001b[0m\u001b[0mnumpy\u001b[0m\u001b[0;34m(\u001b[0m\u001b[0;34m)\u001b[0m\u001b[0;34m[\u001b[0m\u001b[0;36m0\u001b[0m\u001b[0;34m]\u001b[0m\u001b[0;34m[\u001b[0m\u001b[0;36m0\u001b[0m\u001b[0;34m]\u001b[0m\u001b[0;34m\u001b[0m\u001b[0;34m\u001b[0m\u001b[0m\n\u001b[1;32m      9\u001b[0m     \u001b[0mcurr_beta\u001b[0m \u001b[0;34m=\u001b[0m \u001b[0mnext_beta\u001b[0m\u001b[0;34m\u001b[0m\u001b[0;34m\u001b[0m\u001b[0m\n",
            "\u001b[0;32m<ipython-input-9-01ce8a6852fe>\u001b[0m in \u001b[0;36mg\u001b[0;34m(beta)\u001b[0m\n\u001b[1;32m     43\u001b[0m     \u001b[0;31m# x = np.array([beta, T])\u001b[0m\u001b[0;34m\u001b[0m\u001b[0;34m\u001b[0m\u001b[0m\n\u001b[1;32m     44\u001b[0m     \u001b[0;31m#return x * multilayer_perceptron(x)\u001b[0m\u001b[0;34m\u001b[0m\u001b[0;34m\u001b[0m\u001b[0m\n\u001b[0;32m---> 45\u001b[0;31m     \u001b[0;32mreturn\u001b[0m \u001b[0mmultilayer_perceptron\u001b[0m\u001b[0;34m(\u001b[0m\u001b[0mbeta\u001b[0m\u001b[0;34m)\u001b[0m\u001b[0;34m\u001b[0m\u001b[0;34m\u001b[0m\u001b[0m\n\u001b[0m\u001b[1;32m     46\u001b[0m \u001b[0;31m# Given EDO\u001b[0m\u001b[0;34m\u001b[0m\u001b[0;34m\u001b[0m\u001b[0m\n\u001b[1;32m     47\u001b[0m \u001b[0mtau\u001b[0m \u001b[0;34m=\u001b[0m \u001b[0;36m365.\u001b[0m\u001b[0;34m\u001b[0m\u001b[0;34m\u001b[0m\u001b[0m\n",
            "\u001b[0;32m<ipython-input-9-01ce8a6852fe>\u001b[0m in \u001b[0;36mmultilayer_perceptron\u001b[0;34m(x)\u001b[0m\n\u001b[1;32m     33\u001b[0m \u001b[0;32mdef\u001b[0m \u001b[0mmultilayer_perceptron\u001b[0m\u001b[0;34m(\u001b[0m\u001b[0mx\u001b[0m\u001b[0;34m)\u001b[0m\u001b[0;34m:\u001b[0m\u001b[0;34m\u001b[0m\u001b[0;34m\u001b[0m\u001b[0m\n\u001b[1;32m     34\u001b[0m   \u001b[0;31m# x = np.array([[[x]]],  dtype='float32')\u001b[0m\u001b[0;34m\u001b[0m\u001b[0;34m\u001b[0m\u001b[0m\n\u001b[0;32m---> 35\u001b[0;31m   \u001b[0mlayer_1\u001b[0m \u001b[0;34m=\u001b[0m \u001b[0mtf\u001b[0m\u001b[0;34m.\u001b[0m\u001b[0madd\u001b[0m\u001b[0;34m(\u001b[0m\u001b[0mtf\u001b[0m\u001b[0;34m.\u001b[0m\u001b[0mmatmul\u001b[0m\u001b[0;34m(\u001b[0m\u001b[0mx\u001b[0m\u001b[0;34m,\u001b[0m \u001b[0mweights\u001b[0m\u001b[0;34m[\u001b[0m\u001b[0;34m'h1'\u001b[0m\u001b[0;34m]\u001b[0m\u001b[0;34m)\u001b[0m\u001b[0;34m,\u001b[0m \u001b[0mbiases\u001b[0m\u001b[0;34m[\u001b[0m\u001b[0;34m'b1'\u001b[0m\u001b[0;34m]\u001b[0m\u001b[0;34m)\u001b[0m\u001b[0;34m\u001b[0m\u001b[0;34m\u001b[0m\u001b[0m\n\u001b[0m\u001b[1;32m     36\u001b[0m   \u001b[0mlayer_1\u001b[0m \u001b[0;34m=\u001b[0m \u001b[0mtf\u001b[0m\u001b[0;34m.\u001b[0m\u001b[0mnn\u001b[0m\u001b[0;34m.\u001b[0m\u001b[0msigmoid\u001b[0m\u001b[0;34m(\u001b[0m\u001b[0mlayer_1\u001b[0m\u001b[0;34m)\u001b[0m\u001b[0;34m\u001b[0m\u001b[0;34m\u001b[0m\u001b[0m\n\u001b[1;32m     37\u001b[0m   \u001b[0mlayer_2\u001b[0m \u001b[0;34m=\u001b[0m \u001b[0mtf\u001b[0m\u001b[0;34m.\u001b[0m\u001b[0madd\u001b[0m\u001b[0;34m(\u001b[0m\u001b[0mtf\u001b[0m\u001b[0;34m.\u001b[0m\u001b[0mmatmul\u001b[0m\u001b[0;34m(\u001b[0m\u001b[0mlayer_1\u001b[0m\u001b[0;34m,\u001b[0m \u001b[0mweights\u001b[0m\u001b[0;34m[\u001b[0m\u001b[0;34m'h2'\u001b[0m\u001b[0;34m]\u001b[0m\u001b[0;34m)\u001b[0m\u001b[0;34m,\u001b[0m \u001b[0mbiases\u001b[0m\u001b[0;34m[\u001b[0m\u001b[0;34m'b2'\u001b[0m\u001b[0;34m]\u001b[0m\u001b[0;34m)\u001b[0m\u001b[0;34m\u001b[0m\u001b[0;34m\u001b[0m\u001b[0m\n",
            "\u001b[0;32m/usr/local/lib/python3.10/dist-packages/tensorflow/python/util/traceback_utils.py\u001b[0m in \u001b[0;36merror_handler\u001b[0;34m(*args, **kwargs)\u001b[0m\n\u001b[1;32m    151\u001b[0m     \u001b[0;32mexcept\u001b[0m \u001b[0mException\u001b[0m \u001b[0;32mas\u001b[0m \u001b[0me\u001b[0m\u001b[0;34m:\u001b[0m\u001b[0;34m\u001b[0m\u001b[0;34m\u001b[0m\u001b[0m\n\u001b[1;32m    152\u001b[0m       \u001b[0mfiltered_tb\u001b[0m \u001b[0;34m=\u001b[0m \u001b[0m_process_traceback_frames\u001b[0m\u001b[0;34m(\u001b[0m\u001b[0me\u001b[0m\u001b[0;34m.\u001b[0m\u001b[0m__traceback__\u001b[0m\u001b[0;34m)\u001b[0m\u001b[0;34m\u001b[0m\u001b[0;34m\u001b[0m\u001b[0m\n\u001b[0;32m--> 153\u001b[0;31m       \u001b[0;32mraise\u001b[0m \u001b[0me\u001b[0m\u001b[0;34m.\u001b[0m\u001b[0mwith_traceback\u001b[0m\u001b[0;34m(\u001b[0m\u001b[0mfiltered_tb\u001b[0m\u001b[0;34m)\u001b[0m \u001b[0;32mfrom\u001b[0m \u001b[0;32mNone\u001b[0m\u001b[0;34m\u001b[0m\u001b[0;34m\u001b[0m\u001b[0m\n\u001b[0m\u001b[1;32m    154\u001b[0m     \u001b[0;32mfinally\u001b[0m\u001b[0;34m:\u001b[0m\u001b[0;34m\u001b[0m\u001b[0;34m\u001b[0m\u001b[0m\n\u001b[1;32m    155\u001b[0m       \u001b[0;32mdel\u001b[0m \u001b[0mfiltered_tb\u001b[0m\u001b[0;34m\u001b[0m\u001b[0;34m\u001b[0m\u001b[0m\n",
            "\u001b[0;32m/usr/local/lib/python3.10/dist-packages/tensorflow/python/framework/ops.py\u001b[0m in \u001b[0;36mraise_from_not_ok_status\u001b[0;34m(e, name)\u001b[0m\n\u001b[1;32m   7260\u001b[0m \u001b[0;32mdef\u001b[0m \u001b[0mraise_from_not_ok_status\u001b[0m\u001b[0;34m(\u001b[0m\u001b[0me\u001b[0m\u001b[0;34m,\u001b[0m \u001b[0mname\u001b[0m\u001b[0;34m)\u001b[0m\u001b[0;34m:\u001b[0m\u001b[0;34m\u001b[0m\u001b[0;34m\u001b[0m\u001b[0m\n\u001b[1;32m   7261\u001b[0m   \u001b[0me\u001b[0m\u001b[0;34m.\u001b[0m\u001b[0mmessage\u001b[0m \u001b[0;34m+=\u001b[0m \u001b[0;34m(\u001b[0m\u001b[0;34m\" name: \"\u001b[0m \u001b[0;34m+\u001b[0m \u001b[0mname\u001b[0m \u001b[0;32mif\u001b[0m \u001b[0mname\u001b[0m \u001b[0;32mis\u001b[0m \u001b[0;32mnot\u001b[0m \u001b[0;32mNone\u001b[0m \u001b[0;32melse\u001b[0m \u001b[0;34m\"\"\u001b[0m\u001b[0;34m)\u001b[0m\u001b[0;34m\u001b[0m\u001b[0;34m\u001b[0m\u001b[0m\n\u001b[0;32m-> 7262\u001b[0;31m   \u001b[0;32mraise\u001b[0m \u001b[0mcore\u001b[0m\u001b[0;34m.\u001b[0m\u001b[0m_status_to_exception\u001b[0m\u001b[0;34m(\u001b[0m\u001b[0me\u001b[0m\u001b[0;34m)\u001b[0m \u001b[0;32mfrom\u001b[0m \u001b[0;32mNone\u001b[0m  \u001b[0;31m# pylint: disable=protected-access\u001b[0m\u001b[0;34m\u001b[0m\u001b[0;34m\u001b[0m\u001b[0m\n\u001b[0m\u001b[1;32m   7263\u001b[0m \u001b[0;34m\u001b[0m\u001b[0m\n\u001b[1;32m   7264\u001b[0m \u001b[0;34m\u001b[0m\u001b[0m\n",
            "\u001b[0;31mInvalidArgumentError\u001b[0m: cannot compute MatMul as input #1(zero-based) was expected to be a double tensor but is a float tensor [Op:MatMul]"
          ]
        }
      ]
    },
    {
      "cell_type": "markdown",
      "source": [
        "#prova a caso\n"
      ],
      "metadata": {
        "id": "i54cEsVFPxJ2"
      }
    },
    {
      "cell_type": "code",
      "source": [
        "!reset"
      ],
      "metadata": {
        "colab": {
          "base_uri": "https://localhost:8080/"
        },
        "id": "MlAcFpZZXDKa",
        "outputId": "e19a3066-2d7f-447c-f12c-56424735b002"
      },
      "execution_count": null,
      "outputs": [
        {
          "output_type": "stream",
          "name": "stdout",
          "text": [
            "\u001b[m\u001b[?7h\u001b[4l\u001b>\u001b7\u001b[r\u001b[?1;3;4;6l\u001b8\r"
          ]
        }
      ]
    },
    {
      "cell_type": "code",
      "source": [
        "tf.keras.layers.experimental.preprocessing.Normalization(dtype='float64')\n",
        "model = tfk.Sequential([\n",
        "    tfk.layers.Dense(20, activation='relu', input_shape=(1,)),\n",
        "#    tfk.layers.Dense(20, activation='relu'),\n",
        "    tfk.layers.Dense(1, activation='relu'),\n",
        "#    tfk.layers.Softmax()\n",
        "])\n"
      ],
      "metadata": {
        "id": "cH6I4_6IRkan"
      },
      "execution_count": null,
      "outputs": []
    },
    {
      "cell_type": "code",
      "source": [
        "learning_rate = 0.01\n",
        "optimizer = tf.optimizers.SGD(learning_rate)\n",
        "\n",
        "N = 10\n",
        "training_steps = 100\n",
        "display_step = 1\n",
        "def f1(x):\n",
        "  return math.exp(-x)\n",
        "summation = []\n",
        "dt = 10/N\n",
        "def loss1():\n",
        "  y0 =  tf.constant([[f1(0)]], dtype = 'float64')\n",
        "  for i in range(N-1):\n",
        "    i = i + 1\n",
        "    y = y0 + dt*i * model([[y0]])\n",
        "    summation.append((f1(dt*i) - y)**2)\n",
        "    y0 = y\n",
        "  return tf.reduce_mean(tf.abs(summation))\n",
        "def train_step2():\n",
        "  with tf.GradientTape() as tape:\n",
        "    loss = loss1()\n",
        "  gradients = tape.gradient(loss,model.trainable_variables)\n",
        "  optimizer.apply_gradients(zip(gradients, model.trainable_variables))\n",
        "  return gradients\n",
        "for i in range(training_steps):\n",
        "  train_step2()\n",
        "  if i % display_step == 0:\n",
        "    print(\"iterazione numero: %i \" %(i))\n",
        "    print(\"loss: %f \" % (loss1()))\n",
        "\n",
        "y = tf.zeros(shape = (1,N), dtype = 'float64')\n",
        "y0 =  tf.constant([[f1(0)]], dtype = 'float64')\n",
        "y[0,0] = y0\n",
        "yex = y\n",
        "for i in range(N-1):\n",
        "  y[0,i+1] = y[0,1] + dt*i*model(y[0,i])\n",
        "  yex[0,i+1] = f1(dt*i)\n",
        "\n",
        "t = np.linspace(start = 0, stop = 10, num = N)\n",
        "\n",
        "plt.plot(t,y[0])\n",
        "plt.plot(t,yex[0])\n"
      ],
      "metadata": {
        "colab": {
          "base_uri": "https://localhost:8080/",
          "height": 1000
        },
        "id": "GA17IjpcPzgn",
        "outputId": "4c184550-15fa-4c81-aacb-b75df371af2d"
      },
      "execution_count": null,
      "outputs": [
        {
          "output_type": "stream",
          "name": "stdout",
          "text": [
            "iterazione numero: 0 \n",
            "loss: 0.888079 \n",
            "iterazione numero: 1 \n",
            "loss: 0.888079 \n",
            "iterazione numero: 2 \n",
            "loss: 0.888079 \n",
            "iterazione numero: 3 \n",
            "loss: 0.888079 \n",
            "iterazione numero: 4 \n",
            "loss: 0.888079 \n",
            "iterazione numero: 5 \n",
            "loss: 0.888079 \n",
            "iterazione numero: 6 \n",
            "loss: 0.888079 \n",
            "iterazione numero: 7 \n",
            "loss: 0.888079 \n",
            "iterazione numero: 8 \n",
            "loss: 0.888079 \n",
            "iterazione numero: 9 \n",
            "loss: 0.888079 \n",
            "iterazione numero: 10 \n",
            "loss: 0.888079 \n",
            "iterazione numero: 11 \n",
            "loss: 0.888079 \n",
            "iterazione numero: 12 \n",
            "loss: 0.888079 \n",
            "iterazione numero: 13 \n",
            "loss: 0.888079 \n",
            "iterazione numero: 14 \n",
            "loss: 0.888079 \n",
            "iterazione numero: 15 \n",
            "loss: 0.888079 \n",
            "iterazione numero: 16 \n",
            "loss: 0.888079 \n",
            "iterazione numero: 17 \n",
            "loss: 0.888079 \n",
            "iterazione numero: 18 \n",
            "loss: 0.888079 \n",
            "iterazione numero: 19 \n",
            "loss: 0.888079 \n",
            "iterazione numero: 20 \n",
            "loss: 0.888079 \n",
            "iterazione numero: 21 \n",
            "loss: 0.888079 \n",
            "iterazione numero: 22 \n",
            "loss: 0.888079 \n",
            "iterazione numero: 23 \n",
            "loss: 0.888079 \n",
            "iterazione numero: 24 \n",
            "loss: 0.888079 \n",
            "iterazione numero: 25 \n",
            "loss: 0.888079 \n",
            "iterazione numero: 26 \n",
            "loss: 0.888079 \n",
            "iterazione numero: 27 \n",
            "loss: 0.888079 \n",
            "iterazione numero: 28 \n",
            "loss: 0.888079 \n",
            "iterazione numero: 29 \n",
            "loss: 0.888079 \n",
            "iterazione numero: 30 \n",
            "loss: 0.888079 \n",
            "iterazione numero: 31 \n",
            "loss: 0.888079 \n",
            "iterazione numero: 32 \n",
            "loss: 0.888079 \n",
            "iterazione numero: 33 \n",
            "loss: 0.888079 \n",
            "iterazione numero: 34 \n",
            "loss: 0.888079 \n",
            "iterazione numero: 35 \n",
            "loss: 0.888079 \n",
            "iterazione numero: 36 \n",
            "loss: 0.888079 \n",
            "iterazione numero: 37 \n",
            "loss: 0.888079 \n",
            "iterazione numero: 38 \n",
            "loss: 0.888079 \n",
            "iterazione numero: 39 \n",
            "loss: 0.888079 \n",
            "iterazione numero: 40 \n",
            "loss: 0.888079 \n",
            "iterazione numero: 41 \n",
            "loss: 0.888079 \n",
            "iterazione numero: 42 \n",
            "loss: 0.888079 \n",
            "iterazione numero: 43 \n",
            "loss: 0.888079 \n",
            "iterazione numero: 44 \n",
            "loss: 0.888079 \n",
            "iterazione numero: 45 \n",
            "loss: 0.888079 \n",
            "iterazione numero: 46 \n",
            "loss: 0.888079 \n",
            "iterazione numero: 47 \n",
            "loss: 0.888079 \n",
            "iterazione numero: 48 \n",
            "loss: 0.888079 \n",
            "iterazione numero: 49 \n",
            "loss: 0.888079 \n",
            "iterazione numero: 50 \n",
            "loss: 0.888079 \n",
            "iterazione numero: 51 \n",
            "loss: 0.888079 \n",
            "iterazione numero: 52 \n",
            "loss: 0.888079 \n",
            "iterazione numero: 53 \n",
            "loss: 0.888079 \n",
            "iterazione numero: 54 \n",
            "loss: 0.888079 \n",
            "iterazione numero: 55 \n",
            "loss: 0.888079 \n",
            "iterazione numero: 56 \n",
            "loss: 0.888079 \n",
            "iterazione numero: 57 \n",
            "loss: 0.888079 \n",
            "iterazione numero: 58 \n",
            "loss: 0.888079 \n",
            "iterazione numero: 59 \n",
            "loss: 0.888079 \n",
            "iterazione numero: 60 \n",
            "loss: 0.888079 \n",
            "iterazione numero: 61 \n",
            "loss: 0.888079 \n",
            "iterazione numero: 62 \n",
            "loss: 0.888079 \n",
            "iterazione numero: 63 \n",
            "loss: 0.888079 \n",
            "iterazione numero: 64 \n",
            "loss: 0.888079 \n",
            "iterazione numero: 65 \n",
            "loss: 0.888079 \n",
            "iterazione numero: 66 \n",
            "loss: 0.888079 \n",
            "iterazione numero: 67 \n",
            "loss: 0.888079 \n",
            "iterazione numero: 68 \n",
            "loss: 0.888079 \n",
            "iterazione numero: 69 \n",
            "loss: 0.888079 \n",
            "iterazione numero: 70 \n",
            "loss: 0.888079 \n",
            "iterazione numero: 71 \n",
            "loss: 0.888079 \n",
            "iterazione numero: 72 \n",
            "loss: 0.888079 \n",
            "iterazione numero: 73 \n",
            "loss: 0.888079 \n",
            "iterazione numero: 74 \n",
            "loss: 0.888079 \n",
            "iterazione numero: 75 \n",
            "loss: 0.888079 \n",
            "iterazione numero: 76 \n",
            "loss: 0.888079 \n",
            "iterazione numero: 77 \n",
            "loss: 0.888079 \n",
            "iterazione numero: 78 \n",
            "loss: 0.888079 \n",
            "iterazione numero: 79 \n",
            "loss: 0.888079 \n",
            "iterazione numero: 80 \n",
            "loss: 0.888079 \n",
            "iterazione numero: 81 \n",
            "loss: 0.888079 \n",
            "iterazione numero: 82 \n",
            "loss: 0.888079 \n",
            "iterazione numero: 83 \n",
            "loss: 0.888079 \n",
            "iterazione numero: 84 \n",
            "loss: 0.888079 \n",
            "iterazione numero: 85 \n",
            "loss: 0.888079 \n",
            "iterazione numero: 86 \n",
            "loss: 0.888079 \n",
            "iterazione numero: 87 \n",
            "loss: 0.888079 \n",
            "iterazione numero: 88 \n",
            "loss: 0.888079 \n",
            "iterazione numero: 89 \n",
            "loss: 0.888079 \n",
            "iterazione numero: 90 \n",
            "loss: 0.888079 \n",
            "iterazione numero: 91 \n",
            "loss: 0.888079 \n",
            "iterazione numero: 92 \n",
            "loss: 0.888079 \n",
            "iterazione numero: 93 \n",
            "loss: 0.888079 \n",
            "iterazione numero: 94 \n",
            "loss: 0.888079 \n",
            "iterazione numero: 95 \n",
            "loss: 0.888079 \n",
            "iterazione numero: 96 \n",
            "loss: 0.888079 \n",
            "iterazione numero: 97 \n",
            "loss: 0.888079 \n",
            "iterazione numero: 98 \n",
            "loss: 0.888079 \n",
            "iterazione numero: 99 \n",
            "loss: 0.888079 \n"
          ]
        },
        {
          "output_type": "error",
          "ename": "TypeError",
          "evalue": "ignored",
          "traceback": [
            "\u001b[0;31m---------------------------------------------------------------------------\u001b[0m",
            "\u001b[0;31mTypeError\u001b[0m                                 Traceback (most recent call last)",
            "\u001b[0;32m<ipython-input-18-0dcc28e44299>\u001b[0m in \u001b[0;36m<cell line: 33>\u001b[0;34m()\u001b[0m\n\u001b[1;32m     31\u001b[0m \u001b[0my\u001b[0m \u001b[0;34m=\u001b[0m \u001b[0mtf\u001b[0m\u001b[0;34m.\u001b[0m\u001b[0mzeros\u001b[0m\u001b[0;34m(\u001b[0m\u001b[0mshape\u001b[0m \u001b[0;34m=\u001b[0m \u001b[0;34m(\u001b[0m\u001b[0;36m1\u001b[0m\u001b[0;34m,\u001b[0m\u001b[0mN\u001b[0m\u001b[0;34m)\u001b[0m\u001b[0;34m,\u001b[0m \u001b[0mdtype\u001b[0m \u001b[0;34m=\u001b[0m \u001b[0;34m'float64'\u001b[0m\u001b[0;34m)\u001b[0m\u001b[0;34m\u001b[0m\u001b[0;34m\u001b[0m\u001b[0m\n\u001b[1;32m     32\u001b[0m \u001b[0my0\u001b[0m \u001b[0;34m=\u001b[0m  \u001b[0mtf\u001b[0m\u001b[0;34m.\u001b[0m\u001b[0mconstant\u001b[0m\u001b[0;34m(\u001b[0m\u001b[0;34m[\u001b[0m\u001b[0;34m[\u001b[0m\u001b[0mf1\u001b[0m\u001b[0;34m(\u001b[0m\u001b[0;36m0\u001b[0m\u001b[0;34m)\u001b[0m\u001b[0;34m]\u001b[0m\u001b[0;34m]\u001b[0m\u001b[0;34m,\u001b[0m \u001b[0mdtype\u001b[0m \u001b[0;34m=\u001b[0m \u001b[0;34m'float64'\u001b[0m\u001b[0;34m)\u001b[0m\u001b[0;34m\u001b[0m\u001b[0;34m\u001b[0m\u001b[0m\n\u001b[0;32m---> 33\u001b[0;31m \u001b[0my\u001b[0m\u001b[0;34m[\u001b[0m\u001b[0;36m0\u001b[0m\u001b[0;34m,\u001b[0m\u001b[0;36m0\u001b[0m\u001b[0;34m]\u001b[0m \u001b[0;34m=\u001b[0m \u001b[0my0\u001b[0m\u001b[0;34m\u001b[0m\u001b[0;34m\u001b[0m\u001b[0m\n\u001b[0m\u001b[1;32m     34\u001b[0m \u001b[0myex\u001b[0m \u001b[0;34m=\u001b[0m \u001b[0my\u001b[0m\u001b[0;34m\u001b[0m\u001b[0;34m\u001b[0m\u001b[0m\n\u001b[1;32m     35\u001b[0m \u001b[0;32mfor\u001b[0m \u001b[0mi\u001b[0m \u001b[0;32min\u001b[0m \u001b[0mrange\u001b[0m\u001b[0;34m(\u001b[0m\u001b[0mN\u001b[0m\u001b[0;34m-\u001b[0m\u001b[0;36m1\u001b[0m\u001b[0;34m)\u001b[0m\u001b[0;34m:\u001b[0m\u001b[0;34m\u001b[0m\u001b[0;34m\u001b[0m\u001b[0m\n",
            "\u001b[0;31mTypeError\u001b[0m: 'tensorflow.python.framework.ops.EagerTensor' object does not support item assignment"
          ]
        }
      ]
    },
    {
      "cell_type": "code",
      "source": [
        "model(tf.constant([1], dtype =  'float64'))"
      ],
      "metadata": {
        "id": "vOlWzr83-Frv",
        "outputId": "cf013f79-9913-4c11-e122-f11b35d3db4a",
        "colab": {
          "base_uri": "https://localhost:8080/"
        }
      },
      "execution_count": null,
      "outputs": [
        {
          "output_type": "execute_result",
          "data": {
            "text/plain": [
              "<tf.Tensor: shape=(1, 1), dtype=float64, numpy=array([[0.]])>"
            ]
          },
          "metadata": {},
          "execution_count": 17
        }
      ]
    },
    {
      "cell_type": "code",
      "source": [
        "y = tf.zeros(shape = (N,), dtype = 'float64')\n",
        "y.numpy()[0] = f1(0)\n",
        "yex = y\n",
        "for i in range(N-1):\n",
        "  y.numpy()[i+1] = y.numpy()[i] + dt*i*model(model(tf.constant([y.numpy()[i]], dtype =  'float64')))\n",
        "  yex.numpy()[i+1] = f1(dt*(i+1))\n",
        "\n",
        "t = np.linspace(start = 0, stop = 10, num = N)\n",
        "\n",
        "plt.plot(t,y)\n",
        "plt.plot(t,yex)"
      ],
      "metadata": {
        "id": "-z1jHALnzwR-",
        "outputId": "9af766a9-28cc-45eb-d00d-2288afffe6ec",
        "colab": {
          "base_uri": "https://localhost:8080/",
          "height": 448
        }
      },
      "execution_count": null,
      "outputs": [
        {
          "output_type": "execute_result",
          "data": {
            "text/plain": [
              "[<matplotlib.lines.Line2D at 0x7f2b735a6020>]"
            ]
          },
          "metadata": {},
          "execution_count": 22
        },
        {
          "output_type": "display_data",
          "data": {
            "text/plain": [
              "<Figure size 640x480 with 1 Axes>"
            ],
            "image/png": "[encoded data removed]"
          },
          "metadata": {}
        }
      ]
    },
    {
      "cell_type": "code",
      "source": [
        "y0 =  tf.constant([[random.gauss(1, 2.0)]], dtype = 'float64')\n",
        "y = tf.constant(1, dtype = 'float64')\n",
        "x = tf.constant(1, dtype  ='float64')\n",
        "x = tf.constant([[x]], dtype  ='float64')"
      ],
      "metadata": {
        "colab": {
          "base_uri": "https://localhost:8080/",
          "height": 483
        },
        "id": "9q9mD45USAGk",
        "outputId": "b8cfd0d7-890c-4277-b3a0-c392c259431e"
      },
      "execution_count": null,
      "outputs": [
        {
          "output_type": "error",
          "ename": "ValueError",
          "evalue": "ignored",
          "traceback": [
            "\u001b[0;31m---------------------------------------------------------------------------\u001b[0m",
            "\u001b[0;31mValueError\u001b[0m                                Traceback (most recent call last)",
            "\u001b[0;32m<ipython-input-57-77000a52e742>\u001b[0m in \u001b[0;36m<cell line: 4>\u001b[0;34m()\u001b[0m\n\u001b[1;32m      2\u001b[0m \u001b[0my\u001b[0m \u001b[0;34m=\u001b[0m \u001b[0mtf\u001b[0m\u001b[0;34m.\u001b[0m\u001b[0mconstant\u001b[0m\u001b[0;34m(\u001b[0m\u001b[0;36m1\u001b[0m\u001b[0;34m,\u001b[0m \u001b[0mdtype\u001b[0m \u001b[0;34m=\u001b[0m \u001b[0;34m'float64'\u001b[0m\u001b[0;34m)\u001b[0m\u001b[0;34m\u001b[0m\u001b[0;34m\u001b[0m\u001b[0m\n\u001b[1;32m      3\u001b[0m \u001b[0mx\u001b[0m \u001b[0;34m=\u001b[0m \u001b[0mtf\u001b[0m\u001b[0;34m.\u001b[0m\u001b[0mconstant\u001b[0m\u001b[0;34m(\u001b[0m\u001b[0;36m1\u001b[0m\u001b[0;34m,\u001b[0m \u001b[0mdtype\u001b[0m  \u001b[0;34m=\u001b[0m\u001b[0;34m'float64'\u001b[0m\u001b[0;34m)\u001b[0m\u001b[0;34m\u001b[0m\u001b[0;34m\u001b[0m\u001b[0m\n\u001b[0;32m----> 4\u001b[0;31m \u001b[0mx\u001b[0m \u001b[0;34m=\u001b[0m \u001b[0mtf\u001b[0m\u001b[0;34m.\u001b[0m\u001b[0mconstant\u001b[0m\u001b[0;34m(\u001b[0m\u001b[0;34m[\u001b[0m\u001b[0;34m[\u001b[0m\u001b[0mx\u001b[0m\u001b[0;34m]\u001b[0m\u001b[0;34m]\u001b[0m\u001b[0;34m,\u001b[0m \u001b[0mdtype\u001b[0m  \u001b[0;34m=\u001b[0m\u001b[0;34m'float64'\u001b[0m\u001b[0;34m)\u001b[0m\u001b[0;34m\u001b[0m\u001b[0;34m\u001b[0m\u001b[0m\n\u001b[0m",
            "\u001b[0;32m/usr/local/lib/python3.10/dist-packages/tensorflow/python/framework/constant_op.py\u001b[0m in \u001b[0;36mconstant\u001b[0;34m(value, dtype, shape, name)\u001b[0m\n\u001b[1;32m    266\u001b[0m     \u001b[0mValueError\u001b[0m\u001b[0;34m:\u001b[0m \u001b[0;32mif\u001b[0m \u001b[0mcalled\u001b[0m \u001b[0mon\u001b[0m \u001b[0ma\u001b[0m \u001b[0msymbolic\u001b[0m \u001b[0mtensor\u001b[0m\u001b[0;34m.\u001b[0m\u001b[0;34m\u001b[0m\u001b[0;34m\u001b[0m\u001b[0m\n\u001b[1;32m    267\u001b[0m   \"\"\"\n\u001b[0;32m--> 268\u001b[0;31m   return _constant_impl(value, dtype, shape, name, verify_shape=False,\n\u001b[0m\u001b[1;32m    269\u001b[0m                         allow_broadcast=True)\n\u001b[1;32m    270\u001b[0m \u001b[0;34m\u001b[0m\u001b[0m\n",
            "\u001b[0;32m/usr/local/lib/python3.10/dist-packages/tensorflow/python/framework/constant_op.py\u001b[0m in \u001b[0;36m_constant_impl\u001b[0;34m(value, dtype, shape, name, verify_shape, allow_broadcast)\u001b[0m\n\u001b[1;32m    278\u001b[0m       \u001b[0;32mwith\u001b[0m \u001b[0mtrace\u001b[0m\u001b[0;34m.\u001b[0m\u001b[0mTrace\u001b[0m\u001b[0;34m(\u001b[0m\u001b[0;34m\"tf.constant\"\u001b[0m\u001b[0;34m)\u001b[0m\u001b[0;34m:\u001b[0m\u001b[0;34m\u001b[0m\u001b[0;34m\u001b[0m\u001b[0m\n\u001b[1;32m    279\u001b[0m         \u001b[0;32mreturn\u001b[0m \u001b[0m_constant_eager_impl\u001b[0m\u001b[0;34m(\u001b[0m\u001b[0mctx\u001b[0m\u001b[0;34m,\u001b[0m \u001b[0mvalue\u001b[0m\u001b[0;34m,\u001b[0m \u001b[0mdtype\u001b[0m\u001b[0;34m,\u001b[0m \u001b[0mshape\u001b[0m\u001b[0;34m,\u001b[0m \u001b[0mverify_shape\u001b[0m\u001b[0;34m)\u001b[0m\u001b[0;34m\u001b[0m\u001b[0;34m\u001b[0m\u001b[0m\n\u001b[0;32m--> 280\u001b[0;31m     \u001b[0;32mreturn\u001b[0m \u001b[0m_constant_eager_impl\u001b[0m\u001b[0;34m(\u001b[0m\u001b[0mctx\u001b[0m\u001b[0;34m,\u001b[0m \u001b[0mvalue\u001b[0m\u001b[0;34m,\u001b[0m \u001b[0mdtype\u001b[0m\u001b[0;34m,\u001b[0m \u001b[0mshape\u001b[0m\u001b[0;34m,\u001b[0m \u001b[0mverify_shape\u001b[0m\u001b[0;34m)\u001b[0m\u001b[0;34m\u001b[0m\u001b[0;34m\u001b[0m\u001b[0m\n\u001b[0m\u001b[1;32m    281\u001b[0m \u001b[0;34m\u001b[0m\u001b[0m\n\u001b[1;32m    282\u001b[0m   \u001b[0mg\u001b[0m \u001b[0;34m=\u001b[0m \u001b[0mops\u001b[0m\u001b[0;34m.\u001b[0m\u001b[0mget_default_graph\u001b[0m\u001b[0;34m(\u001b[0m\u001b[0;34m)\u001b[0m\u001b[0;34m\u001b[0m\u001b[0;34m\u001b[0m\u001b[0m\n",
            "\u001b[0;32m/usr/local/lib/python3.10/dist-packages/tensorflow/python/framework/constant_op.py\u001b[0m in \u001b[0;36m_constant_eager_impl\u001b[0;34m(ctx, value, dtype, shape, verify_shape)\u001b[0m\n\u001b[1;32m    303\u001b[0m \u001b[0;32mdef\u001b[0m \u001b[0m_constant_eager_impl\u001b[0m\u001b[0;34m(\u001b[0m\u001b[0mctx\u001b[0m\u001b[0;34m,\u001b[0m \u001b[0mvalue\u001b[0m\u001b[0;34m,\u001b[0m \u001b[0mdtype\u001b[0m\u001b[0;34m,\u001b[0m \u001b[0mshape\u001b[0m\u001b[0;34m,\u001b[0m \u001b[0mverify_shape\u001b[0m\u001b[0;34m)\u001b[0m\u001b[0;34m:\u001b[0m\u001b[0;34m\u001b[0m\u001b[0;34m\u001b[0m\u001b[0m\n\u001b[1;32m    304\u001b[0m   \u001b[0;34m\"\"\"Creates a constant on the current device.\"\"\"\u001b[0m\u001b[0;34m\u001b[0m\u001b[0;34m\u001b[0m\u001b[0m\n\u001b[0;32m--> 305\u001b[0;31m   \u001b[0mt\u001b[0m \u001b[0;34m=\u001b[0m \u001b[0mconvert_to_eager_tensor\u001b[0m\u001b[0;34m(\u001b[0m\u001b[0mvalue\u001b[0m\u001b[0;34m,\u001b[0m \u001b[0mctx\u001b[0m\u001b[0;34m,\u001b[0m \u001b[0mdtype\u001b[0m\u001b[0;34m)\u001b[0m\u001b[0;34m\u001b[0m\u001b[0;34m\u001b[0m\u001b[0m\n\u001b[0m\u001b[1;32m    306\u001b[0m   \u001b[0;32mif\u001b[0m \u001b[0mshape\u001b[0m \u001b[0;32mis\u001b[0m \u001b[0;32mNone\u001b[0m\u001b[0;34m:\u001b[0m\u001b[0;34m\u001b[0m\u001b[0;34m\u001b[0m\u001b[0m\n\u001b[1;32m    307\u001b[0m     \u001b[0;32mreturn\u001b[0m \u001b[0mt\u001b[0m\u001b[0;34m\u001b[0m\u001b[0;34m\u001b[0m\u001b[0m\n",
            "\u001b[0;32m/usr/local/lib/python3.10/dist-packages/tensorflow/python/framework/constant_op.py\u001b[0m in \u001b[0;36mconvert_to_eager_tensor\u001b[0;34m(value, ctx, dtype)\u001b[0m\n\u001b[1;32m    101\u001b[0m       \u001b[0mdtype\u001b[0m \u001b[0;34m=\u001b[0m \u001b[0mdtypes\u001b[0m\u001b[0;34m.\u001b[0m\u001b[0mas_dtype\u001b[0m\u001b[0;34m(\u001b[0m\u001b[0mdtype\u001b[0m\u001b[0;34m)\u001b[0m\u001b[0;34m.\u001b[0m\u001b[0mas_datatype_enum\u001b[0m\u001b[0;34m\u001b[0m\u001b[0;34m\u001b[0m\u001b[0m\n\u001b[1;32m    102\u001b[0m   \u001b[0mctx\u001b[0m\u001b[0;34m.\u001b[0m\u001b[0mensure_initialized\u001b[0m\u001b[0;34m(\u001b[0m\u001b[0;34m)\u001b[0m\u001b[0;34m\u001b[0m\u001b[0;34m\u001b[0m\u001b[0m\n\u001b[0;32m--> 103\u001b[0;31m   \u001b[0;32mreturn\u001b[0m \u001b[0mops\u001b[0m\u001b[0;34m.\u001b[0m\u001b[0mEagerTensor\u001b[0m\u001b[0;34m(\u001b[0m\u001b[0mvalue\u001b[0m\u001b[0;34m,\u001b[0m \u001b[0mctx\u001b[0m\u001b[0;34m.\u001b[0m\u001b[0mdevice_name\u001b[0m\u001b[0;34m,\u001b[0m \u001b[0mdtype\u001b[0m\u001b[0;34m)\u001b[0m\u001b[0;34m\u001b[0m\u001b[0;34m\u001b[0m\u001b[0m\n\u001b[0m\u001b[1;32m    104\u001b[0m \u001b[0;34m\u001b[0m\u001b[0m\n\u001b[1;32m    105\u001b[0m \u001b[0;34m\u001b[0m\u001b[0m\n",
            "\u001b[0;31mValueError\u001b[0m: TypeError: Scalar tensor has no `len()`\nTraceback (most recent call last):\n\n  File \"/usr/local/lib/python3.10/dist-packages/tensorflow/python/framework/ops.py\", line 1107, in __len__\n    raise TypeError(\"Scalar tensor has no `len()`\")\n\nTypeError: Scalar tensor has no `len()`\n\n"
          ]
        }
      ]
    },
    {
      "cell_type": "markdown",
      "source": [
        "#prova senza T\n"
      ],
      "metadata": {
        "id": "p4Zq_hVg36K2"
      }
    },
    {
      "cell_type": "code",
      "source": [
        "import numpy as np\n",
        "import tensorflow as tf\n",
        "import math\n",
        "import MyCrankNicolsonClass as cnc\n",
        "from matplotlib import pyplot as plt\n",
        "import os\n",
        "import random\n",
        "import MyDatasetGenerator as dg\n",
        "\n",
        "tfk = tf.keras\n",
        "tfkl = tf.keras.layers\n",
        "tf.keras.backend.set_floatx('float64')\n",
        "\n",
        "\n",
        "seed = 20\n",
        "\n",
        "random.seed(seed)\n",
        "os.environ['PYTHONHASHSEED'] = str(seed)\n",
        "np.random.seed(seed)\n",
        "tf.random.set_seed(seed)\n",
        "tf.compat.v1.set_random_seed(seed)\n",
        "\n",
        "initializers = tf.keras.initializers\n",
        "init = initializers.GlorotNormal(seed = seed)\n",
        "tf.keras.layers.experimental.preprocessing.Normalization(dtype='float64')\n",
        "model = tfk.Sequential([\n",
        "#   tfk.layers.Dense(2, activation='sigmoid', input_shape=(1,), kernel_initializer=init, bias_initializer=initializers.Zeros()),\n",
        "#   tfk.layers.Dense(2, activation='sigmoid', input_shape=(1,), kernel_initializer=init, bias_initializer=initializers.Zeros()),\n",
        "#   tfk.layers.Dense(5, activation='sigmoid', input_shape=(1,), kernel_initializer=init, bias_initializer=initializers.Zeros()),\n",
        "    tfk.layers.Dense(32, activation='sigmoid', input_shape=(1,), kernel_initializer=init, bias_initializer=initializers.Zeros()),\n",
        "#   tfk.layers.Dense(20, activation='relu'),\n",
        "    tfk.layers.Dense(1, activation='linear',kernel_initializer= init, bias_initializer=initializers.Zeros()),\n",
        "#   tfk.layers.Softmax()\n",
        "])\n",
        "\n",
        "\n",
        "\n"
      ],
      "metadata": {
        "id": "kcIJzZ_3382L"
      },
      "execution_count": null,
      "outputs": []
    },
    {
      "cell_type": "code",
      "source": [
        "#learning_rate = 0.1\n",
        "optimizer = tf.keras.optimizers.Adam(learning_rate=0.1)"
      ],
      "metadata": {
        "id": "qZKOsnqX-5YC"
      },
      "execution_count": null,
      "outputs": []
    },
    {
      "cell_type": "code",
      "source": [
        "N = 30\n",
        "training_steps = 500\n",
        "display_step = 1\n",
        "def f1(x):\n",
        "  return math.exp(-x)\n",
        "summation = []\n",
        "T = 10\n",
        "dt = T/N\n",
        "def loss1():\n",
        "  y0 =  tf.constant([[f1(0)]], dtype = 'float64')\n",
        "  for i in range(N-1):\n",
        "    i = i + 1\n",
        "    y = y0 + dt * model([[y0]])\n",
        "    summation.append((f1(dt*i) - y))\n",
        "    y0 = y\n",
        "  return tf.reduce_mean(tf.abs(summation))\n",
        "\n",
        "def train_step2():\n",
        "  with tf.GradientTape() as tape:\n",
        "    loss = loss1()\n",
        "  gradients = tape.gradient(loss,model.trainable_variables)\n",
        "  optimizer.apply_gradients(zip(gradients, model.trainable_variables))\n",
        "  return gradients\n"
      ],
      "metadata": {
        "id": "LgjOo-9i7kP4"
      },
      "execution_count": null,
      "outputs": []
    },
    {
      "cell_type": "code",
      "source": [
        "#TRAINING LOOP\n",
        "for i in range(training_steps):\n",
        "  gradients = train_step2()\n",
        "  if i % display_step == 0:\n",
        "    print(\"iterazione numero: %i \" %(i))\n",
        "    print(\"loss: %f \" % (loss1()))\n"
      ],
      "metadata": {
        "id": "X6KqrVNX7oSL",
        "outputId": "03b1f3c5-3e6a-4f4b-a556-bc3fadca04f6",
        "colab": {
          "base_uri": "https://localhost:8080/"
        }
      },
      "execution_count": null,
      "outputs": [
        {
          "output_type": "stream",
          "name": "stdout",
          "text": [
            "iterazione numero: 0 \n",
            "loss: 10.428216 \n",
            "iterazione numero: 1 \n",
            "loss: 10.351403 \n",
            "iterazione numero: 2 \n",
            "loss: 10.444293 \n",
            "iterazione numero: 3 \n",
            "loss: 10.313752 \n",
            "iterazione numero: 4 \n",
            "loss: 10.096167 \n",
            "iterazione numero: 5 \n",
            "loss: 9.855572 \n",
            "iterazione numero: 6 \n",
            "loss: 9.620382 \n",
            "iterazione numero: 7 \n",
            "loss: 9.403544 \n",
            "iterazione numero: 8 \n",
            "loss: 9.208409 \n",
            "iterazione numero: 9 \n",
            "loss: 9.032746 \n",
            "iterazione numero: 10 \n",
            "loss: 8.872068 \n",
            "iterazione numero: 11 \n",
            "loss: 8.721639 \n",
            "iterazione numero: 12 \n",
            "loss: 8.577388 \n",
            "iterazione numero: 13 \n",
            "loss: 8.436183 \n",
            "iterazione numero: 14 \n",
            "loss: 8.295818 \n",
            "iterazione numero: 15 \n",
            "loss: 8.154876 \n",
            "iterazione numero: 16 \n",
            "loss: 8.012572 \n",
            "iterazione numero: 17 \n",
            "loss: 7.868607 \n",
            "iterazione numero: 18 \n",
            "loss: 7.723033 \n",
            "iterazione numero: 19 \n",
            "loss: 7.576154 \n",
            "iterazione numero: 20 \n",
            "loss: 7.428437 \n",
            "iterazione numero: 21 \n",
            "loss: 7.280448 \n",
            "iterazione numero: 22 \n",
            "loss: 7.132794 \n",
            "iterazione numero: 23 \n",
            "loss: 6.986087 \n",
            "iterazione numero: 24 \n",
            "loss: 6.840909 \n",
            "iterazione numero: 25 \n",
            "loss: 6.697791 \n",
            "iterazione numero: 26 \n",
            "loss: 6.557196 \n",
            "iterazione numero: 27 \n",
            "loss: 6.419512 \n",
            "iterazione numero: 28 \n",
            "loss: 6.285048 \n",
            "iterazione numero: 29 \n",
            "loss: 6.154036 \n",
            "iterazione numero: 30 \n",
            "loss: 6.026636 \n",
            "iterazione numero: 31 \n",
            "loss: 5.902945 \n",
            "iterazione numero: 32 \n",
            "loss: 5.783008 \n",
            "iterazione numero: 33 \n",
            "loss: 5.666822 \n",
            "iterazione numero: 34 \n",
            "loss: 5.554351 \n",
            "iterazione numero: 35 \n",
            "loss: 5.445532 \n",
            "iterazione numero: 36 \n",
            "loss: 5.340278 \n",
            "iterazione numero: 37 \n",
            "loss: 5.238492 \n",
            "iterazione numero: 38 \n",
            "loss: 5.140063 \n",
            "iterazione numero: 39 \n",
            "loss: 5.044876 \n",
            "iterazione numero: 40 \n",
            "loss: 4.952810 \n",
            "iterazione numero: 41 \n",
            "loss: 4.863746 \n",
            "iterazione numero: 42 \n",
            "loss: 4.777563 \n",
            "iterazione numero: 43 \n",
            "loss: 4.694143 \n",
            "iterazione numero: 44 \n",
            "loss: 4.613369 \n",
            "iterazione numero: 45 \n",
            "loss: 4.535129 \n",
            "iterazione numero: 46 \n",
            "loss: 4.459314 \n",
            "iterazione numero: 47 \n",
            "loss: 4.385819 \n",
            "iterazione numero: 48 \n",
            "loss: 4.314543 \n",
            "iterazione numero: 49 \n",
            "loss: 4.245389 \n",
            "iterazione numero: 50 \n",
            "loss: 4.178266 \n",
            "iterazione numero: 51 \n",
            "loss: 4.113084 \n",
            "iterazione numero: 52 \n",
            "loss: 4.049759 \n",
            "iterazione numero: 53 \n",
            "loss: 3.988212 \n",
            "iterazione numero: 54 \n",
            "loss: 3.928364 \n",
            "iterazione numero: 55 \n",
            "loss: 3.870145 \n",
            "iterazione numero: 56 \n",
            "loss: 3.813484 \n",
            "iterazione numero: 57 \n",
            "loss: 3.758315 \n",
            "iterazione numero: 58 \n",
            "loss: 3.704576 \n",
            "iterazione numero: 59 \n",
            "loss: 3.652207 \n",
            "iterazione numero: 60 \n",
            "loss: 3.601150 \n",
            "iterazione numero: 61 \n",
            "loss: 3.551353 \n",
            "iterazione numero: 62 \n",
            "loss: 3.502762 \n",
            "iterazione numero: 63 \n",
            "loss: 3.455330 \n",
            "iterazione numero: 64 \n",
            "loss: 3.409009 \n",
            "iterazione numero: 65 \n",
            "loss: 3.363755 \n",
            "iterazione numero: 66 \n",
            "loss: 3.319526 \n",
            "iterazione numero: 67 \n",
            "loss: 3.276281 \n",
            "iterazione numero: 68 \n",
            "loss: 3.233981 \n",
            "iterazione numero: 69 \n",
            "loss: 3.192590 \n",
            "iterazione numero: 70 \n",
            "loss: 3.152072 \n",
            "iterazione numero: 71 \n",
            "loss: 3.112395 \n",
            "iterazione numero: 72 \n",
            "loss: 3.073526 \n",
            "iterazione numero: 73 \n",
            "loss: 3.035434 \n",
            "iterazione numero: 74 \n",
            "loss: 2.998090 \n",
            "iterazione numero: 75 \n",
            "loss: 2.961471 \n",
            "iterazione numero: 76 \n",
            "loss: 2.925551 \n",
            "iterazione numero: 77 \n",
            "loss: 2.890310 \n",
            "iterazione numero: 78 \n",
            "loss: 2.855731 \n",
            "iterazione numero: 79 \n",
            "loss: 2.821796 \n",
            "iterazione numero: 80 \n",
            "loss: 2.788492 \n",
            "iterazione numero: 81 \n",
            "loss: 2.755808 \n",
            "iterazione numero: 82 \n",
            "loss: 2.723736 \n",
            "iterazione numero: 83 \n",
            "loss: 2.692268 \n",
            "iterazione numero: 84 \n",
            "loss: 2.661401 \n",
            "iterazione numero: 85 \n",
            "loss: 2.631132 \n",
            "iterazione numero: 86 \n",
            "loss: 2.601465 \n",
            "iterazione numero: 87 \n",
            "loss: 2.572403 \n",
            "iterazione numero: 88 \n",
            "loss: 2.543959 \n",
            "iterazione numero: 89 \n",
            "loss: 2.516154 \n",
            "iterazione numero: 90 \n",
            "loss: 2.489036 \n",
            "iterazione numero: 91 \n",
            "loss: 2.462609 \n",
            "iterazione numero: 92 \n",
            "loss: 2.436823 \n",
            "iterazione numero: 93 \n",
            "loss: 2.411631 \n",
            "iterazione numero: 94 \n",
            "loss: 2.386991 \n",
            "iterazione numero: 95 \n",
            "loss: 2.362865 \n",
            "iterazione numero: 96 \n",
            "loss: 2.339218 \n",
            "iterazione numero: 97 \n",
            "loss: 2.316019 \n",
            "iterazione numero: 98 \n",
            "loss: 2.293240 \n",
            "iterazione numero: 99 \n",
            "loss: 2.270854 \n",
            "iterazione numero: 100 \n",
            "loss: 2.248840 \n",
            "iterazione numero: 101 \n",
            "loss: 2.227199 \n",
            "iterazione numero: 102 \n",
            "loss: 2.205957 \n",
            "iterazione numero: 103 \n",
            "loss: 2.185122 \n",
            "iterazione numero: 104 \n",
            "loss: 2.164693 \n",
            "iterazione numero: 105 \n",
            "loss: 2.144660 \n",
            "iterazione numero: 106 \n",
            "loss: 2.125015 \n",
            "iterazione numero: 107 \n",
            "loss: 2.105744 \n",
            "iterazione numero: 108 \n",
            "loss: 2.086837 \n",
            "iterazione numero: 109 \n",
            "loss: 2.068279 \n",
            "iterazione numero: 110 \n",
            "loss: 2.050059 \n",
            "iterazione numero: 111 \n",
            "loss: 2.032165 \n",
            "iterazione numero: 112 \n",
            "loss: 2.014587 \n",
            "iterazione numero: 113 \n",
            "loss: 1.997313 \n",
            "iterazione numero: 114 \n",
            "loss: 1.980334 \n",
            "iterazione numero: 115 \n",
            "loss: 1.963642 \n",
            "iterazione numero: 116 \n",
            "loss: 1.947227 \n",
            "iterazione numero: 117 \n",
            "loss: 1.931082 \n",
            "iterazione numero: 118 \n",
            "loss: 1.915201 \n",
            "iterazione numero: 119 \n",
            "loss: 1.899577 \n",
            "iterazione numero: 120 \n",
            "loss: 1.884205 \n",
            "iterazione numero: 121 \n",
            "loss: 1.869079 \n",
            "iterazione numero: 122 \n",
            "loss: 1.854194 \n",
            "iterazione numero: 123 \n",
            "loss: 1.839546 \n",
            "iterazione numero: 124 \n",
            "loss: 1.825131 \n",
            "iterazione numero: 125 \n",
            "loss: 1.810945 \n",
            "iterazione numero: 126 \n",
            "loss: 1.796982 \n",
            "iterazione numero: 127 \n",
            "loss: 1.783239 \n",
            "iterazione numero: 128 \n",
            "loss: 1.769711 \n",
            "iterazione numero: 129 \n",
            "loss: 1.756393 \n",
            "iterazione numero: 130 \n",
            "loss: 1.743278 \n",
            "iterazione numero: 131 \n",
            "loss: 1.730362 \n",
            "iterazione numero: 132 \n",
            "loss: 1.717639 \n",
            "iterazione numero: 133 \n",
            "loss: 1.705104 \n",
            "iterazione numero: 134 \n",
            "loss: 1.692752 \n",
            "iterazione numero: 135 \n",
            "loss: 1.680581 \n",
            "iterazione numero: 136 \n",
            "loss: 1.668585 \n",
            "iterazione numero: 137 \n",
            "loss: 1.656762 \n",
            "iterazione numero: 138 \n",
            "loss: 1.645108 \n",
            "iterazione numero: 139 \n",
            "loss: 1.633621 \n",
            "iterazione numero: 140 \n",
            "loss: 1.622295 \n",
            "iterazione numero: 141 \n",
            "loss: 1.611130 \n",
            "iterazione numero: 142 \n",
            "loss: 1.600120 \n",
            "iterazione numero: 143 \n",
            "loss: 1.589264 \n",
            "iterazione numero: 144 \n",
            "loss: 1.578556 \n",
            "iterazione numero: 145 \n",
            "loss: 1.567996 \n",
            "iterazione numero: 146 \n",
            "loss: 1.557579 \n",
            "iterazione numero: 147 \n",
            "loss: 1.547302 \n",
            "iterazione numero: 148 \n",
            "loss: 1.537163 \n",
            "iterazione numero: 149 \n",
            "loss: 1.527158 \n",
            "iterazione numero: 150 \n",
            "loss: 1.517286 \n",
            "iterazione numero: 151 \n",
            "loss: 1.507543 \n",
            "iterazione numero: 152 \n",
            "loss: 1.497927 \n",
            "iterazione numero: 153 \n",
            "loss: 1.488436 \n",
            "iterazione numero: 154 \n",
            "loss: 1.479067 \n",
            "iterazione numero: 155 \n",
            "loss: 1.469817 \n",
            "iterazione numero: 156 \n",
            "loss: 1.460684 \n",
            "iterazione numero: 157 \n",
            "loss: 1.451667 \n",
            "iterazione numero: 158 \n",
            "loss: 1.442763 \n",
            "iterazione numero: 159 \n",
            "loss: 1.433970 \n",
            "iterazione numero: 160 \n",
            "loss: 1.425285 \n",
            "iterazione numero: 161 \n",
            "loss: 1.416708 \n",
            "iterazione numero: 162 \n",
            "loss: 1.408236 \n",
            "iterazione numero: 163 \n",
            "loss: 1.399866 \n",
            "iterazione numero: 164 \n",
            "loss: 1.391598 \n",
            "iterazione numero: 165 \n",
            "loss: 1.383430 \n",
            "iterazione numero: 166 \n",
            "loss: 1.375358 \n",
            "iterazione numero: 167 \n",
            "loss: 1.367383 \n",
            "iterazione numero: 168 \n",
            "loss: 1.359502 \n",
            "iterazione numero: 169 \n",
            "loss: 1.351713 \n",
            "iterazione numero: 170 \n",
            "loss: 1.344015 \n",
            "iterazione numero: 171 \n",
            "loss: 1.336406 \n",
            "iterazione numero: 172 \n",
            "loss: 1.328885 \n",
            "iterazione numero: 173 \n",
            "loss: 1.321450 \n",
            "iterazione numero: 174 \n",
            "loss: 1.314100 \n",
            "iterazione numero: 175 \n",
            "loss: 1.306833 \n",
            "iterazione numero: 176 \n",
            "loss: 1.299648 \n"
          ]
        }
      ]
    },
    {
      "cell_type": "code",
      "source": [
        "gradients\n",
        "#model.trainable_variables"
      ],
      "metadata": {
        "id": "F1nizojJ9hia",
        "outputId": "9fdbe196-28c6-42fb-a601-41b9198e5bbe",
        "colab": {
          "base_uri": "https://localhost:8080/"
        }
      },
      "execution_count": null,
      "outputs": [
        {
          "output_type": "execute_result",
          "data": {
            "text/plain": [
              "[<tf.Tensor: shape=(1, 32), dtype=float64, numpy=\n",
              " array([[ 2.59593822e-05,  3.91063864e-06,  2.45620526e-05,\n",
              "         -1.58750670e-05,  1.69469389e-05, -1.85001357e-05,\n",
              "         -2.27052405e-05, -2.40510867e-05,  1.07193754e-05,\n",
              "          1.59165724e-05, -2.26458621e-05,  7.02808967e-06,\n",
              "          1.09722418e-05, -1.48638076e-05,  2.51423840e-05,\n",
              "          1.19029504e-05, -4.65073874e-05,  2.61771650e-05,\n",
              "         -3.24340738e-05, -3.13403830e-05,  1.53578818e-05,\n",
              "          1.62401128e-05, -3.57140620e-05,  1.46920889e-05,\n",
              "         -7.76627011e-07, -3.33307882e-05,  5.81653884e-06,\n",
              "         -3.86434834e-05,  1.43652546e-05,  3.53406327e-06,\n",
              "          1.13214473e-05,  2.57208186e-05]])>,\n",
              " <tf.Tensor: shape=(32,), dtype=float64, numpy=\n",
              " array([-2.35052123e-05, -2.99531296e-06, -2.23951429e-05,  1.36743976e-05,\n",
              "        -1.59227147e-05,  1.57128670e-05,  4.08163150e-07,  1.96595318e-05,\n",
              "        -9.71451550e-06, -1.49647912e-05,  1.87164436e-05, -5.90580478e-06,\n",
              "        -9.98063605e-06,  1.28660975e-05, -2.28584132e-05, -1.09568843e-05,\n",
              "         1.80778972e-05, -2.36466130e-05,  2.40619404e-05,  2.36443870e-05,\n",
              "        -1.44333681e-05, -1.52685814e-05,  2.48930828e-05, -1.37883444e-05,\n",
              "         7.03344543e-07,  2.43566048e-05, -4.72938048e-06,  2.49206727e-05,\n",
              "        -1.34669731e-05, -2.67198538e-06, -1.03477431e-05, -2.32541776e-05])>,\n",
              " <tf.Tensor: shape=(32, 1), dtype=float64, numpy=\n",
              " array([[-3.08372851e-04],\n",
              "        [-1.38820793e-04],\n",
              "        [-3.05205625e-04],\n",
              "        [-5.59363882e-05],\n",
              "        [-2.74547720e-04],\n",
              "        [-5.28069186e-05],\n",
              "        [ 2.24407462e-05],\n",
              "        [-4.50617927e-05],\n",
              "        [-2.13611038e-04],\n",
              "        [-2.67194380e-04],\n",
              "        [-4.72088302e-05],\n",
              "        [-1.71046438e-04],\n",
              "        [-2.16608961e-04],\n",
              "        [-5.70802534e-05],\n",
              "        [-3.06574336e-04],\n",
              "        [-2.27530227e-04],\n",
              "        [ 4.25505723e-05],\n",
              "        [-1.05912187e-04],\n",
              "        [-2.77760319e-05],\n",
              "        [-3.06165638e-05],\n",
              "        [-2.62710200e-04],\n",
              "        [-2.69627942e-04],\n",
              "        [-1.77311897e-05],\n",
              "        [-2.56889699e-04],\n",
              "        [-7.16296389e-05],\n",
              "        [-2.52714015e-05],\n",
              "        [-1.58080540e-04],\n",
              "        [-6.33606404e-06],\n",
              "        [-2.53843561e-04],\n",
              "        [-1.35173878e-04],\n",
              "        [-2.20734156e-04],\n",
              "        [-1.05191876e-04]])>,\n",
              " <tf.Tensor: shape=(1,), dtype=float64, numpy=array([-0.00049162])>]"
            ]
          },
          "metadata": {},
          "execution_count": 136
        }
      ]
    },
    {
      "cell_type": "code",
      "source": [
        "#PLOT\n",
        "y = np.zeros(N)\n",
        "y[0]= f1(0)\n",
        "yex = np.zeros(N)\n",
        "yex[0]= f1(0)\n",
        "curr_y = tf.constant([f1(0)], dtype = 'float64')\n",
        "for i in range(N-1):\n",
        "    # x = np.array([curr_beta, T(i*dt)])\n",
        "    # print(curr_beta)\n",
        "    next_y = curr_y + dt * model(curr_y)\n",
        "    y[i+1] = next_y.numpy()[0][0]\n",
        "    yex[i+1] = f1(dt*i)\n",
        "    curr_y = next_y\n",
        "\n",
        "t = np.linspace(start = 0, stop = 10, num = N)\n",
        "plt.plot(t, y)\n",
        "plt.plot(t, yex)\n",
        "plt.legend([\"soluzione rete\", \"soluzione vera\"])"
      ],
      "metadata": {
        "id": "zbHPqAp_5gzd",
        "outputId": "47d3136a-f778-48ec-fdc2-1e0f4365a3a4",
        "colab": {
          "base_uri": "https://localhost:8080/",
          "height": 448
        }
      },
      "execution_count": null,
      "outputs": [
        {
          "output_type": "execute_result",
          "data": {
            "text/plain": [
              "<matplotlib.legend.Legend at 0x7f3e680a6410>"
            ]
          },
          "metadata": {},
          "execution_count": 135
        },
        {
          "output_type": "display_data",
          "data": {
            "text/plain": [
              "<Figure size 640x480 with 1 Axes>"
            ],
            "image/png": "[encoded data removed]"
          },
          "metadata": {}
        }
      ]
    },
    {
      "cell_type": "markdown",
      "source": [
        "#Prova pinn\n"
      ],
      "metadata": {
        "id": "oEAcPCYYlXWz"
      }
    },
    {
      "cell_type": "code",
      "source": [
        "import numpy as np\n",
        "import tensorflow as tf\n",
        "import math\n",
        "import MyCrankNicolsonClass as cnc\n",
        "from matplotlib import pyplot as plt\n",
        "import os\n",
        "import random\n",
        "import MyDatasetGenerator as dg\n",
        "\n",
        "tfk = tf.keras\n",
        "tfkl = tf.keras.layers\n",
        "tf.keras.backend.set_floatx('float64')\n",
        "\n",
        "\n",
        "seed = 20\n",
        "\n",
        "random.seed(seed)\n",
        "os.environ['PYTHONHASHSEED'] = str(seed)\n",
        "np.random.seed(seed)\n",
        "tf.random.set_seed(seed)\n",
        "tf.compat.v1.set_random_seed(seed)\n",
        "\n",
        "initializers = tf.keras.initializers\n",
        "init = initializers.GlorotNormal(seed = seed)\n",
        "tf.keras.layers.experimental.preprocessing.Normalization(dtype='float64')\n",
        "model = tfk.Sequential([\n",
        "#   tfk.layers.Dense(2, activation='sigmoid', input_shape=(1,), kernel_initializer=init, bias_initializer=initializers.Zeros()),\n",
        "#   tfk.layers.Dense(2, activation='sigmoid', input_shape=(1,), kernel_initializer=init, bias_initializer=initializers.Zeros()),\n",
        "#   tfk.layers.Dense(5, activation='sigmoid', input_shape=(1,), kernel_initializer=init, bias_initializer=initializers.Zeros()),\n",
        "    tfk.layers.Dense(20, activation='sigmoid', input_shape=(2,), kernel_initializer=init, bias_initializer=initializers.Zeros()),\n",
        "#   tfk.layers.Dense(20, activation='relu'),\n",
        "    tfk.layers.Dense(1, activation='linear',kernel_initializer= init, bias_initializer=initializers.Zeros()),\n",
        "#   tfk.layers.Softmax()\n",
        "])\n",
        "\n",
        "\n",
        "\n"
      ],
      "metadata": {
        "id": "9Zl1k0WIldWK"
      },
      "execution_count": null,
      "outputs": []
    },
    {
      "cell_type": "code",
      "source": [
        "input = tf.Variable([[1,2]],dtype = 'float64')\n",
        "#model(input)\n",
        "with tf.GradientTape() as tape:\n",
        "  input = tf.Variable([[1,2]],dtype = 'float64')\n",
        "  tape.watch(input)\n",
        "  beta = model(input)\n",
        "grad = tape.gradient(beta,input)\n",
        "print(grad)"
      ],
      "metadata": {
        "id": "_B5sdO_jngq_",
        "outputId": "b6212bdd-157b-403e-d77e-ec9a31066c89",
        "colab": {
          "base_uri": "https://localhost:8080/"
        }
      },
      "execution_count": null,
      "outputs": [
        {
          "output_type": "stream",
          "name": "stdout",
          "text": [
            "tf.Tensor([[ 0.35865074 -0.01944718]], shape=(1, 2), dtype=float64)\n"
          ]
        }
      ]
    },
    {
      "cell_type": "code",
      "source": [
        "t = tf.Variable([[1]],dtype = 'float64')\n",
        "T = tf.constant([[2]], dtype = 'float64' )\n",
        "a = tf.concat([t,T],axis = -1)\n",
        "model(a)\n",
        "with tf.GradientTape() as tape:\n",
        "  t = tf.Variable([[1]],dtype = 'float64')\n",
        "  T = tf.constant([[2]], dtype = 'float64' )\n",
        "  a = tf.concat([t,T],axis = -1)\n",
        "  tape.watch(t)\n",
        "  #tape.watch(T)\n",
        "  beta = model(a)\n",
        "grad = tape.gradient(beta,t)\n",
        "print(grad)"
      ],
      "metadata": {
        "id": "OudtL0J6p4U5",
        "outputId": "34c7e199-1506-4af8-a110-44f39c189112",
        "colab": {
          "base_uri": "https://localhost:8080/"
        }
      },
      "execution_count": null,
      "outputs": [
        {
          "output_type": "stream",
          "name": "stdout",
          "text": [
            "tf.Tensor([[0.35865074]], shape=(1, 1), dtype=float64)\n"
          ]
        }
      ]
    },
    {
      "cell_type": "code",
      "source": [
        "#model.load_weights('ckptpinn')"
      ],
      "metadata": {
        "id": "8tj3zMVGmYaZ"
      },
      "execution_count": null,
      "outputs": []
    },
    {
      "cell_type": "code",
      "source": [
        "#learning_rate = 0.1\n",
        "optimizer = tf.keras.optimizers.Adam(learning_rate=0.01)"
      ],
      "metadata": {
        "id": "M-kAR2HFldWK"
      },
      "execution_count": null,
      "outputs": []
    },
    {
      "cell_type": "code",
      "source": [
        "t_max = 1\n",
        "tau = t_max\n",
        "N = 20\n",
        "training_steps = 500\n",
        "display_step = 1\n",
        "beta0 = np.array([0.5])\n",
        "max = 1/2\n",
        "\n",
        "def T(t):\n",
        "  return math.cos(2*math.pi/t_max*(t-t_max*max))*14 + 16\n",
        "Tmax = T(t_max*max)\n",
        "def beta_eq(T):\n",
        "  return 0.8 - 0.6/Tmax*T\n",
        "def f(beta, T):\n",
        "    return (beta_eq(T) - beta[0])/tau\n",
        "\n",
        "data = {\n",
        "    \"N\" : N,\n",
        "    \"t_max\" : t_max,\n",
        "    \"beta0\" : beta0,\n",
        "    \"f\" : f\n",
        "}\n",
        "def fnew(beta, T):\n",
        "    return (beta_eq(T) - beta)/tau\n",
        "\n",
        "dataset = dg.generate_dataset([T], data)\n",
        "\n",
        "\n",
        "#def f1(x):\n",
        " # return math.exp(-x)\n",
        "summation = []\n",
        "dt = t_max/N\n",
        "def lossPINN():\n",
        "  #y0 =  tf.constant([[dataset[0][0][0]]], dtype = 'float64')\n",
        "  for i in range(N-1):\n",
        "    with tf.GradientTape() as tape:\n",
        "      t = tf.Variable([[dt*i]],dtype = 'float64')\n",
        "      Temp = tf.constant([[T(t)]],dtype = 'float64')\n",
        "      input = tf.concat([t,Temp],axis = -1)\n",
        "      tape.watch(t)\n",
        "      betatilde = model(input)\n",
        "    betatildedot = tape.gradient(betatilde, t)\n",
        "    #i = i + 1\n",
        "    #y = y0 + dt * model([[y0]])\n",
        "    beta = dataset[1][0][i]\n",
        "    summation.append((beta - betatilde)**2 + (betatildedot - fnew(betatilde,T(t)))**2)\n",
        "    #y0 = y\n",
        "  return tf.reduce_mean(tf.abs(summation))\n",
        "\n",
        "def train_stepPINN():\n",
        "  with tf.GradientTape() as tape:\n",
        "    loss = lossPINN()\n",
        "  gradients = tape.gradient(loss,model.trainable_variables)\n",
        "  optimizer.apply_gradients(zip(gradients, model.trainable_variables))\n",
        "  return gradients"
      ],
      "metadata": {
        "id": "GramPO5SldWL"
      },
      "execution_count": null,
      "outputs": []
    },
    {
      "cell_type": "code",
      "source": [
        "with tf.GradientTape() as tape:\n",
        "  t = tf.Variable([[dt*5]],dtype = 'float64')\n",
        "  Temp = tf.constant([[T(t)]],dtype = 'float64')\n",
        "  input = tf.concat([t,Temp],axis = -1)\n",
        "  tape.watch(t)\n",
        "  betatilde = model(input)\n",
        "betatildedot = tape.gradient(betatilde, t)\n",
        "beta = dataset[1][0][5]\n",
        "((beta - betatilde)**2 + (betatildedot - fnew(betatilde,T(t)))**2)"
      ],
      "metadata": {
        "id": "h9nM3ahvsUj_",
        "outputId": "ea91d54f-b66e-40ab-b77a-49b319a8ce02",
        "colab": {
          "base_uri": "https://localhost:8080/"
        }
      },
      "execution_count": null,
      "outputs": [
        {
          "output_type": "execute_result",
          "data": {
            "text/plain": [
              "<tf.Tensor: shape=(1, 1), dtype=float64, numpy=array([[0.011303]])>"
            ]
          },
          "metadata": {},
          "execution_count": 34
        }
      ]
    },
    {
      "cell_type": "code",
      "source": [
        "#TRAINING LOOP\n",
        "for i in range(training_steps):\n",
        "  gradients = train_stepPINN()\n",
        "  if i % display_step == 0:\n",
        "    print(\"iterazione numero: %i \" %(i))\n",
        "    print(\"loss: %f \" % (lossPINN()))\n"
      ],
      "metadata": {
        "outputId": "23461b21-8168-4abd-c0c6-2458b083cb3e",
        "colab": {
          "base_uri": "https://localhost:8080/"
        },
        "id": "0pVuc6rgldWL"
      },
      "execution_count": null,
      "outputs": [
        {
          "output_type": "stream",
          "name": "stderr",
          "text": [
            "WARNING:tensorflow:5 out of the last 665 calls to <function _BaseOptimizer._update_step_xla at 0x7fbcc49b39a0> triggered tf.function retracing. Tracing is expensive and the excessive number of tracings could be due to (1) creating @tf.function repeatedly in a loop, (2) passing tensors with different shapes, (3) passing Python objects instead of tensors. For (1), please define your @tf.function outside of the loop. For (2), @tf.function has reduce_retracing=True option that can avoid unnecessary retracing. For (3), please refer to https://www.tensorflow.org/guide/function#controlling_retracing and https://www.tensorflow.org/api_docs/python/tf/function for  more details.\n"
          ]
        },
        {
          "output_type": "stream",
          "name": "stdout",
          "text": [
            "iterazione numero: 0 \n",
            "loss: 0.202452 \n",
            "iterazione numero: 1 \n",
            "loss: 0.201427 \n",
            "iterazione numero: 2 \n",
            "loss: 0.200409 \n",
            "iterazione numero: 3 \n",
            "loss: 0.199394 \n",
            "iterazione numero: 4 \n",
            "loss: 0.198387 \n",
            "iterazione numero: 5 \n",
            "loss: 0.197386 \n",
            "iterazione numero: 6 \n",
            "loss: 0.196390 \n",
            "iterazione numero: 7 \n",
            "loss: 0.195401 \n",
            "iterazione numero: 8 \n",
            "loss: 0.194421 \n",
            "iterazione numero: 9 \n",
            "loss: 0.193445 \n",
            "iterazione numero: 10 \n",
            "loss: 0.192476 \n",
            "iterazione numero: 11 \n",
            "loss: 0.191516 \n",
            "iterazione numero: 12 \n",
            "loss: 0.190562 \n",
            "iterazione numero: 13 \n",
            "loss: 0.189615 \n",
            "iterazione numero: 14 \n",
            "loss: 0.188674 \n",
            "iterazione numero: 15 \n",
            "loss: 0.187740 \n",
            "iterazione numero: 16 \n",
            "loss: 0.186814 \n",
            "iterazione numero: 17 \n",
            "loss: 0.185894 \n",
            "iterazione numero: 18 \n",
            "loss: 0.184982 \n",
            "iterazione numero: 19 \n",
            "loss: 0.184078 \n",
            "iterazione numero: 20 \n",
            "loss: 0.183183 \n",
            "iterazione numero: 21 \n",
            "loss: 0.182295 \n",
            "iterazione numero: 22 \n",
            "loss: 0.181416 \n",
            "iterazione numero: 23 \n",
            "loss: 0.180544 \n",
            "iterazione numero: 24 \n",
            "loss: 0.179681 \n",
            "iterazione numero: 25 \n",
            "loss: 0.178827 \n",
            "iterazione numero: 26 \n",
            "loss: 0.177980 \n",
            "iterazione numero: 27 \n",
            "loss: 0.177142 \n",
            "iterazione numero: 28 \n",
            "loss: 0.176313 \n",
            "iterazione numero: 29 \n",
            "loss: 0.175492 \n",
            "iterazione numero: 30 \n",
            "loss: 0.174679 \n",
            "iterazione numero: 31 \n",
            "loss: 0.173874 \n",
            "iterazione numero: 32 \n",
            "loss: 0.173077 \n",
            "iterazione numero: 33 \n",
            "loss: 0.172288 \n",
            "iterazione numero: 34 \n",
            "loss: 0.171506 \n",
            "iterazione numero: 35 \n",
            "loss: 0.170732 \n",
            "iterazione numero: 36 \n",
            "loss: 0.169965 \n",
            "iterazione numero: 37 \n",
            "loss: 0.169206 \n",
            "iterazione numero: 38 \n",
            "loss: 0.168454 \n",
            "iterazione numero: 39 \n",
            "loss: 0.167708 \n",
            "iterazione numero: 40 \n",
            "loss: 0.166970 \n",
            "iterazione numero: 41 \n",
            "loss: 0.166238 \n",
            "iterazione numero: 42 \n",
            "loss: 0.165513 \n",
            "iterazione numero: 43 \n",
            "loss: 0.164795 \n",
            "iterazione numero: 44 \n",
            "loss: 0.164084 \n",
            "iterazione numero: 45 \n",
            "loss: 0.163379 \n",
            "iterazione numero: 46 \n",
            "loss: 0.162680 \n",
            "iterazione numero: 47 \n",
            "loss: 0.161988 \n",
            "iterazione numero: 48 \n",
            "loss: 0.161302 \n",
            "iterazione numero: 49 \n",
            "loss: 0.160622 \n",
            "iterazione numero: 50 \n",
            "loss: 0.159948 \n",
            "iterazione numero: 51 \n",
            "loss: 0.159281 \n"
          ]
        }
      ]
    },
    {
      "cell_type": "code",
      "source": [
        "gradients\n",
        "#model.trainable_variables"
      ],
      "metadata": {
        "id": "qbLFe6NaldWM"
      },
      "execution_count": null,
      "outputs": []
    },
    {
      "cell_type": "code",
      "source": [
        "#PLOT\n",
        "y = np.zeros(N)\n",
        "yex = np.zeros(N)\n",
        "#curr_y = tf.constant([beta0], dtype = 'float64')\n",
        "for i in range(N):\n",
        "    # x = np.array([curr_beta, T(i*dt)])\n",
        "    # print(curr_beta)\n",
        "#    next_y = curr_y + dt * model(curr_y)\n",
        "    t = tf.Variable([[dt*i]],dtype = 'float64')\n",
        "    Temp = tf.constant([[T(t)]],dtype = 'float64')\n",
        "    input = tf.concat([t,Temp],axis = -1)\n",
        "    y[i] = model(input).numpy()[0][0]\n",
        "    yex[i] = dataset[1,0,i]\n",
        "    #curr_y = next_y\n",
        "\n",
        "t = np.linspace(start = 0, stop = t_max, num = N)\n",
        "plt.plot(t, y)\n",
        "plt.plot(t, yex)\n",
        "plt.legend([\"soluzione rete\", \"soluzione vera\"])"
      ],
      "metadata": {
        "outputId": "54193d57-42ab-44ed-bd1f-17e55b521a78",
        "colab": {
          "base_uri": "https://localhost:8080/",
          "height": 448
        },
        "id": "DE6VUXTfldWN"
      },
      "execution_count": null,
      "outputs": [
        {
          "output_type": "execute_result",
          "data": {
            "text/plain": [
              "<matplotlib.legend.Legend at 0x7fbcc48ca680>"
            ]
          },
          "metadata": {},
          "execution_count": 41
        },
        {
          "output_type": "display_data",
          "data": {
            "text/plain": [
              "<Figure size 640x480 with 1 Axes>"
            ],
            "image/png": "[encoded data removed]"
          },
          "metadata": {}
        }
      ]
    },
    {
      "cell_type": "code",
      "source": [
        "model.save_weights('ckptpinn')"
      ],
      "metadata": {
        "id": "HqvCVmn_mgzd"
      },
      "execution_count": null,
      "outputs": []
    }
  ]
}