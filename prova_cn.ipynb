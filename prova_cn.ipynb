{
  "nbformat": 4,
  "nbformat_minor": 0,
  "metadata": {
    "colab": {
      "provenance": [],
      "authorship_tag": "ABX9TyOYvr++3iuyNMppZB3/K8Lu",
      "include_colab_link": true
    },
    "kernelspec": {
      "name": "python3",
      "display_name": "Python 3"
    },
    "language_info": {
      "name": "python"
    }
  },
  "cells": [
    {
      "cell_type": "markdown",
      "metadata": {
        "id": "view-in-github",
        "colab_type": "text"
      },
      "source": [
        "<a href=\"https://colab.research.google.com/github/adrianoracano/Prog-NAPDE/blob/main/prova_cn.ipynb\" target=\"_parent\"><img src=\"https://colab.research.google.com/assets/colab-badge.svg\" alt=\"Open In Colab\"/></a>"
      ]
    },
    {
      "cell_type": "code",
      "source": [
        "import numpy as np\n",
        "\n",
        "class cnc:\n",
        "    def __init__(self, sys,x0,T,N,max_it=15,toll=1e-6,h=1e-2,step=1e-2):\n",
        "        self.sys = sys\n",
        "        self.x0 = x0\n",
        "        self.max_it=max_it\n",
        "        self.toll=toll\n",
        "        self.h=h\n",
        "        self.step=step\n",
        "        self.T=T\n",
        "        self.N=N\n",
        "        self.t=np.linspace(0, T, num=N)\n",
        "        self.u=np.zeros((len(x0), N))\n",
        "        \n",
        "        \n",
        "    def compute_solution(self):\n",
        "        import MyNewton as mn\n",
        "        dt=self.T/self.N\n",
        "        self.u[:, 0]=self.x0.copy()\n",
        "        curr_it=0\n",
        "        while curr_it<self.N-1:\n",
        "            curr_t=self.t[curr_it]\n",
        "            curr_u=self.u[:,curr_it]\n",
        "            def sys_for_newton(x):\n",
        "                return x-curr_u-dt*0.5*( mn.compute_sys(self.sys, x, curr_t+dt)\\\n",
        "                                        +mn.compute_sys(self.sys, curr_u, curr_t) )\n",
        "            curr_it=curr_it+1\n",
        "            self.u[:,curr_it]=mn.my_newton(sys_for_newton, curr_u, \\\n",
        "                                      self.max_it, self.toll, self.h, self.step)\n",
        "        del mn\n",
        "    \n",
        "    def get_solution(self):\n",
        "        return (self.t, self.u)\n",
        "    \n",
        "    def plot_solutions(self, legend=[]):\n",
        "        import matplotlib.pyplot as plt\n",
        "        for i in range(len(self.x0)):\n",
        "            plt.plot(self.t, self.u[i,:])\n",
        "        if len(legend)==len(self.x0):\n",
        "            plt.legend(legend)\n",
        "        plt.show()\n",
        "        del plt\n",
        "    def plot_3d(self, legend=[]):\n",
        "        if len(self.x0)==3:\n",
        "            import matplotlib.pyplot as plt\n",
        "            ax = plt.figure().add_subplot(projection='3d')\n",
        "            ax.plot(self.u[0,:], self.u[1,:], self.u[2,:])\n",
        "            if len(legend)==3:\n",
        "                plt.legend(legend)\n",
        "            plt.show()\n",
        "            del plt"
      ],
      "metadata": {
        "id": "XaXEIAkSgqD7"
      },
      "execution_count": 1,
      "outputs": []
    },
    {
      "cell_type": "code",
      "source": [
        "# -*- coding: utf-8 -*-\n",
        "\"\"\"\n",
        "Created on Sun Mar 19 10:59:28 2023\n",
        "\n",
        "@author: alean\n",
        "\"\"\"\n",
        "\n",
        "# import matplotlib.pyplot as plt\n",
        "import numpy as np\n",
        "import matplotlib.pyplot as plt\n",
        "import math\n",
        "\n",
        "def beta(t):\n",
        "    return math.sin(t)\n",
        "def alpha(t):\n",
        "    return 3.0\n",
        "def dS(sir, t):\n",
        "    return -beta(t)*sir[0]*sir[1]\n",
        "def dI(sir, t):\n",
        "    return beta(t)*sir[0]*sir[1]-alpha(t)*sir[1]\n",
        "def dR(sir, t):\n",
        "    return alpha(t)*sir[1]\n",
        "sir_0=np.array([400., 10., 0.])\n",
        "\n",
        "sys=(dS, dI, dR)\n",
        "T=10.\n",
        "N=500\n",
        "legend=[\"S\", \"I\", \"R\"]\n",
        "\n",
        "def dx(xyz, t):\n",
        "    return 10.0*(xyz[1]-xyz[0])\n",
        "def dy(xyz, t):\n",
        "    return 28.0*xyz[0]-xyz[0]*xyz[2]-xyz[1]\n",
        "def dz(xyz, t):\n",
        "    return xyz[0]*xyz[1]-2.7*xyz[2]\n",
        "\n",
        "sys_lorenz=(dx, dy, dz)\n",
        "xyz_0=np.array([1., 1., 1.])\n",
        "\n",
        "\n",
        "\n",
        "\n",
        "cnsolver= cnc.CrankNicolson(sys_lorenz, xyz_0, T, N)\n",
        "cnsolver.compute_solution()\n",
        "cnsolver.plot_solutions(legend)\n",
        "cnsolver.plot_3d()\n",
        "\n",
        "\n",
        "del cnc, np, plt, math"
      ],
      "metadata": {
        "colab": {
          "base_uri": "https://localhost:8080/",
          "height": 387
        },
        "id": "qRJGkCEGgrGr",
        "outputId": "b93eb57d-da2d-44e4-858b-18926340d213"
      },
      "execution_count": 4,
      "outputs": [
        {
          "output_type": "error",
          "ename": "ModuleNotFoundError",
          "evalue": "ignored",
          "traceback": [
            "\u001b[0;31m---------------------------------------------------------------------------\u001b[0m",
            "\u001b[0;31mModuleNotFoundError\u001b[0m                       Traceback (most recent call last)",
            "\u001b[0;32m<ipython-input-4-4165bcc94055>\u001b[0m in \u001b[0;36m<cell line: 41>\u001b[0;34m()\u001b[0m\n\u001b[1;32m     39\u001b[0m \u001b[0;34m\u001b[0m\u001b[0m\n\u001b[1;32m     40\u001b[0m \u001b[0;34m\u001b[0m\u001b[0m\n\u001b[0;32m---> 41\u001b[0;31m \u001b[0;32mimport\u001b[0m \u001b[0mCrankNicolson\u001b[0m \u001b[0;32mas\u001b[0m \u001b[0mcnc\u001b[0m\u001b[0;34m\u001b[0m\u001b[0;34m\u001b[0m\u001b[0m\n\u001b[0m\u001b[1;32m     42\u001b[0m \u001b[0;34m\u001b[0m\u001b[0m\n\u001b[1;32m     43\u001b[0m \u001b[0mcnsolver\u001b[0m\u001b[0;34m=\u001b[0m \u001b[0mcnc\u001b[0m\u001b[0;34m.\u001b[0m\u001b[0mCrankNicolson\u001b[0m\u001b[0;34m(\u001b[0m\u001b[0msys_lorenz\u001b[0m\u001b[0;34m,\u001b[0m \u001b[0mxyz_0\u001b[0m\u001b[0;34m,\u001b[0m \u001b[0mT\u001b[0m\u001b[0;34m,\u001b[0m \u001b[0mN\u001b[0m\u001b[0;34m)\u001b[0m\u001b[0;34m\u001b[0m\u001b[0;34m\u001b[0m\u001b[0m\n",
            "\u001b[0;31mModuleNotFoundError\u001b[0m: No module named 'CrankNicolson'",
            "",
            "\u001b[0;31m---------------------------------------------------------------------------\u001b[0;32m\nNOTE: If your import is failing due to a missing package, you can\nmanually install dependencies using either !pip or !apt.\n\nTo view examples of installing some common dependencies, click the\n\"Open Examples\" button below.\n\u001b[0;31m---------------------------------------------------------------------------\u001b[0m\n"
          ],
          "errorDetails": {
            "actions": [
              {
                "action": "open_url",
                "actionText": "Open Examples",
                "url": "/notebooks/snippets/importing_libraries.ipynb"
              }
            ]
          }
        }
      ]
    }
  ]
}